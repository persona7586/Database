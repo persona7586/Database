{
  "cells": [
    {
      "cell_type": "markdown",
      "metadata": {
        "id": "view-in-github",
        "colab_type": "text"
      },
      "source": [
        "<a href=\"https://colab.research.google.com/github/persona7586/Database/blob/main/chapter07_13.ipynb\" target=\"_parent\"><img src=\"https://colab.research.google.com/assets/colab-badge.svg\" alt=\"Open In Colab\"/></a>"
      ]
    },
    {
      "cell_type": "markdown",
      "metadata": {
        "id": "9Nmax6BLJjq3"
      },
      "source": [
        "[문제10]\n",
        "\n",
        "데이터 제어 언어(DCL)인 GRANT에 대한 설명으로 옳은 것을 골라주세요\n",
        "\n",
        "- 사용자에게 특정 작업을 수행할 권한을 부여한다.\n",
        "- 사용자로부터 특정 작업 수행 권항을 제거한다.\n",
        "- 다른 사용자에게 동일한 권한을 전달할때 사용한다.\n",
        "- 부여된 권한 중 일부를 제한할때 사용한다."
      ]
    },
    {
      "cell_type": "markdown",
      "metadata": {
        "id": "Sy8b_3jsJjq4"
      },
      "source": [
        "정답 :사용자에게 특정 작업을 수행할 권한을 부여한다."
      ]
    },
    {
      "cell_type": "markdown",
      "source": [
        "SQL의 주요 언어 유형  \n",
        "**DCL (Data Control Language)**: 데이터베이스 사용자의 권한을 관리하고 데이터 접근을 제어하는데 사용되는 언어입니다.  \n",
        "    - **`GRANT`**: 사용자에게 특정 데이터에 대한 접근 권한 부여  \n",
        "    - **`REVOKE`**: 사용자의 특정 데이터 접근 권한 제거"
      ],
      "metadata": {
        "id": "F0LNCT6hJ_by"
      }
    },
    {
      "cell_type": "markdown",
      "metadata": {
        "id": "VpF4JyyGJjq4"
      },
      "source": [
        "[문제11]\n",
        "\n",
        "테이블을 생성하기 위해서 사용되는 sql문을 선택해주세요\n",
        "\n",
        "- CREATE TABLE\n",
        "- CREATE NEW TABLE\n",
        "- ADD TABLE\n",
        "- UPDATE TABLE"
      ]
    },
    {
      "cell_type": "markdown",
      "metadata": {
        "id": "0tQ0Kj4ZJjq4"
      },
      "source": [
        "정답 :CREATE TABLE"
      ]
    },
    {
      "cell_type": "markdown",
      "metadata": {
        "id": "DI6Xv4BMJjq5"
      },
      "source": [
        "[문제12]\n",
        "\n",
        "테이블 생성 시 컬럼(속성)에 값이 항상 존재하도록 설정하는 명령어를 선택해주세요\n",
        "\n",
        "- IS NULL\n",
        "- NOT NULL\n",
        "- IN NULL\n",
        "- NULL"
      ]
    },
    {
      "cell_type": "markdown",
      "metadata": {
        "id": "Cesg2m_fJjq5"
      },
      "source": [
        "정답 : NOT NULL"
      ]
    },
    {
      "cell_type": "markdown",
      "source": [
        "NOT NULL 제약 : 해당 칼럼에 NULL 값을 허용하지 않도록 합니다. 즉, 해당 칼럼에는 항상 값이 존재해야 합니다.  \n"
      ],
      "metadata": {
        "id": "R53HRPAxSl3l"
      }
    },
    {
      "cell_type": "markdown",
      "metadata": {
        "id": "dEvuXEPTJjq5"
      },
      "source": [
        "[문제13]\n",
        "\n",
        "테이블 생성 시 컬럼(속성)에 중복된 값을 허용하지 않도록 설정하는 명령어를 모두 선택해주세요\n",
        "\n",
        "- UNIQUE\n",
        "- DEFAULT False\n",
        "- PRIMARY KEY\n",
        "- AUTO_INCREMENT"
      ]
    },
    {
      "cell_type": "markdown",
      "metadata": {
        "id": "T4wUGfPsJjq5"
      },
      "source": [
        "정답 :UNIQUE, PRIMARY KEY"
      ]
    },
    {
      "cell_type": "markdown",
      "source": [
        "UNIQUE 제약 : 해당 칼럼에 중복된 값을 허용하지 않습니다.  \n",
        "DEFAULT 옵션 : 새로운 레코드가 삽입될 때 해당 칼럼에 지정된 기본값을 사용합니다.  \n",
        "PRIMARY KEY : 테이블의 주요 식별자(primary key)를 정의합니다. 주로 유일성을 보장하고 검색 속도를 향상시키기 위해 사용됩니다.  \n",
        "AUTO_INCREMENT : 숫자 자동 증가 속성을 가진 칼럼에 사용됩니다. 이 옵션을 사용하면 해당 칼럼의 값이 자동으로 1씩 증가합니다."
      ],
      "metadata": {
        "id": "YM4AYc-IOpUy"
      }
    },
    {
      "cell_type": "markdown",
      "metadata": {
        "id": "h0kEutZ3Jjq5"
      },
      "source": [
        "[문제14]\n",
        "\n",
        "데이터베이스의 숫자형 데이터 타입이 아닌것을 선택해주세요\n",
        "\n",
        "- BIT\n",
        "- INT\n",
        "- CHAR\n",
        "- BIGINT"
      ]
    },
    {
      "cell_type": "markdown",
      "metadata": {
        "id": "S5Q6_yRmJjq6"
      },
      "source": [
        "정답 :CHAR"
      ]
    },
    {
      "cell_type": "markdown",
      "source": [
        "BIT(M) : 0과 1로 구성된 이진값, M은 1~64 사이의 값.  \n",
        "INT(M) 또는 INTEGER(M) : 4바이트 정수, 부호 있는 수는 -2147483648 ~ 2147483647, 부호 없는 수는 0 ~ 4294967295.  \n",
        "CHAR(M) : 고정 길이 문자열 저장 (M: 0 ~ 255).  \n",
        "BIGINT(M) : 8바이트 정수, 부호 있는 수는 -92233720036854775808 ~ 92233720036854775807, 부호 없는 수는 0 ~ 18446744073709551615."
      ],
      "metadata": {
        "id": "6gck77sBOLgJ"
      }
    },
    {
      "cell_type": "markdown",
      "metadata": {
        "id": "6v93nptJJjq6"
      },
      "source": [
        "[문제15]\n",
        "\n",
        "날짜와 시간을 같이 나타내는 데이터 타입을 선택해주세요\n",
        "\n",
        "- DATE\n",
        "- TIME\n",
        "- DATETIME"
      ]
    },
    {
      "cell_type": "markdown",
      "metadata": {
        "id": "FLpcUi66Jjq6"
      },
      "source": [
        "정답 : DATETIME"
      ]
    },
    {
      "cell_type": "markdown",
      "metadata": {
        "id": "M5lKhNEoJjq6"
      },
      "source": [
        "[문제16]\n",
        "\n",
        "CHAR과 VARCHAR의 차이로 옳은 것을 선택해 주세요\n",
        "\n",
        "- 저장할 수 있는 데이터 종류(문자, 숫자)가 다름\n",
        "- 데이터를 담을 수 있는 공간이 고정인지 가변인지의 차이\n",
        "- 문자열 값을 정수로 표현할 수 있는지의 차이\n",
        "- 한번 입력된 데이터의 수정 여부의 차이"
      ]
    },
    {
      "cell_type": "markdown",
      "metadata": {
        "id": "C4gY5tOjJjq6"
      },
      "source": [
        "정답 :데이터를 담을 수 있는 공간이 고정인지 가변인지의 차이"
      ]
    },
    {
      "cell_type": "markdown",
      "metadata": {
        "id": "JUpHoMi5Jjq6"
      },
      "source": [
        "[문제17]\n",
        "\n",
        "데이터베이스 내의 트랜잭션을 관리하는데 사용되는 언어를 선택해주세요\n",
        "\n",
        "- DCL\n",
        "- DML\n",
        "- TCL\n",
        "- DDL"
      ]
    },
    {
      "cell_type": "markdown",
      "metadata": {
        "id": "nui3LRfVJjq6"
      },
      "source": [
        "정답 :TCL"
      ]
    },
    {
      "cell_type": "markdown",
      "source": [
        "SQL의 주요 언어 유형  \n",
        "1. **DDL (Data Definition Language)**: 데이터베이스의 구조를 정의하는데 사용되는 언어입니다.\n",
        "    - **`CREATE`**: 새로운 테이블이나 데이터베이스 생성\n",
        "    - **`ALTER`**: 기존 테이블이나 데이터베이스 구조 수정\n",
        "    - **`DROP`**: 테이블이나 데이터베이스 삭제\n",
        "2. **DML (Data Manipulation Language)**: 데이터베이스 내의 데이터를 처리하는 데 사용되는 언어입니다.\n",
        "    - **`SELECT`**: 데이터베이스에서 데이터 조회\n",
        "    - **`INSERT`**: 테이블에 새로운 데이터 추가\n",
        "    - **`UPDATE`**: 테이블의 기존 데이터 수정\n",
        "    - **`DELETE`**: 테이블에서 데이터 삭제\n",
        "3. **DCL (Data Control Language)**: 데이터베이스 사용자의 권한을 관리하고 데이터 접근을 제어하는데 사용되는 언어입니다.\n",
        "    - **`GRANT`**: 사용자에게 특정 데이터에 대한 접근 권한 부여\n",
        "    - **`REVOKE`**: 사용자의 특정 데이터 접근 권한 제거\n",
        "4. **TCL (Transaction Control Language)**: 데이터베이스 내의 트랜잭션을 관리하는데 사용되는 언어입니다.\n",
        "    - **`COMMIT`**: 트랜잭션을 완료하고, 데이터베이스 변경사항을 영구적으로 저장\n",
        "    - **`ROLLBACK`**: 트랜잭션을 취소하고, 마지막 **`COMMIT`** 이후의 모든 변경사항을 되돌림\n",
        "    - **`SAVEPOINT`**: 트랜잭션 내 특정 지점을 마킹하여 필요시 그 지점으로 되돌릴 수 있음"
      ],
      "metadata": {
        "id": "nFfjd5RxQTuD"
      }
    },
    {
      "cell_type": "markdown",
      "metadata": {
        "id": "gFOe0Xo1Jjq6"
      },
      "source": [
        "[문제18]\n",
        "\n",
        "칼럼에 저장될 수 있는 값의 범위나 조건을 지정하는 명령어를 선택해주세요\n",
        "\n",
        "- IN\n",
        "- WHERE\n",
        "- CHECK\n",
        "- ON"
      ]
    },
    {
      "cell_type": "markdown",
      "metadata": {
        "id": "k8vN1cGOJjq6"
      },
      "source": [
        "정답 :CHECK"
      ]
    },
    {
      "cell_type": "markdown",
      "source": [
        "WHERE 조건: 어떤 레코드를 업데이트할지 결정하는 조건  \n",
        "CHECK : 제약은 해당 칼럼에 저장될 수 있는 값의 범위나 조건을 지정합니다.\n"
      ],
      "metadata": {
        "id": "aTdND2UdR075"
      }
    },
    {
      "cell_type": "markdown",
      "metadata": {
        "id": "v4WmpIioJjq6"
      },
      "source": [
        "#### 프로젝트 개요\n",
        "\n",
        "이 프로젝트는 사용자 정보와 주문 정보를 관리하는 간단한 데이터베이스 시스템을 구축하는 것입니다.\n",
        "\n",
        "이를 통해 MySQL의 사용자 관리, 테이블 생성, 데이터 타입, 제약 조건 등을 실습할 수 있습니다.\n",
        "\n",
        "##### 프로젝트 구성\n",
        "1. MySQL 사용자 생성 및 권한 부여\n",
        "2. 데이터베이스와 테이블 생성"
      ]
    },
    {
      "cell_type": "markdown",
      "source": [
        "![image.png](data:image/png;base64,iVBORw0KGgoAAAANSUhEUgAAAmUAAAJoCAIAAACocwGuAAAgAElEQVR4Aey9eXxUx5nvrfyZvH+8czPJ3GQyeWdC7tzXmcmd+857P5k4unmJmZCJHWc84ziOE8eJNyKssNkDsvECGG+AMdACg20MmMXIMphFEjSSUKsloV1ICCQhpNa+t3a0C8fud6rq1HrqdJ9Wd0tq9JyPoOvUqXrqqW+dU79TdU53xQwNjQwNjXxhfeXt+tfd3QN/QAAIAAEgAARCITA0NBITSC9b3D6+teTURUxWW9y+qQO7wy/boQCCvEAACAABIAAEurt7Aupl3YE+n/sE17B116XdMGknKgVvoJcwFAYCQAAIAIH5SCCQXu7uaenruVucqjXHiEdDCtcd6AO9nI9nCdxaAgEgAASAQAC9vDtnyjQB2+L2Da9bX/mFE8O+6y1kfMkGnXfnTBlTt0RlTwz7+qZafD7f9R5xnLruus9ktvIL64PQy29tu77F7f2brdfZAPdvt9ducXu/8UYNi2EBaGYgAASAABAAAiESCKteCgpqCO2JYR8RV0lfqeKqg9Eg9PIL6yv/MbGOSSYRy7/beYNppBgIkRFkBwJAAAgAASAQvF4yCRTUkYwv113nrwWh0PUWNAbl07lUJk8M6waXwY0viRwSybzrvYYtbq+VWH5hfSU0MxAAAkAACACBEAkE0MsviE8r2eQqm2uV52M1s6ySXlbenTPlPlG57rrVQ8rgxpdEMn/2QWNiQd8/728QB5RKOERGkB0IAAEgAASAQCC9RM8U+bNG8njSeF2WSyn6wgmKZEPP9UgaTePLSqS+14fdfMTJX7vFChe0Xv7t9tqtOd5/O9LEJmYVpSS70MxAAAgAASAABEIkEFAvK7+wXvr+pTHRih49si+BDLvpl0x07/uIr9dK6mvStuD08v9+C4klmYYVn2WazMJ8LLxzCwSAABAAAqESsKOXoY4CBQGjjzDVN32UIgLv/p+bqjZmdovPLP8xse6F9K7/Y8M1oTjDToj3FJAdCAABIAAEgMAM9DKwmJkVC8Wg2Vo+tatPE7KOas1CMwMBIAAEgAAQCJHALOplZLRQK5BKZIiMIDsQAAJAAAgAAdDLUGe04RwCAkAACACBhUAA9BL0EggAASAABIBAYAKgl4EZLYT7JqgjEAACQAAI+CewIPRSeZwJu0AACAABIAAEgiUAejnT133n7vWlYNsY0gMBIAAEgEDoBLheDg8P/wk2IAAEgAAQAAJAQCYwjDeul/JR2AMCQAAIAAEgAAQMAsPDw1wvP4UNCAABIAAEgAAQsCAAemkBBqKBgDWBmPW1of9Zm0dH0A81wzYrBPw3BBwFAowA6CVDAQEgYJdAzPpau0kt0gW0MCtKcfsXEnAy0efzWTQRRAMBlQDXy1sLYxsbGXp3408+SnzM/Ldtxd/lpSUGi2Fycvy9l+82W/so8bHtq/9nZvJm+wYnJ8f3v3yPlamMj162b4qlbGhoyBK2DLylp6d3d3ezNDMITE5OFhUVffTRR0cCbR9//HFlZeUMihCzjI6OXrlyJSsrKz09PTMzMyMjIysr6+rVq+Pj42Iy++Hx8fFr165lZWVduHAhMzPzwoULWVlZFRUVIyMjdozErK+9devW+Ph4cnLyunXr/hhoe+6555xO5/T0NDNOLLBdc+D2l7JZqaEdvTTDhxgtgbBf9WE3qHU7jJEz0Ut3ee1Lh86xv/SS6jA6FGlTOSk7G2syb022KX8VuQfyne/MoPRS1+Ga0pOKtVuTbddLk12ntgVlsNR1uLrkxK3JtpEhT8VlV0526uXSrOGBOmTqk61BmSKJGxoaXC5XZWVlSUlJRUVFUVHRFbxVVlZmZGR0dXXNwCbJkp+fX1JSMjk5+VmgbWRkpLCw8OrVqzMuq66uLiMjo7Ky8tq1a5WVlVeuXGHhjIyMGzduBGu5oaHhwoULzAgzeO3atYyMjOrqwOczUbuPPvrolVdeOXToUFJS0inr7ezZs/v379+8efPFixeZq6CXsyKXvojq5aef9rMGneeBmzdvVlRU5OTkXL58eWhoaGbehv2qD7vBmdXLfq6Z6KXj48x3L15lf68dTrNfnjblkjXb7fxp84qRLpdL3DWHx8dGjr318NRIxeTQJfHvat6uooz3zekDxkxNThzZ+uDUSKVobXLoUl3puzlndwTMLiaYmpw4vO3B8aGKT5LfXr16VXx8/DPPPB0fH79y5Ypd216YmJgQE9sJk5FlcXGx0+nMz89PT08vKyvLyMhwOp0ZGRkk3NnZGdCUlurhw4enp6dHhoY+fv2N9bGx8d/+9os/+lHa7t2TExPT8nbr1q3+/v7Tp0/7KUhbBElfUVGRn59fWVlZVlZWIm9lZWWVlZX5+fkVFRV+jCuHrl27lpeX58dgUVFRSUmJkkvZJWqXkJBw+vTpjIyMnJycS5cuZZw7efDNx47siiN/h7Y/8eE7z5eXl+c1F1y+fPnYsWNvvvkms2PWSwXC7MjJbV+KOqFm2vf5fKxRSEBpCOWosDs5PXkj8917hnsbhUhbQdtFaKw1Xy/btfLOgy/dO9QX+OK9devW5OTk6dOnV69ejbuUZ3CXsjI5OXkGXQq56sn1PTAwcODAgRdeeOFZYbt58yY5aueqv3XrlmhQ7jbUPZsGNbzCGsX1UnXQYv/DjOJfb9q/9ZM89veLF995MylD+5deXGVhRopesmb7x3lXlqzZnn+tvqW7T/zLv1bPjkp5dDsul8vn8+mOGHF5abtrL5+YGHSLf9eL95RcPOQnl59DZdlHK3IPidYmBt0NVw7kpjr85NIeuuw+Vp5zcO/u11euXJGa8vHIUOufbvX399Sf/uT4qlWrdu3aNT4+rs2ojWxsbMzKyiopKTl37tzFixe9Xm9ZWZnX67148SKZkmWS2dHRobXAIrVUjxw+PD4ysvnuu9/55l/nfvnPy/7sz7K/8tU9X//6rt8/Oj42Nilvw8PDScePM4PmgLaI6enp+vr6/Pz88vJyWSilvYqKiry8vLq6OrNZc0xzc3NeXl5FRUVJSUk+3pitoqKivLy8kpKS8vLyoqKi69evm7OzmJj1tf8Zfv755y9dulRaWnoZb0d2xk2MtP1puv9P0/3T491nDq4ruJRzJOPDh0f+5sNTxy9cuPDaa68pFtju9PS0AmHeKZnH4/HITtmJkXPM/p5JH9UIc4+hNITYRmL41q2Bzrqj+cd/dDVzmxhvJ2yzCGKqvDDr3Ievnjv2RnWZu+n65V2rfrT1ye9ufezbFe6kgGVNTk7u27dv5cqVaWlpo6OjU1NT4+PjmZmZM+hSpqenjxw+/Omnn5KL+9ChQ+wpRFdX1+Tk5B//+MehoSF26Qe86hWDLKNVwI7BgEBCTBC0Xv7mtQ+KmgZt/q3a9ZEd/5as2X40u3zJmu0t3X3KFdXS3ceOBjTl/ywcG735wdYHhrvO9NbvJH99nkRPxd4kx+8q80+yv97OhoAFkQSTkxOH3rh/uDtVMLirpfr9o9t/xaxV5p/saq0JaJCYupC6Z+XKFbVV7k8nu3v6eutavQ0treNjwzdqKlevXnXo3Z12TE1PTzOxTE9P7+rqqqio8Hq95eXlXq+3pKSku7s7KMnUUj106NDJLVve+eZfD2XndO5+u+LPv9L7yan2N99yfP0vMw8dGhO28fHxwcHBY8eO+YGgLWJsbOzChQsVFRXFFlt+fr7L5SouLr5y5cr58+cD3k9MTEycP3/+ypUrxcXF+fn5ZByZn59fXFxcWFhIdDQvL6+4uLiiosLpdLKbZbPnRC83btxYXl5Oprjzcy5kn359YihvYjBntC/r7MGVl0uRY4cOHVr3YsKhQ4fy8vK2beMdK7EgWlYgSBeCxxEb61DUSkoQ9h2PIy4mzknNOuNiY2Ji0T8aZyeG5p7LT1UeTfsh6GXb1Yz4zqvxqW99X2xHO2Glra2yTIyPXc547+T7r2Z9/MrVnIMXk7e9s/mxbXH/tPXJ7+5Zc6e3vd4qI4vPyspatWqVx+P5/PPPP/3008rKyqmpqc8//7ytrW316tXnzp1jKe0EDh1C4wpyca9evTqObu3t7WNjY3Fxcf39/eSonat+enpaNCj0GZqgTYN2ahFKmqD18sGX38+t77X5t3zbETvOLVmz/f2MUj96SY4GNOX/LCy4sO9qwQctRY815N5P/rw33uyo+7itPqfNk9fmyavIO5y06/cT46MBCyIJynOTSi7ubS2Na8i9vz7n33OTf9pV9Wp5/r6WWhcxWFWcfHTbg2OjwwENIlOZb7/w3Mqjh3ZNj3V8Oj1Y09zT2Tdc6en706dTn06PJycdfXr1itGbQwFNTU9Pu93ukpKSdLx5vd7Kyko2viwpKfF6vUwvySizsLDQj1kt1ffff/+5H9yZ++U/b9/p8Pl843X1vs8/b3p6XeZ3v+s6cmRE2EZHRwcGBvxPvGiLqKmpKSkpKbLYyFjQ4/Hk5OQUFxeXlJTU1qIxn5+trq6uqKiouLi4qKiorKysq6uru7u7pKQkNzc3Ly+vs7OTsCIFksleK2tE7V599dWrdDuWGN9Zvb217Km28lW1xW9ln34tJ3XXoW2/LS3KKy8vv3r1amFh4Y4dO5jBkPTSv3ySo+Y05hi9kHkcsTF4o9rIM9IQ/fT5aIh+8hi98dmONemjGjFTvRybGL2ac/j/+3Tg1fTE73Y3lbCWtRPQnvBixsmJ8ZrLWR86VriOPj1U9lrWiddTD2/KTXvn5KHNW9f+YvczP+puDXC2E2sbNmxISkr6HG99fX1VVVWdnZ1k98yZM88+++zU1JRYrv/w+++/PzU1RS7up5Yvf+Lxx8lfa2vryMjIE48/3uv1kqN2rvrp6WnR4CrTNjIyQuJGRkZsGvTvf+hHuV5O2dse3PR+Rk2Xzb/l247YsbpkzfY9aYVL1mxv7PB+9vnn7JL67LPPGzu87GhAU+Qs1CYbG7154JWf9ze863Hdbf5rKXqitfrAyX1x42Mj2uzmyMnJiQOv/mt/0xGP6+66rJ/et/Sbq5f/9N9+8n/FP77kvqXfbMz/bUftB8mJvxsdGTLnVWKwqfuar70fHx9fXnhibKDiZs+lT9IzE5PzkpxZI71FEyOthbnn4uPjW1tblbzaXZfLlZ6e7sSbopdkVpYcIv9nZGTk5+dr7ZBILdV33303/tvfLvuzP6v486+MXa/1+XyDruyrd/z91VdedfzPb3z4vb84/r2/OHXn147dG9vb1dnf33/o0KFgi8jKyiovLyezpvn5+Xl4I7u5ublkoNzd3V1TU0PmbLOzs/0UMTU15Xa7ydNQ8pZBY2NjN94qKiqIWLa0tLASyfNdK4Mx62unpqa2bt1ag7fSwmz3J+s9Of/qcf/ck/NvjXkPtpb+0fXx2vzsVJKgpqamtLQ0MTGRGSQW2O7U1JTCmV0FKMDVSIr2t2POYo7xl9/Jx5fmoJ0Yf8Zn75gqj6Z9n88ntoK5IcjR6enBkaGGvvZC8tffkdt4eXu9+9ef9W1szH2oLHUNife2FntbSwZ7PIpNZVdpa3K0v7erp7PFc70868y7iRt+s+/lh2rOre0teCnnwKOlSU+5T+36aO+Gkwe37t227uj7OxWD2l2v1xsfH19dXU3eyUtLS2tsbPzwww/JbkNDg/0uhdh/9913Jycnh/C2f//+R+jW1NQ0NDT0yCOPdHV1kaPDw8MBr/qpqSnR4DOmjZh66qmnhoaGbBrUcghj5Ez08mxFq80/+3q5/VTOPz/91vnCysYOL3t+2djhPV9Y+eNn3tp+KmfJmu0Bq609C0muggvvlrn2dldtbC9f3X55Vf3Fn7C/5vzfNF9568TeJ+2L5dTUVEVe8qW0bT01r7SXr24qXvGLe76Vn3Nuamoi05n8i3v+tunK9mTHw3bEEpm69PGltG3V+Zvi4+PrqjJyi7Mv5GSVlp4b6cm9VpmZXlB+NvNSV1dnfHx8fX19QAjkgnc6nefw5vV6a2trvV5vdXW11+u9du2a1+s9d+7c2bNnU1NTz507NzO93Ldv3wuLF7u/+l97Pznl+/zzgcwsn8/XefHiwX/42vUH/65s2ZLLK39+4+Hv9vz+H07d98Ou1pYD+M7Uynltw50/f549ZczNzc3JycnDGxlQEqnzeDxFRUVE/5xOp5V9Eu90OplBMg3b1NT0n30K2dra2srKypg8FxcXnzt3zsogUbsdO3bcwNvJAy8e3vbvSdv/pbnw9/UXf1Ka+qtXXn/59T2nd7yX4s4tImnKy8v37dvHDIakl0T50P9xcWimNCbW4XTgKdM4pweLK4lGB+gsLh01khgPTo5y0kGkKmFcEkWd5SVTw1Yxhj3uZJxTKRR5REpnZRkB5mscLUX1zvY+e9uDDJnZ/yzetl72tVx9u+ijJSUnlpK/eveD401r/tSZ8GnrMw0X/+3i7u+e3/btc1u/lfL6X186vow1tDagPeG7O5p3vvTbl//4z++8dF/Bsac63evzPng0ecu/1p1fM1i8qfrUmqwTu46/uzHl6FvPr3m0qalBa1mMbG1tjY+Pb25u/uyzzxobG9PS0iorKw8cONDR0fHZZ591d3fb71KI2X379o2Pj/fjra+vLy0t7fnnn3/ooYfq6+v7+/sfeuih9vZ2cnRgYKCvr8//VT81NSUaJBnN/z/x+OP9/f02DYrVj0Q4aL385cb9SUUNNv/s6+UrxzOXvXX8x0+/pbwo++On31r21vFXjmeGopcT42NvP/+/kx0PHt/xs+Pb7+6t3+7J+hfy13TpoabyN068/URQYjk5Ofn+5p8e3/VA0o6fHdm6tM+z03kg9sF7vjE+NvKre7916fxzSY5f2xTLqakpYurY9ntXrIjPyz69Kyk3u6zmvNs12ltQcrUy6cK1d1I9FRUVK1asGBgYsHMSuFwuUS+pIvDPM2fOVFZWdnd3k+8yzmB8+faePSmJu/f+1Td7T5xsenrdlb/4i+HComPf/3bvL++o3ra2Mz+zKz+zdveLQ0/+o/fRfzh//+L33nvPj+fa7uP8+fPksWJeXl5RUVFnZ2dXV1dOTk5RUZEolkREi4qKzp8/76eIqakpp9NJXuphultYWMigVFZWulwucigvL6+wsDCgXu7Zs8cjbGfef8rjvvfM0ScSz9TtujCyNe3mW86RxJTGYyczPR5PZWUlmX0iToZHL4keInnBMihqFwmLusJjiFIhJeWaJaZEYaZh0uBWLIHksIox7BHfnB5alFgodcgZFxODldOIoEVbO6c6a73PdPHWrVtmsbx165ZNvZyampqc6K+9tKky9Z7+yic+bXv609Y1nzav+rR+2a2qh29VPnTryoNDl+7N3/d3rgO/HBns8n8qak94kqXqUvLFdx45/to9b6/9YfaBR4bLXm7NfDbnvSfqUp9pc21IS3rr+Dubt21cWVZS6L8IMnG6atWqgoKCzz77jIhlZWVlZmZmXl7eZ599FlSXQsp6e8+e0dFRdsmQwP3330/uyO+///6WlhYS2dvb6/V6/V/1U1NTWoNer/fq1atbtmwhph7+zW+8Xq9NgwGZhJhgJnp5MLfW5p99vXz+g/Obj1+0+nv+g/Oh6KXIKP34sx1X1jS4f97g/nlLwcMNl18+sffxoMRStDY1NZXx0QudVxMa3D//1c/+enxs5KH7/1fSriDEUrT2ysZnXnv1pb0n3Y7k3LzS3LGhmpz8/D2n6/afa3zrrbd2vBV4hE2sBdTLmpoar9dbV1d37ty59PT0GehlosMxNDCw7aGHEr/+l2lf+Uru1//q2muvF3z/695//dvOvIyuQhf6K7jY9Jvvtj/yP4qWfvsdYWglVpk5bO62zp8/n5+fn4u3oqIicil2dnYysWRHc3NzCwsL7Ywvi4qKiEG32+1yuTo6Orxeb1tbG7FJXiAiCfLz89PS0syukhiidu+9914T3a6U5lxOX1uf98jmwyWvnOp/+aR386n+Z9658ty7BdtO3ii/UlVdXX348GFmMDx6SQeLxttAonZRMeJSwmJYwN9MLxUteTJYLIFYtooxymVlsYBQKCnDGRfrcDjQQBeFDGWNiY2NczjVN3J5ZeyGRL0kkqnEmE88P2I2NTXeVvNh7tElLe5f3Lrx+HT5A9Ol902X/Hy66GdNp76f8ea3rmRsmZwYZ61sFfBTRE9HY8bxV4uPP9V76cX68/9xzvFwyo5ft7uerzq77szOZVdOrv344Jtr//jb3t4eK+Ni/N69e19//XWv10s08rPPPhseHj5w4MCf/vSnoLoUYjPR4RgZGemSt3vvvbe6urqrq+vee+9tbGwkB7vxssv+r/qpqSmzwfr6+l27dj3wwAMPP/wwMXX//feTVw16ursDGhTrHonwDPTyvXcuVtn8s6+Xz+w/u/6D8w9ufCf2Dy//YNkm8hf7h5cf3PjO+g/OP7P/bFj0sruttvTim63Fv2/K/1VryWOe0pdOvB2SWA72deSlbm4tfaIp/1cP3fffxsdG7/r+IvsjS7FFB/s6ziVtWL1qxYF3tw/3FIwNVbXUFvzpU3R1f5SUtHLFioufJI4M9YpZrMKiXv7nrItyP0h229raXC7XjPVy544dw8PDba2tp3fvfv3f//2lJUtyk5Pz//Gr3T/+m56SvMmBvok+r7e8sOS5RzvX/aL4x3/z9p49Vt5aPTFyuVxFRUU5dCsuLiaS2d3d7fF48vPz6RH0WVRU5HK5/BQxNTVFkpFceXl5bW1tXq+3paWlrKzM4/EQySwuLiYJCgsLMzMzrQwStTt48GAr3U4dfLH96gbHG7977XTPug+alm25sHxH4Zm8+sq6js2f9Lxz9Hxtbe3x48eZwSjSS2GoSYNcTK1jiKIxmWQBQS+xQDqwSHLRNJTQQ2aYraaLjVQBPxR1NO8GqZdonDnkzXN/8M/D2UumLv14KnfJVM6PJrMXJ7/0l49vvOOJTd95YuN3ntz0HdbQ2oAfvcQD2Ym0gxscz/xk93/8pPBYXFfuSymOJ46//kj9+XX5H67a8eJvr5UHHlyScpubm9esWfPBBx9MT09/RrfBwcFguxRijVz17fL2Lz/5ydXKyvb29n/5yU/q6+vJQTIb5P+qn5qaUgzW1tY+8sgjd+Pt/vvvJ4G77767vb3dpkEt7TBGcr20+taLEv/Ahncd56/Y/Fu+7YiSXbu7ZM32FW+feua9lNg/vPzJxYKyq9fLq2pPO12fXCyI/cPLz7yXsuLtU0vWbNfmFSPJWSjGKOGLJ17vrt/bWvJo2+U4T+lzJ95+bGz0ppImqN28c3var7+LDf7hofv/YXR05NHf/y4oCyxx3rk9bTXvuE89uWb1iheeTzhyaG9OTk5KSsrGjRtXrVp15K0VF0/semPzi93d3SyLVSA7O/sc3lJTU8lUiSKZHR0dRUVF5PklmaW0MjU5Oamluv3NN4eGhpYvX96Ct8rKypaWlsK//y9dsd/oKsghvdj06M3uRo/3D3eV/uivExMTgy2itrY2JyeHDARdeCspKWlpafF4PHl5eSSG/E/S3Lhxw08Rk5OTjY2NFy9ezMnJcblcOTk5dXV1LS0txcXFZBrW4/E0NTWRIabb7c7Nzb127ZqVwZj1tZOTk0ePHu0kW0fH4W2/TD/yyz37jz97vG1DUktLZ/+F4sbrDe0bP2pZe6Rlx4HzHo/n448/ZgaJBbZr5iwpgSg2TG9YpBIguyySGeIxwc3HChOy1AT95INPcwwpV4qPQY9X6cwsPo6mYskgGX1BxXiY6owz4nhmVolgA2aBVGJ8Pp/YCuaGUI5OTo5NjN/45JVFo+l3TmZ+fzLje5Pp/2vS+f+ef+0bj2+8o/NWfdet+ic3fceUS4rQXlNiiu72psq8U3XpL5ze+eibq35+fu+T3bkvnXA88cp/PFBbli6mDBiuqKh4+umnX3zxxTNnzuTm5s6sSyGlkKueXPLs/7vuuqu8vLylpeWuu+6qra0l8W1tbR0dHf6v+snJSbPBqqqqV1999cc//vE999zDimhpabFpMCCNEBNwvZywtz3w0rvbzpbZ/IvbetiO1SVrtj+VeHLVvjM/WLap7Or1rs7O7q6uHe8eLrt6/QfLNq3ad+apxJNL1mwPaIqchX6SfZT4aE/tix1XVtQXr/t496OjI8N+Ets59FHiY966TR1X/thc/txd//St8fHxxx57zE5GcxpsanPHlT9W5iZsfu7JDRs2rF279qWXXjpy5EhbW1tdZd59P7/nhRde2Lx5c0dHhzm7GNPZ2Xnu3Lm0tLSUlBS3293a2tpDt66urubm5uLi4pSUlDS8ZWRk9Pf3i9mVsJbq1q1bBwcHly9f3oS31atXZ2RknLvzOx3/+JXmPVuHh4dHR0c729van32s62f/LfcXP9q1a5diVtzVFjE2Nnb27Nnc3NwsYSssLFRisrKycnNzU1NTx8bGRJvm8Pj4eGpq6qVLl4g9t9vNwsQIs0y6lZGREbMREhOzvnZiYuKjjz7qxpvnRuWHjmVV5bn5xVdWH7wRt7fu6MXG6vrWZw974vbWrT7kOXUur7Gx8fTp08wgscB2JyYmFAiSMCCBE7bYWDQBy9RECRi7TpxHHJ8JMfzVG6s3aoQhJHqYOdPvXzLfsE7il5OoQqIaCo8ohQIDeyfR8bcT8CsEPp9PbAVzQyhHJyf7m6+dvrjtm+Op/6Px8N+6tv1Vw6FFT25CY8rHN95RN1FYN1FAhphPbPqOkpftKm3N4sVAV3vLllW/PPr6w00Xn7uWuvaVp/9t23O/aveUi2lshjs6Oo4ePbpx48YZdymkIHLVk0ue/f/DH/6wrKysqanphz/8YXV1NYlvaWlpb2/3f9VPTExoDTY1NV26dGnVqlWsiKamJpsGbQKZcbKZ6OVrnxTb/LOvl3GJJ1fsO/uDZZucl8rKq2rLq2/sePew81LZD5ZtWrH37KPbk0LXS09VnvvU891Va+tL1iTv/l3oYtnedM15bHV39X8EoKoAACAASURBVLrG8v944akf/erBBycnJ3//+99nZWUF2x6iqeM7Hrw5PGC2kJV18ac//ekGvLW2tpoTsJixsbH29nYmmZcuXWpoaGjG240bN9xudwre0tLSMjMzvV7v+Pg4y2sOaK/tN954o7+/f7mwPfXUU1nO8xf+6Y62/+frTds3N3/wTvvv7m7/4V+5f/6/mz31O956y2yZxWiLmJiYaGlpOXfunNvtzrTe3G53amqqfyCsoM7OzpSUlJycHGt7mW63Oy0trampieUyB4jaffLJJ72mLX7LqSfernl0V1Xc29WP7qp6fHf146+d7fF6W1tbU1NTmang9NKfIszWMfRmk1yWnRg5x+zvTQfagtfLgUtJcdX7vlmw4xtpO37QeOXMxffue3LTd0pvnii5eaIU/5Xg8OMb72DNrQSsTngl2djYWPP1grc3/Sr+13d9tOfp0eE+JUGIu/a7FFIQuepRswvbnXfeWVxc7PF47rzzzqtXr5IjjY2NbW1t/q/6iYkJrUHBNg/aNBgikIDZuV6O29t2HEtdu+uYzb/3T2XasbppPxo+LlmznT25FANL1mz/56e37ztxIaApchZaJTt74Ommq7vrClYm7/7dyM0hq2T24y8kbbpR5mi8/MyBN/592ZNPkm/v3bhx49e//vXo6Kh9O+Pj4xeSNtWW7Gy8/MzxHb8cHuq3ypubm/uzn/1s06ZNmzdvtkpD4kdHR4lkMmnMysrKzMwku2RwmZGR0d3dPTY25t+Uluorr7zS09PT0NBQj7enn346PT39xo0blwvzL9z5d4X//c+Kv/Nfiv/+K5l3/+BaRUVNTc2ePXv8lKItgqSvra1NS0uzUjgyZV1bW+vHuHLI4/Gkpqb6MZiamlpdXa3kUnZj1qMSU1JSvF6v8gZ8W3vnijdO/m5n6WN7rv1+1+UnX/3E09Dc39/f2NiYmckvB2JBNKtAmH1puS1LnA60oV/bkDelIeSDY+Njg5+88t+dr/zX0pQXR4YHyNHHN95xcWDXxQFH1qCD/f/4xjvkvHzPbxE82fj4eGuzZ9+b666XZ0mx4dux36WMj48rVz259r/3ve8VFRXV19d/73vfq6ysJJGNjY21tbX+r3org8SC8r9Ng+EDo7cUtF62t7c32t66urr0xcqxXV1dCh3zLhkGyfk0e+aznyRqbm7c+R/fu5K18vCbD96ovd7Q0EAG+N3d3b29vYODgzdv3gyoHGJ5He3tO9f+01X32kNv/Ov16mtHjx596qmnXnzxxbVr1547dy4og9zUFmSqsbGR+NbT02P27dKlS8uWLWtraxOd0YZHR0ebmprIrCxTTTIHm5KScuHCBfKrHNq8SqSZ6unTp8+cOdPc3NyBt5qamo6Ojvr6+vIrFSVlJUUlxYVFhUUlxSVlJYVFhUePHi0oKFBsKrvmIliC1tbWtLS09PR0t9udnZ2dlZWVnZ3tdrvT09PJyJKltBno6Og4f/78hQsXFIMZGRmpqanNzc0B7RC1Ky8vLysrI6dQL906Oztra2vzC4o/OZvuzi2oqalpb28nD4zr6uqYZbNejo+PixBuS/Wa/UoFkstpkTlrHW0kPjp6c6jXffi3LdUZLPH4+PgTeD72iU3fSfNuSPNuQG/94BgxjRK2LmJ8bGyMfD2ffInCS7fe3t7+/v6bN28qpgLujo2N3bx5c3BwsLe3t7u7u729vaWlhdzs1tXV/eeF/Oijj5LV8fybUq56cu1r//d4PMnJyQGv+rAb9O9/6Ee5Xo7d1lvOxbSDb/7+8K6n8i/lkp9Du3r16vXrSDjb29u9Xu/g4ODIyIh9BgV5roNvPn5w+xOX8tzEYGVlZU1NTUNDA3nxcmBgwKbBwkvZoqnLly8T3xobG7W+jY6O2vGzt7e3vb29urqavDXjplteXt6lS5euX79O/LRjypymsLDwgw8+2Lx584ZA26uvvnr8+PGSkhKzkYAxo6Oj3d3dbW1tLS0tly9fTk9PT0lJOX36dGpqakZGBnnLoLW1tauryyaTsbGxnp4eYrCioiIjI4MYJDcQZWVl5BWDzs5O/20Xs752bGystbX1xo0bLpcrI9Dmdrubm5vb2tpYlYkFtmsOzL603JYl2tFLM/yZxTy56Tunu1ed6l715KbvzMBCT09PY2Pj9evXr169Wul3u3bt2o0bN9ra2shdfsCyRkZGBgcHvV5ve3t7Q0MDKaKsrKyoqKgQbwUFBXau0LBf9WE3GBBFiAm4Xo7e1tvQ0BC9S0Nffe3t7e3r6xsYGBgcHBwaGrp58yb5iUL7DIaHh8NlUDHV19dHfs9ixr6JtRgZGenr62OukkBfX9/NmzfFZMGGm5qaaoPZmpubgy2CpCeXen9/v9frpS8t8c/e3t6BgYGg6hIWgzHra4mWB3X59fT0MAjEAts1B25L9Zr9SgX8LoHP5zPDn1kMeeWH/D8zC0NDQ729vT09PV1dXe3t7W2mjXyzoqenJ9hLeGRk5ObNm0NDQ4ODg+S3ckg3yHqGoaGhgD6H/aoPu8GAVQgxwULRyxAxQXYgIBIIqHZiYm04oIXZl5YFW6K2gSASCJgJcL0kvysP/wMBIBCQQMz62tD/ApYCCYAAEJhXBLheDg8P34QNCAABIAAEgAAQkAmMjIwMDw9Lejk8PDyvxBycAQJAAAgAASAw5wSG8cb1csE+vYCKAwEgAASAABAISAD0MiAiSAAEgAAQAAJAwAd6CScBEAACQAAIAIHABEAvAzOCFEAACAABIAAEQC/hHAACQAAIAAEgEJgA6GVgRpACCAABIAAEgADoJZwDQAAIAAEgAAQCE4icXg7s3+lYlOBIqArsBKQAAkAACAABIDDPCURILz0JCcf2e5Fkgl7O8zMA3AMCQAAIAAE7BCKkl6Ro0Es7TQBpgAAQAAJAIAoIgF5GQSOBi0AACAABIDDnBEAv57wJwAEgAASAABCIAgKgl1HQSOAiEAACQAAIzDkB0Ms5bwJwAAgAASAABKKAQIT00pOQgL5Mwv7gLdkoOBfARSAABIAAELAmECG9tC4QjgABIAAEgAAQiEICoJdR2GjgMhAAAkAACMw6AdDLWUcOBQIBIAAEgEAUEgC9jMJGA5eBABAAAkBg1gmAXs46cigQCAABIAAEopAA6GUUNhq4DASAABAAArNOAPRy1pFDgUAACAABIBCFBEAvo7DRwGUgAASAABCYdQKgl7OOHAoEAkAACACBKCQAehmFjQYuAwEgAASAwKwTAL2cdeRQIBAAAkAACEQhAdDLKGw0cBkIAAEgAARmnQDo5awjj6IC+7sWbymLr1M8nkw8WPbFLehvccGkcUyfUsk4GL+lIV2J82kj1UQz30eOmQuduT27OXVAPAXVKjefz2dKmZ5i4DWRt1u4OZ3OZsTIm2pk9gdigiAQXTyRt8IVF13OB2qViOmlt+Q+Y32SY/u9gbyYx8dZR/OlLdWJ/T4f6t+N7ozGIO9Zsi9uKfuSeLrUNYi6wnpM0m+yQ5bZFTJ1DV862OUxIpFuGV0qPimJzS+lDJLjOpt655VChF2UXu21JR9oWltXhbaD1kZSs6F/Kldv6AbtWlDReQqqadsJDYesqSlxCUoau6X6TafYDJ28YpAVrq0RO0oCKA27CoxLBl8sxmksXESaM1m6rAw3LC4uXUH6C9Z2Sgs/lRriXckmvpSQt/xG0+cTTgydARSHjKiXoVXaOY9Xr7iocj4QvQjp5cD+nU4XLrvJdWzRzpKmQH7My+PozGbyQz0cjDeEUzrR01P0J3R6SnViXddiLnLEjNpVWWWnhdJPSatob4VOUKLlNBn+1NnUOy9lk3Z4ehaNLm8qySzSXkCtNc6ljbRnz04q9eq1kycsaRR0cjX7uxZzhkpKUjpt3LD4YhhRbMouzaQgxSAzoa0ROyoGZB+E0xudZlQyNWcySllNLyvFDdmmUZoaqbFpP6WFn2LFaFgot67BqJF4wYphmsf0aZ+nKevsR6hXXFQ5HwhXhPRSKLbKuSjB0E4hNhqCasMTn4XmFxJYXH6D8UgpJxMPKnomXEXYqkV2EyXhQvUhs1ikLS45nU2986Zi9BHK/bvYnZExgXQLjLwyBhD0bhrXmt6b+41E4/X4AsMCK4hMXSpliYMP7oBQOs+uqZbQEEJrigVRP42JU3PpGj9NBXkKqpEdWvf4OnJimNLxCNq4LEaoEa+mME5i1dQDQXYUm9rm0FfTDMR0MihnOPPbf0Dg7/P5TKc3ga85k3HK9IJqjEJXL7VYuSDMTcQoJLeR0sJPwQgLCtaEXOymMz1FGmuybH4DyGaiaW5f3+7CaaM9k3GkAlBoCCE7wxXw2mSnomUt8IXADFomm38HIq6XaHyZRGcQ51/9/XhkMU/CJSc9hY8+xZOVTruh046co0Z3yQsTriIcqc/O09OQcMmJ3R/pvHi5ljb1zlPrtj7ZpS6nVi85TR+Hp5WMsSm71xYj0cVpdLuILR2UU1MiNF4R7gbKTh6cCFNAPJInFEKCTSElLVFIiPxkT2V46To/xVxGGE0z9JNc5OYpSL0UyGDpEijxcaqpXKFG+JjSRoiS2hzWBel6N8WgyYHAESJVoZvGGZmWaK4OciEYw3TFDdmm4YMaqbFpP6V0GaJ7Oy5FapURZDrDLN5S4FMU3RGyk0rNab0vNJzYXiyD0O66MxnfjMovJdAqGJSMa1w0LoR15zyuDrEplM48UgOglyoRsj/ng0t6R8+eFCK/tJGmCljrJb0AaIdOnl+aOhThMu5XpmQ1V68pu8kh3Q24mEtRTd2lIly9gvO6kizjbOql4YzUmwu15heVECkMgDTOoyziEy/a+witadzYit0ZL0hbI6F0IaXGeYvSNX5qyplMPNiQbpwDpMTg9FJhTgvlsi2VaQZiHBZOSBSjqbtFQejRA3owL7WmecAqeWFvR/BBPb25DtH6CiZpE+MbEet68RxyQeEcX3I/eWk8JJSLTiF60tJeSLx+eaYAIcGmcMmI3Rob4WkbzhzJ5j8WH0RDdrJrdTL4aQ7kuHAdBahHFB6O4PgSjSyjdCaWNCQfA4kNSzsp3IGy+0rNOWTRw2Jb4hmPIjTZxTJZmHYTOELpJkgifqOns6l3npm3E1CuIppF64xxa0L7WaHW/KISIoWLX+O8VHdaLOr0aR/EbIopWSTLIQWE0s0psfDwEZjuDkPjp2Sf7GB1rGtApphq6qwJWSWeCnNaqFB3nlOIVGsk2QxKLw3zIhAUpRjkTtgOCfxVveTGaX0Fq6yJEdUu/uIbSiLbNDKpkRqb9lOy0lEW7qdhQPoQy1Wey4iHpDyBdsSMrHQ/7a5chtS82Jr45PQUNKCXLVIGCRyLs07XWYlA1LOOFndbfEZKL6NeLFHronOR9vWstfl5ic4nOp1ivvyUs02ekhXPeGTZnJ2VJwXQuWiSBzGFkEBnU++8aCBgWKkXTc+uWxrBPvn1I9RaGyncoFg4b3qpSq6v0Rw8ErcgbSPmkRBgQCxSSn6aSrfbcIJekp6FaKfghyko8+Q1Ivfv5BzAPitjPiElmjeT6i7bFHWFVVPILk78cvdYShxF5/H48SBDwikh66XovOZk4B00EqHF7EVxVLxs03BIjdTYtJ+Sl46uXBmyAkAoV0Zn4aeSXbsr2GSXjNBwepfU0rFlFolu4xriU/DLFikN8eR9C8GmeDJo0PGUFteRUg8s1WywoRycz7uR0Uv+ZRLHIvytkoSq+QzBj2/CBKYhVKyHNd7zJq0uPQ5BnZTSN+FnM7zzEs54XLgpu6VLZC4Ff2uFCic++cgzki8K753rbOqdtyxMd8Ckl6imrHTqgBRJJ52EWrMLFfVudH6b3QpY6RDKRRPT8Rmr5uKCLvaIkVFCb9Zw7Jr6sJRCdq3z0oswpmerGstCFJ6PxTX90sGG+INl4jeRhGQkKJVOefKHCHJenpj12jogPJnwvpJAhjeHtiApO21N7C1tEdkrU500Ebzd+VewhDOZEdZ/WUtQLDIPKXgl1AuVqytIf4JZpmSntwHZwk9NLYXSTYgUP3W59XHcT9FmwHaniLStiWySrkwcBrA5XqUgaor7x66jgFccyoNPG9NQhFubt6HI6OW8rS44BgTmgoDmlnwu3IAybwsCMxba+VN7pNkwvpw/7QGeAIH5REAeD5lvz+eTr+DLPCcQ3XpJRqLRKJY+nw/Gl/P82gD3wkKAT2EJc2t0QjssJQQywias2MRpoBxwHAhoCUS3XmqrFC2RoJfR0lLgJxAAAkAACMwlAdDLuaQPZQMBIAAEgEC0EAC9jJaWAj+BABAAAkBgLgmAXs4lfSgbCAABIAAEooUA6GW0tBT4CQSAABAAAnNJAPRyLulD2UAACAABIBAtBEAvo6WlwE8gAASAABCYSwKgl3NJH8oGAkAACACBaCEAehktLQV+AgEgAASAwFwSAL2cS/pQNhAgvz1t+oU8/qPY/JfD8K9Um1IqCLU//qKNVDKGsCv+XHsIZoLOqgPCfkeJc6M/8C2iY79OLkYG7YCcQWczYuR1dZfdgb3wE4iUXrqSjJVJFiUc2+8Nv9+zZZF3W3SlCP7LauJv9iN/lEVqpF1khyzEyn6PjQSkq9pcK8kIOiyvC2Zk0EaajSlrNdCeQlsjHkmXjzCqwM0av4lqTmnpJ+tQqE1izAwZLZPEQPEfkMN9BIkPsLiBkNKopkTSVBdeqyBCrGtmrhqtaS7dn1UEkLYFTSf+3iyNs1BWdpgEtB20NlLJGMIuqm9DeggGZppVRYfW1jAWrlGaWE2JS1TSzNQLKZ9iM3TyikFWmLZG7CgEIkIgUnrJnEULYe4saWL70RRAZ6qpX+ZLYgkXJ6oVWuq9rmsxXWfKh7q8arqrnPR2ryLVZhj0kvZrqI8jP6BqWSNliT5lJS957UO1RloJ1y3ToYWsWxCUOxzwHBK6EpbLX3MENOg/gVJ3Xen+DHD+LJWCmsXbCCjOkBzaSBvGbCaZS70UfwRYrmY/WvqY1kADOdBSzzRrcJ8zvNKtC1EMsoTaGrGjEIgIgVnRyyRPRHyPtFG2FqtUkHCaSt0EXhMYLXtJL2A8REgvqMZDB+Wkly9syb64Y7IZRr3kK3Ra1ci09K5SX2G5SkVZrcbBGr3UQw5JLxWxMXTdX3OIzGcQllpTX7ptq8qYlY2t2YBbGomiFjEG4nSiAjuDB9NfpCsaGq2jRmLIBYYFVhAZxZIRMyuLlU5nWXB9hNJ5dk1NBT7iKSRkp85Li4yKpceb/TQVZNyi0WqihRjZzaspMY5Qrkp96eICnKyaeiDIqGJT2xwWBZmAmE4G2rfoq2NMcTFuVqkgfsYEIqeXngS8UnTUDi7RzCcZXLKzFp+IXF3QOubsBraugVzzfFyFO2iPcZOru4oCNprZZhj1EgmVOr6UaoTcE3o6tCvUgtSOV0FJqZ83FnsZMm9mAVmej6W9HmkIOuHGy1ZC8sCXtqO/5lAMBLsr1V1fepAmGRY5n8AfH9Dcf5BVqclpye9F0JDXOFdRp2x0u6i5KVtqSqwLP9W5G1zwlGE0nbfgSVlIsMmz626JpPONl67zkxnnATQZ009ykdvWIPVSIINvGgRK7DLnpdGQUCMcpbSRQJ41h3VBOqlTDNJytZ/4XkFnRJsaIoMmEDm9pK5UORclOF10b7Y/6c2mcK/NV5CXIk2eyX0WO2vRBWA8QqN9jSQk/XRKlioKvoxZdlKM0IOYyqURQhZmMwx6SZ2nnSYWRRrJa6T3kzFRVMGkrJZ6qVzMzCAuj1eZdt8UhvAZUDUV34wi/DWHYH0mQak19aUHaVbGwjJzPiTKQCH15oIzvCsXIoWbHg1klMU4GfAzZjqgEa4jY4xFeSJPeEHMVTEglC6k1DhvUbrGT9G8EZ5MPNiQblwppMTg9FJhTgvlsi2VaQbC3RCfRmvqblEQumQQc6k15ZtUyQPYmQMCkddLnychSl/5EXsE3svQ6wdf2+b3O3gvw7LXNXwppYu870NbWLiKaJT6adF38PGrkEEbKRxnQW25uhoZOUzpjf6OZmGGpZEBitW6RPsgng0/5e2i8/VcDzQphUxE4xXpZcfN/RFqJn/NwbLOLCBR0pcepGHFCM3N+dAY/In7btrPCs4YjaXME3AjGsiMklSA0NzMppiSRUq52I7WJXpUdF60SY+T6VCrthZSYXVE19og0m905xc5vdQBMVzheHGEpu5K46qtIAJBJhSDQo0hOOsEIq+XVc6onZJFQ0n6ZIWdtfxSQec9fi1QuQAMqeAXP5odWozfj6XtK1xFNEr51Nu00CGtOCkG8a62XE2NaF5zeswhpYHN41ml1Lqkdg0osxaydrKOFmUMaOjQR4g2gqj7pkdZ2F9zmE0E9ShIpsRKDOinrlgSp7Q+TchOQhrBPrliCc5oI9msIHpDTRwJEVuoOVRxEmqEpkbJq7A8EnnFHuwxj4QAO8EsUkp+mkrX+ymYN4KCXpK2JtppTshjZJ68RmTETE4h7LMy5hNSciCGWdmmeB/JqilkFyd+uV8sJY5SZix4MnMIay3tssyHISZUAhHSS/rwMsERtWJJyAqzr6anfbSvH5THjqirRd0H76DNna/QqelbULnqqE2sl+zbC+zlCzKTw+LV/o4XoS2XdWeievGKy9/9MGaNhCL0KbUuSc8v+TcQuAX6SFV+fklS4r7ARh1xbWliZpCPL+k3f4QqcEAsRPz3n4YmNlE1l06T2vw06SU6H1jdabtLkdRVwRne7WoIW47bUC51fp413OKCrnjacKyJ0Zs1NFJbQZZSyK51XnoRht2T6XTdXA6ej8W3X1862BCPJJzeM5nT4kGbiadxnfIpIiMjd5XdFuiA8GTEMm4RgQxvDm1BUnbamtgD2iJ+a8RT0pkGTbUhKkQCEdLLEL2C7EAACACB4AjYk9XgbEZbaiS6ML6MXKuBXkaOLVgGAkBgFgnIMzrSEG0WvZirosggHsQyovxBLyOKF4wDgYVDgM/6sqnOwFOIYcXDJn7ZxGlYzYOxhU4A9HKhnwFQfyAABIAAELBDAPTSDiVIAwSAABAAAgudAOjlQj8DoP5AAAgAASBghwDopR1KkAYIAAEgAAQWOgHQy4V+BkD9gQAQAAJAwA4B0Es7lCANEAACQAAILHQCoJcL/QyA+gMBIAAEgIAdAqCXdihBGiAABIAAEFjoBEAvF/oZAPUHAkAACAABOwRAL+1QgjRAAAgAASCw0AlEVi+bXMcWJTgSqqKVMluFQFyjQ7NSlfjDleJ6dXRhAZSdLAlklVJDSPp1MfpjmDxS+KUxHkn9RD+7TLNg00a55pToqKZGeBEl4VfNGtINDzWrKGgp4YWK6DIXynJImspCFBAAAkBgvhOIpF6ilS+dCTujWy8l1cGtqVEXrQoisTStKKRNqT9JlJWAiCm+9hZa8gktiss2IT2WQHFZH3kJPSmlH7001R2JpWiWlK1ZF0Jbd+YpBIAAEAACUUggcnrpSUg4tt87sB/0UjwtZqaXfMzK9RIP4NiwjyxdKewixWK7Qi7kzEz1UlhqWKxTcHqJ14Y0KbFoD8JAAAgAgflIIFJ66Upy3Oca8PmiXi/5nCQdzNkdX9K1naVRIF1JmJm1Vg5B1ZBQqeNLtLC7NM8ppEdnmjAlK4l0EHrJnCRVYIsYs1UgiPPSfKxACU0O011+7oNechYQAgJAIJoIREYvq5yLkshM4VzrpaBPfGU4baSu1TQjJ+3TPkmQBKHCNom6GMrhN6XsAn/WSMWSSB19KKhKkaKX6KkkEVR5MjYIvVS0nBnEfvJqaimRukh1l6sHe0AACACB6CIQCb1EGrkoQf7bWdIUXWCwt1olsD++FGqMxA/JT3B6ySZUmSU6s4rfJOJ3AOi4qpd0wpZmYTZMKTU1wu/7KHpp5byWEi8NFSe/fCQcgyAQAAJAIFoIREIvxbrP9fhS9CX4sFYJNOoivt4iPTikRbIE4dJL8kYPf0Kp00syJZvSYJoUVZVVUyOtXmLloyJta3yJ6s/qTmDgwT01QvnAJxAAAkBg3hMAvfTXRFZ6yR7sfZGOnNgjPT53Ksz6smRWQzSdE6qq4TTiYBGN27Dw8Jlb+n0Swx7xShgm6lMy50m9SHrpqSQXZm6B1VSTUlt34hSST+XJq672EAcEgAAQmGcEIq2X86y64M7cE0ADUxhfzn07gAdAAAgESQD0MkhgkDwEAmQgC2IZAkLICgSAwJwRAL2cM/RQMBAAAkAACEQRAdDLKGoscBUIAAEgAATmjADo5Zyhh4KBABAAAkAgigiAXkZRY4GrQAAIAAEgMGcEQC/nDD0UDASAABAAAlFEAPQyihoLXAUCQAAIAIE5IwB6OWfooWAgAASAABCIIgKgl1HUWOAqEAACQAAIzBkB0Ms5Qw8FAwEgAASAQBQRAL2MosYCV4EAEAACQGDOCIBezhn6BVow/r114SfgCQb0o7Lk1975r+XpUyrYrH6V3rwUmpIxhF3kWCTtW7mmA8J+K59zM9aEkdZQY7+JbyJvVVjgeJ1NbXMENhU4ha7ugXNBCiAQVgIR0kt5CUxj7eiwOj47xvBVSvpxsvay5QIjQkq2vofUN9U1GBb0nnPBoIuZaFYCMbIqS2JJu8YyW6wbZUupGP2p4Kdff3ysN5TWPBGy09pZ+6mvKUpP89IU0jJnNBKXpaakB+mntoPWRtIcoX8ix+ZCL00riaIVvI1lw412p5XTQSbru9XRJOH5NJcbIhnFIPNSWyN2FAJAYDYIRFAvE6pmowIRLAN1i9WJ/XIJUs/Orm3hYqa50lPkVTj86SWyY1IvvnSX0C0iZ9JTqhPruhYbHSVZg7qa7jKXiNuyclDf5Crp93RrmWmqidepNigpfurtok5fpYoypgxapPcfLVfQSKuN9G8nmKNzqZciOrma/V2LOUMNZF/U66VY92DaC9ICgTARAL20BqlVF51eKt091xLkTgAAIABJREFUUUp1EWY/elnX8CXNeEXo8qQOejAeKeVk4kHafWCX0guq8VAsgnqpraaol3hp6OCGF8o4mHFgo1tpfIk4KNO2WDPocpt0TlIbiUbM8QWGBVYQ9tmwycpipdOxPj5JhNJ5ds3pI8iY2HBCduonWUxbU7rGT1NBxglG6x5fR04MUzoeoZwb+tLxDZnhEqumHgiyrNjUk9dCFiMJENPJQM9wXgU5hOvOWk0+BntAIPwEIqiXixIc+O/Yfm/4/Z4di+QCplNeuEzaPbF5zvg61BHzHtDnI7pC9ZL2nnUNYhrRf6ZDrL/AXQDXy/QUYfRJ7VD7ZHzZ5TGGF7r+SyhMUyPhqBgUu0hCQFtNUS8lP0VbgcKMgJxQqQsWPHU6EQ15jbEpv+0QIpFKGd0uco8OyunombYOKpgD525wwVPG1n5uCwSbPLuV88wOL13nJ/eIhdA0Qz/JRW6egtRLgQyWLoESH6ey0mhAqBGOUtpIIM+aw7ogndQpBmm52k/QSy0WiIwYgQjpJfe3yXVsUYLTxSNmNyTIG5crbaS1X5LG6MaXeiEhA8q6hviUhvg6JKLcAbksWS1Yf4G6HuPRKe3lpdv5fjolS13CHSjLTsoQ+m6hUKlGQrwYpIrC4/TVxA/VTH7yXHZCMgGWQ6kLYogepkq9uVBB3pULkcIAyFwjcYiDH9PSAY1whhhjLAoZOccLYq6KAaF0IaXGeXTUaGKxdI2fonkjPJl4sCHdOAdIicHppcKcFsplWyrTDIS7IT6N1tTdoiBta5oHrJIXsAME5pZAxPXS5y25LyGKh5i0eejwQuw3aV9s7hGQNGK99BQ0oEFAyqAfvbR4h4j2XLhXNbRW28Myl1CJXYkHLfovWhP6SWtE95VP2oHyaH012bBM9JNnshVSLNM8ql4a8bjvpqqp6aDxSJGN27gRc41k8rRYViNRGhlkMZLlkAJal2gK0XnRJj1OpkN1Ay8hBQpidST3ZEw1+X2VkpjschQ+OgvC0lE49KxjB1BAiEStzNia5U1Td6VxaUG0ABEIipOcpIngEwjMCwIR10tXkmPRzpKmeVHZEJxA3QQefEh9HL222VGjM2UpG+JTujzoDZ2GROP5otYHJF109EltCp0U6nFwJ6V0PYYGc5fQvNxim3op+qxzSu3XxKpJYd6ZMj919vzFKfWiSRkKGsE+ea+t6aAlvWSzgqgVxDsJYkt30yCQQVOjRB54JPKKPdhjHgkBBsQipeS82SWtn4J5IyjoJTkBiHaaE/IYmSevERkxk7E19lkawYtHkW9y3WWb6KSlasqqqS+Iu6WM15VpDCGdKYi1ll44pqMQAQTCTSBCeil8nyR6xRJfjeJzSgSfi5N8L0wTf4k+LSNzfeRiJnNxfgcNqOM2ZjUNC6zbJTf4ZYsLBuWxI3ZmS0O66BJ2QyhI6L+w86w60pssurNKpy6oRNlJefCBuksm/DqjFnEmvUS9sMlVKZLWUagg66CxGyY/LXQI5aLk6fiMPbtdXNDFBIA0IuYmFKqrEUspZNc6L71xY3q2qjPN4/B8LK7plw42xCMJp5PJPA0LSaXzpte0pnFWU3qG+OmAaG0KZHhzaE8bKTttTewwbRG/NeIp6UwDqywEgECkCERILyPlLtgFAkCAENDf0CwsOkh0YXy5sNp8TmsLejmn+KFwIDBjAvK8gjREm7HN6MlIBvEgltHTYreDp6CXt0MrQh3mggCfQmdTx4GnEMPqKJv4lZ8phrUMMAYEgAAlAHpJScAnEAACQAAIAAFrAqCX1mzgCBAAAkAACAABSgD0kpKATyAABIAAEAAC1gRAL63ZwBEgAASAABAAApQA6CUlAZ9AAAgAASAABKwJgF5as4EjQAAIAAEgAAQoAdBLSgI+gQAQAAJAAAhYEwC9tGYDR4AAEAACQAAIUAKgl5QEfAIBIAAEgAAQsCYAemnNBo4AASAABIAAEKAEIqmXVc5FCQ70F71LlNClEvgyxeKPdopr9QkpyS95qj+HHWC5JfNyDfzn1tRfWcPLSvBfzpR2kR2yPDX7kTYSMNILfsLCDvQqgE8gAASAQGACkdLLJtexKJZJwg1Ji2mNJL1eIm0zfvCa5lKX8fOnl0jkTOrF1/NCy13RpabwesLViXVdi1kMcqma7hp6SVteWF9JWrSSHodPIAAEgAAQsEcgQnrpSUg4tt9rz4V5m4oqn+SgTi+V5RuJUhqLObPMfvRSWNOYJbde1B4vFIyGtlTLsUvpxnrUM9VLPEhdaGtcCLQhCASAABAIQCAyeuktuW9nict1jMzH3ucaCODFfD1M1n8Qx3ZswWQ22xlfhxYi5rOjPh+RT6qXdIRX1yCmEWvM5JYtN4F1i48v0aL2bMl7aofap0tY93ctRmn86iX2Dc0ts7Ep8wP0kqGAABAAAkBARyBiepngoDI5p2NNLAPSAzwfX+39i1skndPxQXGSaurGl1q99JEBZV1DfEoDeaAYUC+xA0zwhOeXXN7YUZ+vn07JUpfSU6oT+4UEyBxVa7luUo3kQ7AHBIAAEAACWgIR00vhHR9XkiOhSlt6FEXSJ5RUnLDrhjixASKpjyGfWC89BQ2J/YPxKYN8OGiutM4mn4/Fb+iY39ZBw0TyeJVlRyV2kfd9aCF6vcRHaY1oUvgEAkAACAABPwQio5e+gf07qUZ6S+67nZ5lMnFCUOlgTnzSycIoZUN8SpfH50tPaUg0ni9q2wJJFx19UptoaGg8oUR6vKUhnc70MhOGBnOX0EPNxfj9WJrGWi+ZnySp9JItzQ2fQAAIAAEgQAlESC99PiST+MskCVQ4aZFR8ynM5X6Rvf7KxUnQS2GOl3/3QxgXkvlPv2/TCLOvhkxyvcRjzbLFBYPy2BE/udzSkC66pD6GlPVSWyPSHthb/pQ0ahoJHAUCQAAIzBKBiOnlLPkPxYSLABrX0jFuuGyCHSAABIDA7UMA9PL2acsZ14QMf0EsZwwQMgIBILAQCIBeLoRWhjoCASAABIBAqARAL0MlCPmBABAAAkBgIRAAvVwIrQx1BAJAAAgAgVAJgF6GShDyAwEgAASAwEIgAHq5EFoZ6ggEgAAQAAKhEgC9DJUg5AcCQAAIAIGFQAD0ciG0MtQRCAABIAAEQiUAehkqQcgPBIAAEAACC4EA6OVCaGWoIxAAAkAACIRKAPQyVIKQHwgAASAABBYCAdDLhdDK4a2jxxEbQ7ZYh8cwjePinP4LcsbFmJNoI/3bCeYocsxcqM4CTxlhl3SFQxwQAALzn0Bk9LLKuYguTkIC/te/XHn08teezf7as9krj14ON7Ixx153zCbjL+66z9fXEkt3Yza5UQzapGQxm0odfYYjzpM4794Wogye3FJmjQRic8f8ZDes0A85Oy/F5/PZKwgZUlIqNYo52UtLM6X0+XzXa7j/RqUs687sSAFnXAzXSXoE9JKSgE8gAARuVwKR0UuJlifB7/qX8Ucux2y4EbN7OiZxKmbDjfgjYZRMogQ10rAH6yWRSSw85ChOSUVRcL83blOpI7dGVFB0FKsO1Voqt5rsgiUcxHppyCQunUmmzYJ8Pp8ppVAj0b5VSizwomNWdRfT8DAfhvE4myHtuE0badOgjWT23eUpI+ySDa8hCRAAAvOQQMT1ssl1bFESnbXTAfjyWhcSy30+9Ld7+strXbpUM4rDqqbKg15dLDQDWahxIoliI1HsSTj0kowLDffsFkSkWnZJrRG9PzDbxG6rQMjY2o7Ys3lYYzrWmOd0xsn7pK3wiFOetsU6RFPTMao20odiHaw8OqEq2KRRKCXbWKRPSBnjfz5Wk1Lvks/na05efsfSpQ8kt83odIRMQAAIRDeBSOtlgMGlz+eLnF7Kgy3aTlxdxNEnCbOZW0Ny0BAQTW/io8I8p358yad5qWLRMtmn7BKSYTJ9arsgPMWquIRrxGZZmRzqbArV5NURIlEVLJ0ntUD6wnWJ10yJxprDjpIAljaSFwV5yAgi04aMouOSoqJ5aOHxp25SmHvGrWPh1LhLPdOmRJFml0AvKTT4BAILlEBk9TLg4NLn8/H52N3TMRtuLDtUFq6mkMWJWhXVRdEMdYyF9IzIDzYlCElYxpd42Ir10n5BupT8DkCcKNalJAw4ATIbjPVSrTvFZfrkqiQdUqPRPlMdI6UgeDy5ECmImxhr5DYsssGkIKcsjqicKKa8IMld7hE1Y1G4//w6mxAHBIDAbUogknrpLbnP75NLhnTZobKvrsv+6rrsMIolMq6qGi6QqYt0VKcZOAEbtwkvB5kt67Kz6gkBScKxJ0iP7RekTclq5DPeZgpgk/jDq2/XeZLPQkAsovFQzRiriQNEnlxURn2swU9UQY5UiGW5hThBBXkeHtKn1LuEchVshflYTg9CQGCBEYigXrqSHP6fXEYeNRpjqROMXF2wThjTjxrNQNrGR13YFBuPcrEhldBk19ZO1Ev8vg8as9ovSJ+S1wibwo9a9SkFn3DpERxf8qKYjAXUS2FyVJQsako4TKOwHApTuESZUYkkEoXo1CrLIwT0KYXC5TLJ88s7lic3CzYgCASAwAIhEDG9tD24jDBoIpnq90mMV1ux7OEZV6Kd7PllqaMPxzCBNL5wQqdktXrJn1+yt17VymG9ZKUQa/YLskiJ9ZKNg3l1zM5jt1lK+n6vue6q2+I+lz8jlmiSMiUqRdLnh4IOcStkBEqys7lRUVqFwkWrNC3LH+twsAecLGGcUyhUsMSCupTMZAx/iGpkKHh+6VLQS0YPAkBgQRGImF4uKIpQ2YVCAOklvB+7UFob6gkEZAKglzIP2AMCFgSyty6Fh5cWbCAaCCwIAqCXC6KZF3wlxSlWNnVMp3QXPB0AAASAgB0CoJd2KEEaIAAEgAAQWOgEQC8X+hkA9QcCQAAIAAE7BEAv7VCCNEAACAABILDQCYBeLvQzAOoPBIAAEAACdgiAXtqhBGmAABAAAkBgoRMAvVzoZwDUHwgAASAABOwQAL20QwnSAAEgAASAwEInAHq50M8AqD8QAAJAAAjYIQB6aYcSpAECQAAIAIGFTgD0cmZnAPuZbraqsQ+vlUGXrrK0qv35b22kpYmgDyBn6W+e+8/MU0bYJf9uwFEgAASAwPwjEDG9rHIuSnAYf0ke/xVfefTy157N/tqz2SuPXvafMqijeDEQtlQIXz9ZWm/SWLEruDU60PIZ5h9TwxoaSJe0OqSNDKqufhNzFfSbzEckn9Qgwi4FcgSOAwEgAATmG4EI6aUnIcHpMurqSfC7anT8kcsxG27E7J6OSZyK2XAj/kjYJFOvl3j1K7zoldgWWC/5apfiIU3YvgCZMmt1SBtpyjrjCPvu8pQRdmnGdYGMQAAIAIE5IhAhvRzYv9Nxn2sAVarKuWhnSZN19b681oXEcp8P/e2e/vJaqrPWWWwe0eslX/NSNGNXL5GgSJsxnmS/5y2NL4XUdDiKdYim9huJ14B0sPKoYcEmjUIp2cYiyfwwjefRYrWNsGCTrq6s9RMlJ2smw5pWGowQBQSAwG1NIEJ6iZi5kvB8bKDJ2NnWS2PlZ7xos7qisrKSs2XLI33RCJAarRujYWkjeVGQh4wgsmHIKDouKarPJ62jrJsU5i5w61g4Ne7S6mlTokizS6CXFBp8AgEgsOAIREgv0fhyEVZKpJp+x5d8Pnb3dMyGG8sOlYWrEfTjS2Idz8rGbHLHbCIPOO2OL0lurkqSr2o02meqY6QUNJQnFyIFcRNjjdyGRTpoFOWUxRGVE8WUFyS5yz2iqmxRuP/8OpsQBwSAABC47QhERi+9JfdJzy8dCVX+yC07VPbVddlfXZcdRrFEL6/kllI59Pl8wvs+zBc8Nxt33ecjg85Qn19a6AoeqhljNXGAyJOLyqiPNVwWVZDVAtmkisdyC3GCCvI8PKRPqXcJ5SrYCssmc3oQAgJAYMEQiJxeHtvvxRSRdtLwLGMVH1VyaeROOE9GdnzJS2IyFlAvhclRUbKoKeEwjcJyKEzhEmVGJZJIFKJTqyyPENCnFAqXyyTPL+9Yntws2IAgEAACQOC2JxAZvfT5mlzH2PdJ/A8uI4oYDzGNp5LGO7FYOPFMLIrHg0s6vkTTs+SPfQtF7x2XP+M40SRlSlSKpM8PBR3iVsgIlGSnI0X5WSX3Q7RK07L8sQ5HHB3JsoRxTqFQboiHdCmZyRj+ENXIUfD80qWglxwfhIAAEFgYBCKllwuD3sKsJdJLeD92YbY91BoILGQCoJcLufWDrnv21qXw8DJoapABCACB24IA6OVt0Yy2KiFOsbKpYzqla8sCJAICQAAILFwCoJcLt+2h5kAACAABIGCfAOilfVaQEggAASAABBYuAdDLhdv2UHMgAASAABCwTwD00j4rSAkEgAAQAAILlwDo5cJte6g5EAACQAAI2CcAemmfFaQEAkAACACBhUsA9HLhtj3UHAgAASAABOwTAL20zwpSAgEgAASAwMIlEH16efbsYfK3cBsNag4EgAAQAAKzTiCa9FKRSWV31tFBgbYIZG+FH5u1BQoSAQEgMM8JREwvq5x0fRKnKxCDlUcvf+3Z7K89m73y6GWrtGfPHtYesoqnifFC0HThEbQaCV8p2tb6JHjNL3cMXRpTXPCELGaClz2RShEW3aRe0E+L7OiwUpDiZ8zJXmxDu6613dKpF7P3iX9vdmv27BUIJQEBIAAEIkUgMnoprhdd5Vy0s6TJ2v/4I5djNtyI2T0dkzgVs+FG/BG9ZFrpolU8LpAISY1TLB3rJVnGC0sUOarVIbLKdKkjt0aVQHU1TavsYsFCWM2uK0jwU1j4WluQNlIobq6CeGXp5wvmqngoFwgAASAQTgKR0csq56IkD3XTk+B3vegvr3UhsdznQ3+7p7+8VjMc9SuKPsujWJaMZS+pN2TcRvQykA75fMhCjdPXG8dXysSGVMELUrHU7LqCVL30o+v2SxcWwuSrb/rwitPGL7Dz319nq2IKi02j/A68/jRKTtf0FFLy7L62g8uX3rEV1JKdeRAAAkAguglETC8TjGlYvHD0sf1eS0z29ZK96SMGfD5LvRTkUCid6xCWGSSH5vWijSEpGoCiiVCc0pgRxaZUwSOm2HLTRnahVDmoZseTsUpB2E+6frWbqr5WGu2XrtdLIZb5KcY542IMHURLnFBJZClYgGVGgbbkB5YuhcGlxAR2gAAQiGYCkdFLnw/LpGNRguM+V4n/8SWfj909HbPhxrJDZWaeliNInNTqqB+9NHSIS6BWh9CwkggVNiWooCp42uzmetAYNbuuIK7rZPTpxmNibUHaSFqW9ClImzC+NMaHdLiIcghDRjzw5HoppiK2Ndl9Ph+ajF1+sE0qHnaAABAAAtFLIFJ6yYmIzzJ5rBRadqjsq+uyv7ouWyuWJKmVKFrFo1yqLGFLTIekozrJwQnYCC9GnJKV8tLhKX0nSKqbdkfJri2I+ekz3lHiLxapBemc15br0+ulkZasj0n0kA8pJUNCfike7YjZQS9NeCACCACBaCcQab0c2L/TcZ9rIHRMVrpoFY9LROM2/ABSKJ/rEJYZcT5W1iE0puQx2BQbjyqCRyZseWKhOG1Qzq4viPvpw6PbcI0vyUiRjAlNY0UUzQSTPZ/kdfCnl8aolNqE+ViODUJAAAjcDgQipJdIJsn3SRKqwoZJ+cKlsmtRDJFM48ki+z4Jed+HDED5uI1+7QS/DYvVlAkkUURDXM0jVyK97PllqaPPwh0SLemlRUFYL9noVnp+yf0URJRH+iudzbPGOhxxhiCyOPEdHnlK1vTMUqieRXZ430dgBEEgAARuAwIR0ssIkmEv+0SwDDAdFgLwfZKwYAQjQAAIzA8C0aeXfl6InR9IwQtOAP9eAbz1w4FACAgAgeglAHoZvW0XFZ6jb2E+kAyvyUZFY4GTQAAI+CMAeumPDhwDAkAACAABIEAIgF7CmQAEgAAQAAJAIDAB0MvAjCAFEAACQAAIAAHQSzgHgAAQAAJAAAgEJgB6GZgRpAACQAAIAAEgAHoJ5wAQAAJAAAgAgcAEQC8DM4IUQAAIAAEgAARAL+EcAAJAAAgAASAQmADoZWBGkAIIAAEgAASAAOjl/D4H8I+Z0yU/ZFfRIf0ROR3sAQEgYJtAr6P9hZieGiW9ZzAxpvEF9Nfu9hjH9CmVjM6eF+LGlDifNlJNNPN95Ji5UJ09ntLaJVvV1Bm/HePCopfGaiTSUiRo2UuyRMmx/d4wk/O7hleYy5pjczPWS3l5E7ziirGsCl2kzFikmiwWxhZCiaFLZFtV3HkSL8NCFy/D2dmKKIFsCit90hVXdOXYdh5nlhaHYUvQsBoZa9EYK8zIa8hgf4gn6qJpynovxHOj1oGqaa6TXCOj7nKk4accKTacyU9UjNIcPjk7tkn4sNXO8S5tPtVTnJ14QoDgQiXCfPUetlxP4PXsJAtGTc0ng7Y5tJHWrRni6e1DYmbSy5q4xkTHtALLlpBodUgbqVgPYZerYCAjPKUfl3RAAhm+XY+HrpeehIRj+71IMgW99CQk0F0b60UHC3cB6aUfNHbGl7ivMbonuoC20QX7jE7fKEFJaVlub9ymUkduDTVC1uZU9VJvE/fFhlTYKU5Jg3dpucx5RQxwyUKnj+WESIVGJ4x7BSQeRofO5UFRFH3puDjFTy06bd31fmpsWvjp86FGlJqD6CVpcV53tXTWXiZfuUuIcIyxnp0GHSlIaE1rmwZbJti4UNUltDKdtpraSJ9WoUNsIwOGs+eF2MFeicy0O7Yx2SlF2d3R6pA20q7FwOm4CgZKy1P6cUkDJJDd2/Z46HpJ0Mh6WeVctLOkCR9pch1bxLQzTBjnVC+FJZNFxcIDQbSAZEwMXSxSWkKSzZyi/A5HLEnqd0LVGadLJBQU4zc7gq105Wi3NHYv6QeZ5OBWUVJatRRKVuPEWiuMQlhf6c8m776RcbE7tihMcUnrPE5j9NrMDO/0RTnXdPqoLz5ZE0dqtLcmbq/br16GgE6UBxbW+4mrIdfdwk/SvlJziHqJlcZoGgo/EHbqEk1PmGrQ0aGtUTpVVtYGQkDXRrJ9wyttNbWR1noZQhsJLrMgUko8DUv/N+Y5x5KN6Vlp5hbJjzJti3WoJk6ey9VG+saSY3rczAKdUBVssrJY6Y3iUFhI2eh/PlaTUu8S4wABQiAieok0MgnN8ruSHIt2luxPctznGggj8Xmol4KKsoqKcc44KqNIBamiiilYNjkgajLqo+KYSCpH5GzGntztYvmscaLIUkefP23TGjO6SDTmwB0oHnyInTJRQa5ecumoi+SDNn0XLJUrZ9c6L5dOc9NO3/DTmDbEJfJZVjTcwX1xr/MkGqLF5o45Twp6KafUlq6HTL2QPplGkkI34YW+9X7ifHLdLfzEk7Fycwh6SepLR3XEgb2ldIAuecd3iEu5LbHEQ+OABh06Ys+mto20J4MT3b6ozWFRd51LCFpIpzfnIIcsxpfooSbTMJ8PC5764BNNZhpjU6SaRAWFSCRdxnAWqSCd9UXaiUyJwz7dOA9l5zYNZ3ikXA1jT5hf5Sn1LmnzL+TICOolEkuqmre9XhqjPjaK9EmDS3HYaUMjxRNSVkUuu8S+WJ6Yi4blbtfo9I2Z2JY48VGlkpIakD+5xOJOkEoOUl+SkCdA+5JN3MGFrpey89q+mPTjxvNLY0YR9WaOvaJgIwdRr32yFxtBAkZ2tSlDRYelRX2kKkZyPzFJCZ2Vn5w2aw6LutPK8ilWXIr5P8ElPo2vQ0eyImKBbOraSGkLY9eha47ZayMzDRpjUy+Nwag0cysIniROdPjo46JLNZKWimZh2HCTDFvpRDEdsOJhKzYlPmHlBQmmWFCfUvBTcIllggAhEBG99FU5FyWwMaU8VRsO8PNwfGlUi0yhEhUTtU2o9TzQS/qgKFi9xJ046/Rj8BBE7g15D45qbO70+RsiKKW/STxTdqpYsvNyEQZm3Omj7l46qvTRKK0hkCg90n4beimXTsqTSjFcUD+wS3zkTQ7r/cTHZJt6P3EapTn4+FK2gIyaY1QvjSGjcevAG0uDzshqx6YuDaoRt2+cDNpqaiP93tPMtI3MNGiMTb00khMxM1RT0CEuY0KkIE4avRS1jTqDB51UOJlNMSWL5FmEkD6l3iUhmxRsTl5+x9KFuK5tZPTSR14CwoiRdjpdEu1Qd+ZaL8l0KhlSmkZ4fEAozJ0KNQ5JL5Fxv6ULBaGg0lWhXTJBh3uoIPUSSSMfIFLBw0UYSqApDk88Eq/EoyjMRqWK03RXTG/Uxew8qQiJpxmZDpGBkVFlTadv9MU0H93VpGRqbTx5DRKdMXWZK3+zQO8n9kauO3XMcJTs6pvDtk1aafmTZccB2tw6ICSf7Kdsi+3p2kjMiMLoZNBWUxvpXy9n2EbMX1MgOL00xoVsmpQOJbmMCeLEJ2ktp3PFKV/kGrIjTOGS+VgeSb76Qgs11UXILqbUu2TOTWKyty69Y+nSO5YnN1uluE3jQ9dL9CrsIuHPeEv29v0+CdFJ/F6PI85444bFoZlXLqFidBDPLMm5JmbmZllsnNOv8pL+jj+Ew+KEOiZDWlA3FFynjztNPm2Id7E1PMQ0vqchDaHEPpHUCceQIZEw3We6toJz3tB+bpZ1+vSOAXtFHBa/T4JiRIcRE3RDYE5J7jxmjI4+6rPUS+POBjmjqbvWT/R2kjBAJz7XOPV1x4TNzWECz4en9DkrLkIHRGhQf01pFGFqI9o0vNUwdlNzsJewDEMRbCMzDRpj0kuiNMarPY3GSzdSJBU5QYckvWR56UjRp9VLeUpWeLpJXyBysO93GrPByBmhUFoF8VOXEj+/NF5W4i6JueRwwfOglzKR+bs3p+PL+YsFPAMCQAAIzAaBtuQHYD52NkCHowzQy3BQBBtAAAgAgaAJkMnY5wuCzngbZAh9PnYOINxeekneETK+aklsSmU8AAAgAElEQVQ/6OztHNCdzSKlaTr66kqg55qz6SCUBQSilYA4xaqZ/o3Was2p36CXc4ofCgcCQAAIAIEoIQB6GSUNBW4CASAABIDAnBIAvZxT/FA4EAACQAAIRAkB0MsoaShwEwgAASAABOaUAOjlnOKHwoEAEAACQCBKCIBeRklDgZtAAAgAASAwpwRAL+cUPxQOBIAAEAACUUIA9DJKGgrcBAJAAAgAgTklAHo5p/ihcCAABIAAEIgSAqCXUdJQ88zN7K3hW82nYOsCXOhgnrWn7A76ZXBpJWT5cLj3Zrm4cLsP9hYOgbDoJVrhclGCw1iZxICnjQwP2Nvr9/C0TPAPxfHFs/ACEXSXLC1C11oy1r6gPyYnrJ8lr7NB14OkvzaHF7Jgy0HYtom8xT8guTWbOd7jqFkZcxn9xXb1kFhP1xskBv9/2IljtZE+n8/eWgdkbRMDAuJjOC+seUJixPVSCBZWTeayEdDZxNkpJWN56jH9AlKEMG0X1bi6L63yYazpYXKeLMEmVoQ2nFFfUjucXTJorI9mWSO2MIu8Lo3qJNlHP6VGV9jQpwhr7CwXF1bfwdhCIhC6XpKlLpVFobWRYeO6APQSrwXIV4gU5AH14KWOXGH9SGEJJyx7ZNkp0pnKC0OizpQqgaSXNm3iFizYesfSpcKvLXu63ogbxEcmM2Ivv+GYRGEkjY2VSotrI3EaO8sdGNJC/KdAxFrgBIYO0eWi+K7iC9nV2YyMXuqaQ+e8IfZIgw05jM0d00bqJVxXI6PqCh8tECPS2UNXWMQR8i+R4lWlxpKtVlh09qAE5H9/ZQjHlOKEIxAEAvOJQOh6SWqj6KWfyDDUfi71kojTyRpjPGesBynd6ZPBgfOkO/ZkTewmd8xevFThJjrywxYCjHuU7h71dFTnULjGicc9hhgQl64jsLyvx52jOq4S7aidtQ2bqIS2g8uX3rHVYm2CyrjLK4l2aqVRG2mcD2jM6n/5Wex8rLHoo6GXwv0BWkg3bpOwJCQmYEMvSxWbnCFyjQqzfiiJ293O+FLXHFrnUekna+JIE+Mzx9BLU6S1Xqo1MhDbAWIk1X5IEijq5Vgy+znvuDFDKcXEstyiRRattFZbLkQCgflCAPQyyJYw1A6N2+SO1bDDIo3ekMoS2kXiyvpfY4lg6w6d9/5ix0rt4J6aqDXXSyLblr6RuT42c8vWi7ZpE9UQDwSFwaVED40vNVOv2klaFkktoGHr8oNtdNf8ibr7Gif6v9TRZ2BEnnO5ktXLjjzobLIWxC6w9pKNG+5pI82u608VrfNOpJe9zpNoCiE2dwzddZHxpSnS0Eu+JDieS9DVyHDIDhCN7zSqJk7UOVkvRf0zjy9F7UQ3dYOJYnpqHz6BwLwnAHoZZBNR/UPZhA4Id7LsEREaCxoihNILuziLWbG0TiALdCiJtVYc7pAuGHeR2CV5vKvvoLHDdJzKK8IkIYBN5KQfVeODS6k2SESNQSeP10T6VWKUkyiBccPRgp9f9jr2hkMvJZtk8pNS4vc3WmnURvJqspCswSRayWvsOvB9FTmd4q4bZxE5l5RI6/GlMVUQm0sojRluCKcrc8xuoNfRnhg3hv53TOM8ZEzZ7vb4fD5RO33a8SXNhbOCXtqlDunmGwHQyyBbhMuMoJe4JxLe0RAEUqeX1mNK2RnSweW2xLK5XBwjyi0yhV1CAbFDFMPMKoqkSsAqYt+mtV5q9I8Vit4GMo0mzZF29ZKIuvHSCr2lIIXxETna1xJgXpEASsOG44ZNWdvYzYQibyS/NlIpA+/qnNE6T6QRtylyjOxqI/3qpUTJcEjng85XU1yvo4eNCFEYSaaokXw+Nhm53INmXGMauUbSGBJvbz62OXn5HUvD9w62qU4QAQRmQAD0MkhoTGbEHpn3RLgDFQeUil7i7HSwGLBoLABowg2PI8kMMJ9+pPKAbWINJqWTxCSvkdEoCfmp6iWSB7s29fOx/sTS5xs8HENfAuL11UT6GbmSfMh5sWr4fVFOnggkrZ3YOrxYU8japvHol9vXSqM20lQKirBqDvpUGxUk3GZRG5JeypH+9ZKWSN8itgmEFhHwU9ZLcX7VPB8b0JgmAX4HO9AjbU0+iAICESQQul56EhLQl0nYH/5WiTYybNWY8/d99J0pfpIUh4aDQsen6KVP+fqH0L/r8KDukr/Dgntn4w0jNA2GZiM31Ti5XhqDKvqaD5NbZIQOQGmJOFdsLp7SDMKm6X0f/mUS4wsk+LVY9GoP/oaJKJbaSKPa9t73MeSfYBFbgYy58U0D5ciljsaYP7lekheSpe9sEJsUJqGNm4M0NHrBShtpLobEmJqDapjgPDJIS0S5UE3pWz/MLo7kL9CS7MadkEWNUF47QFgZ5gAaWdL3ehJjB2vQTCzZRO1U52PRU0+aSw4E+r6KvW8ZUR/gEwjMAoHQ9XIWnFSLmEu9VH1ZePvq90nCQSDgZGw4CgEbIRBw9iTGDfZSA73OwcRYtsvnY9G3Ns3jS/q+T01cII2k9umbZQ8k+3kBTEgMQSAwKwRAL2cF8+1VCJ4r8/sua3D1xSMJq++oBGcKUkeIgD+9lIu01ks5nZ89Mhlr9Rq2n4xwCAhElADoZUTx3q7G0axs2O794ffwouI06XVazcfK7uv0Up6JbZR+DEHODXtAYB4TAL2cx40DrgEBIAAEgMC8IQB6OW+aAhwBAkAACACBeUwA9HIeNw64BgSAABAAAvOGAOjlvGkKcAQIAAEgAATmMQHQy3ncOOAaEAACQAAIzBsCoJfzpinAESAABIAAEJjHBEAv53HjgGtAAAgAASAwbwiAXs6bpgBHgAAQAAJAYB4TAL2cx40DrgEBIAAEgMC8IQB6OW+aAhyJUgK9jnb0u6kz9T7E7DMtFvIBASAQLIGw6OXA/p1ofRK8Mgl1wFtyn7FoybH9XhoZps/b7ffW8VIhdJUJt7DQBFsMGS1tEZtLljLmS2TE4Eg9VLwYBV2oy8iOUpJ4vMIGWQeDrEIslC6tjyEZ19mMyGqRqFRp6Q9j4RGT86Q6YkXoMizSSiM4u2QwPJANOmh9R1Evhd8f5z9K7vN5BvH6HmJKbEDNLjGHHSAABOYNgdD10pOQcGy/F0mmoJcD+3c6XbiSTa5ji3aWNIW1wrebXhI4WAz4ilSGNpDltwTBo5rHU2rZarMba3iNoRy64mZgMzJ6SbRNXrxT57wh9mj9TkMO+V2FHGm9WiS9QcFLVPK1tBQ+WshGpLPH4gdRp92xdNlkkgZJpk4vRVn1VxIcAwJAYA4JhK6XxHlFL4UaVTkXJRjaKcSGFJxbvXTGxbAtzkkrIsbGxMQ68OqAHkcsTcpT0hzqp9JBo93S2L1uvLj0zPRSzY6XjWQihGzylauV0lXn8L7OpYjoJXaGSxcuXOs8Kv1kTRxaR7o3jq4TqY201kuVklF1O0C0lIRIpJfJ7BTxkSGmSS+FDBAEAkBgHhOIuF6i8WUSX1o2LCjmVi95FZAcEh10xlGJ9PGgM844itb95Ql4fjmkdNBot8aJ/i919M1ML9XsdJ1hUi4ekKFBGN6U0mXXjD2dS5HQS9nm/9/e+7zIlWR337l81waDvbTAoL8hV8NQO0MPpge8MtjYpDA0hge7DC0YatdoJVLzoGchaNOeBlFQm+ZdJMyiVNRCC5W16Ac92bSnXN1CGprqkqUGUzBPre77nnPiRJyIe27mzcyblb++heiMGzfixIlvZN9Pnrg384TBXedHxMur0dHZ8HTcP70eHemuda2y2OAlbUOQXapkJstJtl0pplTSFivlSX40vMlauvFl1gIHUAAKrK0CS+blEoLLqqpWzMsslGzmpQkuOcgMMWfjW6EglsApbBK+lvuXoW/R0rXodL8aPo43RPUG4Ry8zF3K2Ra5nsM4eOhWOt7nNqVB0TccDo8oROb2xDZiKpHSqWyOLzk2pTvBs4vs+J5XjQcX9we8/S314GWuD46gwEYpsEReUmTZ9U6saLtSXppIMcWXFD/qn3LRNGz1ligoGIBXCQyyR3uKlq51rzuBROIq6jLffiyFZdalnG3d8LK8t8oTdJ0XNFZ0a5Mck0O3ciIvsxkFOduI7CqfVRa3Ntvy8vvDe3f3usswmrmEAygABeZUYFm8XB4sVxxfEiMDEZmRHF+eD/tKSbMOdH76bcvYobhAK/AC2OyjsEXLaMEW3O62I5XlYSLuZk9ZO7bcbDPca0xGinBQrLiVdoBYZpYntHN9Mi4PK5HzAY3aL+NlXjmZl3OKrEM0vo4H+ZZsW14+e7B3d2/v7r3D7xtN4wQUgAK3rcDivDzfD98boa+UhG+VpC+TmMruprbS+DKFkv3hMN6hNPFlL1HSbsk6QFVFGr9PEp7NIQzMz0uGSuzO1JFvj2RPw1oaqV/lK7VxXIrhpnGS0cjfWjFjuZXlIHosyAxfngmuls6TQftYEAmlT/2oHZ6+eVZWvznDnxUaZkR92wgSx8gKevMyu39pKvnW5rSnfp5/Cl5mquIACqxegcV5uYI5rJaXzoTzSHLWjVjHIKp2XIE3hx9jP3bH3wOY/vopAF52sSYZL7ODLqzDxm4pIJuxnz7frVljtlBg/RUALztZI7vxqrc3OzEMI1AACkABKLAeCoCX67EO8AIKQAEoAAXWWwHwcr3XB95BASgABaDAeigAXq7HOsALKAAFoAAUWG8FwMv1Xh94BwWgABSAAuuhAHi5HusAL6AAFIACUGC9FQAv13t94B0UgAJQAAqshwLg5XqsA7yAAlAACkCB9VYAvFzv9YF3UAAKQAEosB4KrJiXv/u7f/z2578o/v3u7/5xsjhr93t4k93FWSgABaAAFNh8BVbJy//4y78WUv7uL/6qKPzHX/71BG03npf8c0A2dUn8uXZbOUGB9Tz17EF3KaieP0B2jttY5avh2/u9aT/+PrrMsnhavyjjCmXGvt97exLTwheVE7KytG15c9KvjWLd2MByK+U3cF5b7XInvHz/5KFmJlGxjp+GzCR39r988qPW5q/CyP/6zeHNm9//5y//5j9/+Tc3b37/X785lPq8bXa0fbzk6RFFJ/KSU3bEDM9Vlh5Lcpj04tk854lJRZIlCaF6SsShib24V8z40domuc+/evrgWVqo8x8+6738pHfxdaqqLofjT6jy5Sf9Hy613q2sWiXo8LNvShqTIIWm5MwFKaYsSUtk4r5NUTtlXFHFdBL5a01kTXhiB5IUKGZQSnntV7qje9O0uWKysXL/zBElTpmfl2XCMjZcVjbzsl1LguWj4Q3ZbjZlprQhxTbKb8hUdsbNxXl5vk9EJGTuv3Jko0SYD19855ypvv35L373F3918+b3VVXdvPl9LEi46fUIdRvPS39uU3kpmbnilVpJQNauBgdnw9OSfIJJxp7k4ZLreMjJFbxo5GVLm2zm+YO7e3vmJ8JHF0REQqbh5egi4pMYOfhAXd1KttkiR4fPNgFJ+BBgVapl6bKfD7jX4BvJHV0XOft0EqTzXzyRGwc64Y84ga/90+sAPJOAjIHqjd5+mr6fUltktHabNsaXRLLDUdGnVtkIuXYt89Gvhm9rIxYObMhhG+U3ZCo74+bivBSpJvLyadyoyXSVOFLCSjkhgea6x5fmx9UlHOR00cNBr9fjlJgxAWbcZY01xAdqR3+1UHI6L7OkjJZzVB6PiJoco1RVxRdo4WWCCl9hY/gYFsPaKS/rLWySlTef39u7+6CeUCPn5deDl58N/8Cj/uG3/RB6upXBM45ZJ+ZMTlOjLopGnlH/8Unv6CpVik1WQGShaOX0LGb0DCmjj658m3k0rw56r57I5iNL8LMnAx2NB7JwmraTRq9VNie7PmszTc/Lxrrrw97lCW3S8v7n4JoaMrHGA7sjSqgLbVJLt9IGhdLgclzN1JJ2enX0y/HokmJNcumD+hC3gq8Pw+bwhQbNNFCITWkm14e6b8zboTKFGF57c58klCogKlVVzebNSf/tyfCSM6F+YN/iWI12cWKNFVgeLzWPdENwWVUUX377819sGi9HMUc0s4/SQDNAByNGYX94zvjMPyKUKCyP+R3iVhbvHUICY0BiTZO9mdjAUQgVLC9TuJOTQC3z9V2zKKfE1HSJb2GTrHAgaIJLtVxlvCRGfkGxyIcvei8/G/7wRW/823O3MvavKGy99/mbVFGU8hlZXo5HTM3hO62UnjkvaY5xB1uJOCKINsSXaT82j9GNW7lL4UTjQEdXoyPaGOifXo+OKPc187KsDCtbjE5zaTVN4930IiFHAUP8GAsveyGOJG4pHirGXi3aI0RllSG+tJbFjzYtrw/7H64kFDv/8IjLgZe+S2GGhK4I+/4H/n8igJ9a2Jg1xXnWQ527rxi1zOYosNSBaHQq88eCwTUNR5xmfOZXBt88atdUgeXxUif8anRnf3SsR/Z1I/djmY0hQqQX5SVFiyFRdOJljCXLeNJFo1tpBaOyRioJnDaE4os1X8o5UgwUFIKGcCqSQC0HrvBhii8TZibbpG6NVHN4SbBUakZeFpXq2QQShyY5nNRnAUkIN18PDohDoUPGy2KTMxxO4mWCa/KxKOUuyUl/oCF/IuH2tCsgH1Dkv0Vlc3wZNgD6pxOmWTg45dDjhKFL4hDZqQHPrSReUihWAMbpXm95/uHR4Ppq+FZjSmJPKvNcrEsahnLkF7geY8rkLXVJkegFs02iz3bxX0JsVDMZ5yqRUStDe/AyyrWhheXzspIbnI4+El9u2PM+gYnZdBR0BS9NU22h3cpjrncrtUd8lSv+6et+3HrlGhsg0n5j3I+1hLDlzKBCNPKyvc3WvKy+Hrz8hGJKmWy4telWRt8aI9fQIodTwUvZbk0RM/XJFdAPH2ItfATxbWr0OT06yIcQ0+5AgkZeKfqII4du5UReTp9mEKvdy5J4SfuoukcaHVGcxAqJRG1LpuN4QKyN1GzkpcGYhWjoKOEpj1U+ZxQc8OYefbMFM5BWF3MBL1WYrXpdPi9fjZqe99nM75NQzFjcelTQ5bykWoo+KSike5a2k/bI3ktuZdaCD/iyTltzYUuQru8p7gkX/cRLudCHxtI330uk63vJy1lsTogCs/iSH+3Rx2IJk/F5n3qlzroxctUGDKcQPkZQUUHmGLRqiC+zh1EZpayDa7M9LzmuVQcyP8N9U7JPAwU0apOMl3nlZF6GO6+NYbTaavfqMaOD+JLiNo7qbABXMCbd6UwtDS8FcsJOu6Ea0UiFsCNK+6Vp35hJOZYgVVSwSE66eHPnsxy2Gs85Di7CZTM6z1T3Y6kZ4ssk8kaXFuel3qfcD18g4adkTWXz/cuqqiIyJdaU/07+8mVVVSt+Ppa4pn8MRAVdzkvzaA8/BiS8tJ3jLq1b2fi+ogur3sUMV1LdcQ2HB+NRjC81qFJmRNySEbqC6+Wbxgvx5dUwPCwjPugd0Eab9ed96KlX/t5I+G94Stb96ohbySPTd1QmPu+jz+ywIBEYiZeyfc37sey8icLDRwSOJkP3/Dmg3Gb42BEq0ycMf5VqIusqiAM8EKmqi0JWaFn1qZ9olStfn7uju9OUnnRKn/yKttoVPGZ0xMuqksd24uM5jbxMLUe0H8v3/y4eDS5pX1eI6LvEmKSNVn7KJt1nlXEN8LJnc2r3a0ulyM8yONatY9rX1YHSbnDAtk4QvCwl3dDjxXm5gomvmJcrmPHaD1l+n6QLh6dtxnYxBtuwnwM6MwpD3Sjg8bsby6uy8vWf/lkc2pZjJQprqwB4ubZLs2GO8e8VTHqWdcb58O8VON9RmdFMq+YcDqYYvVUfNLolBey9xvEgixFvyYPuhxFM2v92PwYsLkEB8HIJou6oSdqV/fiw+csfM8lyy7+HxxuYvFma39ydyWc0Xo4Csh1qH3ldzji3atVGlrZ8q05gsBkVAC9nFAzNoQAUgAJQYCcVAC93ctkxaSgABaAAFJhRAfByRsHQHApAASgABXZSAfByJ5cdk4YCUAAKQIEZFQAvZxQMzaEAFIACUGAnFQAvd3LZMWkoAAWgABSYUQHwckbB0BwKQAEoAAV2UgHwcieXHZOGAlAACkCBGRUAL2cUDM2hABSAAlBgJxUAL+dadv6BdJtwpLUVm266daei4fyjF4ZwuAYKpFwca+BM5y5s9+w6lwsG11uBTnj5/slDSk7CmUmy6X53/KVbnzWa/WD1v7c+P7E2mZdFio/4g6vpx+RMwg2nskibLAsvyU+cvB8hDUtMVSYGwyH94qtN7lF7E2VmTSKtPOsI2xQ7kqhEE7YE46myMUPIiSZTCy7ZhCeSjWSin5SYpJ4Ysjadza3Y7tlt7rrA83kUWJyXkg6akFnykjJfjvbr9fP4mfVZPS8zd2Y66IKXMw3YYWOTx4OpwCmxuDIggfFDyHEr/RSSLkQrzul4Njw1uTkDgCUP12ReCizzX4L1XApsIwYHvvZPr93K5gyUJ5rbK3cpSjFdfyf5cNlpkd8ZHw9i/qzS7DzH55xgq33PFrNrbwwtocBKFVicl+J+nZfNHF14wqvlJSd/jqkrdTImhWVIEq1n8lfmpZrQlgaiZEc3ej2b2jU2knTUg6Em5VSbVWW6q8Ws0m2ZKnO/6ajkJQGJo8BIJmJG7+jKrfSR40NUsnKOR5x72USHZ/2QmDOHU+GqiRrjGdclQuPReEDJpa8GmnvSrfSdp4EaXJqBl9HHULg+1HyKFWdL5mSQKS9HSrJIiR7lXyJinY71msJgOX792DLSlrnl1ZDTUrInjwYfrurdUQMFtkSBZfHy+Onwo+P3VVXnaAfCrZaXPAGLNaowxJs8QeZdSh0teDK9jWFTW9g0jcLgvcBPMi/Wbe+QyLrJT9u0GCk7ZF7GlMsSUxKH4papwm/oVYYYLjUW29nGaY/QRX9klvZ7+axs/BKBxiNG1PDdJF5ygBjSQUf/XT9HxMur0REFsv3T69ERbcMyL8vK4MlB3DdmPye4tDxe6pRuTvoJk1pZ1elYr6k41/Gj4U3sNaVgGWnLlK6bws3IyCsF/BSDOA0FNlKB5fDy1ejO03PWY1d4GWK5FMc1vRssmyL2TGWsi6GgY9M0onG87sEhioP5L8SNoTq36VY6EzDxZRV4wDxLCJTD8eCxA9FJvEwWZNiEQ4afgRNHnP3T1xPuX3q8dP18TVw/uuL2J4NvAqQF1UVlc3wZguDSpYV4mQLHC6FasR97dX592L88Ob85Gbw9HN1EXHHgWEK04CUhrU/R6njw1qLOWe9YZRlpy4GXKaakWLM9hqN9FKDAZiiwDF4SI+/s5/8evviuO0HWML4Mk5Pd0pxG+bwN23jDlNuaygKFQsOeBo3BVtHI655Cynx8OXL9dCttb8tLLktMFoNCvunYxX4swyYGsr0DghkTmsApJOtNeN7HYxVRUIPXzM+jK95nJstCSvlvUTmRl55Lng9WywnlifuxRMqMc1ejD4d9oqZYLOiYEZT7Hg5tOJj1bfLpanh5GBM1c2x6v3dxKBsBVcVPwOrOcD+xs8ka6qHAxiqwDF5aMXYlvkxzLliWTkjJsC3bO5X4TyK9Gm9Lm8WxsZnOJOulC3KcWprzbmU8b3gZwy8NNLkRQYI3Qi0tYqXu1srOg1otIj+qJuMp4gz3RCMvA+0m8JJjUEPH6BtztxL0kp8BjepKxsu8cjIvHZesAmqq5etEXk6zMYmX0/r6588/0P3U8w8hcDTxpXcnVcCZ7rb6NlELBTZSgcV5eb6fh5L5U7Lbx0tCiv1juGWVNdzZd4YEcdkeKRFCjfaHw0G4ARnrqLHazCq13uWlMdrr9fLtWBnetamV1mctMy9j2Je+JsFskPrwbE5gUrjbp5WMxnQLUOhVVJ4N33FN/LKKUDbcueSN2fCQ0eTvkzBldSzzxJB1iQZKsxCz+tSPzpmZSvCu+5lC3nDD1SJ8dbzUUE82dQfXdYLGubUo0MbvmNuNee9Xbli26IgmUGD7FFiclyvQpOV+7Nd/+mfRuU0sR+dR2CkFrg+b71/OEdJFXs7Rl3Zidd+1qq4PBx+uTHzJq3IzHrzVx3Qv7vcvx/n2wU6tHCa77QpsMy+rqhJMbuJ/t/2Nh/nNokDxvM8sXZ0nZmfqXjYueDm6tA8N0cNE8cswZU8cQ4FNV2DLeRmRKet0i1Hm6Jd20zaUaVd0Vh82/R0G/ztQYH15WSG+7GB9YWJDFNh+Xm7IQsBNKAAFoAAUWGsFwMu1Xh44BwWgABSAAmuiAHi5JgsBN6AAFIACUGCtFQAv13p54BwUgAJQAAqsiQLg5ZosBNyAAlAACkCBtVYAvFzr5YFzUAAKQAEosCYKgJdrshBwAwpAASgABdZaAfByrZcHzkEBKAAFoMCaKABerslCwA0oAAWgABRYawW2nZfPH9y9d/j9Wi8BnIMCUAAKQIENUKATXoaElyYzSZ4CM+SO7kyOlr+3zuM9/3RvD8jsTHoYggJQAArsqgKL8/J8f//LJz8WebuKw+7VnQGZbw4/3tv7+PBN907AIhSAAlAACuyMAovzUqQqAFkcLkXO9sh89qAMMb8/vHcXEF3KssAoFIACUGA7FVgiL++EPNJfPvlxWdp99dUX8m/KAM8f3N2797mJMMHLKYrhNBSAAlAACuQKLImXaZDvjr+8sz86ThWrKPGW7KfPVzE0xoQCUAAKQIGtUGDpvKx+fPER3eBcqVp1XlLEiZuaK10UDA4FoAAU2CgFls7L46fDOw9ffLdaURr2Y/Hc7GqXBaNDASgABTZIgcV5eb4f7lMO5YYlf6uEnvcJ9y9XDsuqqj/vU1X4nskGvUvhKhSAAlBg9QoszsvVz2GKB/XNWOpAvMSXTKZIh9NQAApAASigCmw9LzmOfJA96kPhJmCp7wC8QgEoAAWgQBsFtp2X+D28Nu8CtIECUAAKQIFpCmw7L6fNH+ehABSAAlAACrRRALxsoxLaQAEoAAWgwK4rAHP9RRwAACAASURBVF7u+jsA84cCUAAKQIE2CoCXbVRCGygABaAAFNh1BcDLXX8HYP5QAApAASjQRgHwso1KaAMFoAAUgAK7rgB4uevvAMwfCkABKAAF2igAXrZRCW2gABSAAlBg1xXYPF62zXm56yuL+UMBKAAFoECXCmwSL4vU0MVhl6rAllXgfNjvDUa2ZuHyswf48d6FRYQBKAAFbleBTngZspFwZhLj/qtRyxQln/zm5Z/8y7M/+Zdnn/zmpemfFb/66ovsWA+a6vX89fDxSe8g/Bt8U1XvXvf1sHdwQjX0lzXrHZwN3wUDoyPu+/j1OVecn55Fa1Lon15P6B6s6EtDdzpdDFT42Tu6YhvspzqjVhud1waLvXbNS/793gfPFnMKvaEAFIACt6zA4rw836d00IRMy8vvjr9smfbyH/7tZe9X3/Z+fdN79H97v/r2H/7NR2YTF5vqWUcByTiLjZiXgklGlJx1OVRV1dXg4Gx4OrYEJcvfjA1rFbclxpqXsuzuDWT8ZMoKwl0/3crm0Wc90y0vOVP3p9kP4M/qENpDASgABVagwOK8FKcLXgpEW83nj/7pmGD5vyr69+ubP/qn43q3iVCsGs8yljj+MyZn4JBwcTwiasZIlE2VwJuRWGV3b6DSzwlcn2V0gl/4i3uso0FvMIz1Wm1a9uJ+rKnUdtXU7v2hBOdVVb35/N7e3TxdjFkbFKEAFIAC66vAcnj544uPHr44Pv5S9mM/On4/QYD2vIxP+thCVTXy0oRlZvzEIcbMgeFQ2qcNISkFoLQRyi3DjiibKoEnpuLGb+huRs2LZXfejC0GYj/j3q9S30Vj69GJdgovUx4NerGa4EfxONUFIlJLKepJms1ooH287gzRLK5nBfxcpLk4OIICUAAKrKUCS+Pl/lAxOSXWTPuxv77p/erbv//Xf68L1RhBctOmsxN4GTiUEOhyiMJKARWbMhQsged2r89Da8ru3kCJ63b71x3IrdSxzGsCH1dG+sVCaptoWFWxGxXsX0Cv01069SJy1TBtxt77/I0e4hUKQAEosDkKLI2XD198pyocP81ubWp1ev37f/33P/7nZ3/8z89cWEq7Jig21VOvEktsKXIoO+shhxvECC+7YZn1Xfj+pTtQ9LMKzyilB4vKG6We80ndVIrgk6rIuVhITV1e2srUtCGUjGNYaoKXRjcUoQAU2CwFlsPLytzO/PHFR/RA0KKyNHGxqZ7Ho7itF3Zc1YHEIcaM3Y/NOUQxZaphUzEe7ZSX/kDJz4qjW7mB6qLRrdT52lcCpr8fG29GhuappQSVcT9WN2mNWQe35mwKT+n25eHHe3t42MfKgzIUgAKbosDivDzf3x+G741wITwlS5gM9fa52UV0Kb5wWRw2WBZklt8nCV8jYeyluC3dvzwbvmMIRUCGL5zolqzLy6x7gztSnXVvGIh5GaPb7P5lGshANFWmL8M4TtDNRvlTcPKtyJKXcUOVtlQNEIWeuQFzOg5o21nE4nmfKBEKUAAKbJgCi/PyticcH/a57YExXicK4PskncgII1AACty6ApvHywkPxN66ehhwHgX49wrw1M880qEPFIACK1QAvFyh+Ds7NO3KfnyIx2R39g2AiUOBjVQAvNzIZYPTUAAKQAEocMsKgJe3LDiGgwJQAApAgY1UALzcyGWD01AACkABKHDLCoCXtyw4hoMCUAAKQIGNVAC83Mhlg9NQAApAAShwywqAl7csOIaDAlAACkCBjVQAvNzIZYPTUAAKQAEocMsKgJe3LDiGgwJQAApAgY1UALzcyGWD01AACkABKHDLCoCXtyI4/fx4/SfN5x2af8zcN9ftQPM6iH5QYKsUuBq+vd+7HC82JzIyuF7MRtk72RxdNhnvxPly4B097oSXlL3rzr5JcvlqZDOWZKe60HliDq8uBujcRrcYm5uXec6T3gFnMuFkKZq5LGSulgxiMTtKT/NmNwkzOuIMMJr+jLvHNCnTbIoDnF9F07B447R2njtz1hfN2ULpaPLuIUFNSDsT0tdYQcSTMpOaGrQt55cudynMPa8MfuaVdvSanzT7Yjm8uYs+mm9HdNDlK9Xn0cUTEYQHzRRml2axSWNkFsJM628Grimn6VbmBq1K869R0GJ0ubm8rLpwvnxP7Ojx4rw836f0libhZamkNChrFznedV5O0K4NmPlao8AIWbXDxaUKbAsjFC0bx70aHJwNT8dqRBJ2lrz0bfK1OKCizXBFGz7UcaPzxYWbRzYXfcaJoIJb5pwInxWoMlzQEx7ylpKQvDY6D1f46Urnzt3307HZ4GdV0SJmyyG8lBVPcy9Hj+tV8zW5RAr3QpI7RzoZyKxms82gbQQ2D1q6ROnq3Gm6lQHA3a5REGN0eb//4aqmzEwVKRacqdvExslmc3xJvFzY+Yle7M7JxXkpWjXy8rvjL+88Pe9W0BXzksM7SQEZN0UpB+Rw2A+pJbXatKQ8kqKCqdSqyu/uqRbzV8a+1MrYTAN53amuuJTT4Vn/sVwHI3K4c9FyksHxiFlropB4rZxkM12+ybi9HDcMVrjkOs9twlU7mkkXfYtz56JP1+Kj8YASiV8NHo8Hj08m8nIB6SweYtn3k6eRz73BT1nfbDksL5k0YWlU/Gmyq0vaXjR1pNPQNoyuZI1rYAreGuX2g1fuNN3KZl4usEbG5azIm5wX93sXJu68PuxdntDOLdfr1qtpeRG3TE1l3Ob1u2ej6oHprjaZl+OBuPT2pONLrg6866/L5mX3weWK83kRmTTTsikTxrRa8ydTXaAatZSinqQ33migfbzuE96ayRw3cgdq7p5fdhmf4xFVng3fTWJbk0W6zFHMwRdQDj7sRVkomOiVj059U0DgX4KzcfPurvP56NpbL/q6DWjiy7TLSpV8Lb4aHVGI1j+9Hh0ZXuYt3dHDeIWf6kX2Ghkpgx5w9m/fT+6X22zwkzdj8+UwvGSF6aMA/4kDj880RM68Swfi0unrvngYToipuJU9m013jdw3w4g+vpTL0TB3zyUSbaG3d9IhlghXGrGZ8vVh7+LR8IabEfzofqfZC6WWAlEbC6bgz+seh7SFJpu9i0NeWOOS7Yby4gosl5fLCC5Xy8s6qeoYDKuSaCjxHzek/vYvMNZStMWi5l64A02wkl92w0U/7MS+HthblUVL32ZCLF8EFTlyc5S6pAZ0lNksAFkceuNl3bNYqn8anHevxcKMcEc27CjqLbQEbBpR8M9GCGDZp4G85aLSMYfiTeKwQ24rk58sRT73Bj+T2nE5Guauk01brJ7gVXbrN23jy8ejQhA2QI5Ns+mtUbH64XDIn8aK5WiYe2Ehihbi3fgOCfPM9WyYvFN9c9IPZOKTisYqFlKf8SAStIq8pILEoPLfgF6nezJkSq5NArNGtNX5h0cLP51kBkQxKrBMXv744iO6tRnH6qywwv3YnFS8j8of6RzguRizlUYPp7s5WyvmXlib+ZlaR64oLhN0GCFHV7qmWHCCtXjR73EIkl8N0xWcLOSj87VVQ5M592NrzudDBLclSPqmcMC5wsq1mBlDlsOhi4cFpWOXktriqO8nn8vn5fvJbYrlSPFlbqG+HEGr4kVdyhfLkS70q49SGKy9DeR8bp/eNhxZ8u4F+ZCWw5/7Mtao7nlVLcpLCzxjH7w0YqxpcYm8PH467PzOpai4Ql7ynULdeCU4NQeI6SyVdGvW7J2at8RCvPQHMtaLYnE5o0MhFl+hZuQloTEFGeEaJ1AMJHCG441H8cqepXK861k4rYe2fbjs1p2XiUi9dtSLvrMfm/ynxuFarP300MMDOVMfnXsWfqq17JVdauSlXP2DfcemOhZMyqG/HP7cHZuZe/EgdueCLrcniHRpM3f5bGRnV0CUjNCbwZ2mW9l8/3KBNYoi2ILd8DRlB3jpLMV85l6jE/853e2gsdxoU+NLuoup5dgLhS4UWJyX5/v79GWS+G//Ffu1tOBytfuxNDdCnvwpOLku3Ko0qyKcZFQaIMbaXv2Wp+nsF21n8kEGjbWDkRmobkGud+kmHMMpXfT52jQbL/mimbYN+ZAvgrKBJoFOhoT6xZRrpKXZ7qt5P5vzgf3JbLzo63WZvRKH4024s+E7qrEO06WZgFpvGXeDyVVqNpt0YZ/TjkWGXD+dubt+0tNJ5ikb8Xk8cm2KwPXlqAlvXQrLGu+PFu+l9japZW2NdGnSqrHsViJejvgQVvB1iWtUV0Nq9Mmai3gjs/L2YyUYDY8FmS1TYp5uyZa3PJuGTPUU4JY26aamVFqXUh+UulBgcV524cWMNlYZX87oKppDASgABaDAdigAXm7HOmIWUAAKQAEosFwFwMvl6juv9bTnq3u/Zvd2XqMb0i/bppOtuen3NTdkbnATCrRWwG6xYq+1tWzLbAheLlNd2IYCUAAKQIFtUQC83JaVxDygABSAAlBgmQqAl8tUF7ahABSAAlBgWxQAL7dlJTEPKAAFoAAUWKYC4OUy1YVtKAAFoAAU2BYFwMttWUnMAwpAASgABZapAHi5THVhGwpAASgABbZFAfByW1YS84ACUAAKQIFlKrBiXv7u7/7x25//ovj3u7/7x8lTxu/hTdYHZ6EAFIACUKBzBVbJy//4y78WUv7uL/6qKPzHX/71hKnuEC/5l9Trv+RO4tAp/8wE6XboFP+kdUxerxOXNBH0aykpB73fUnuEV/Nj2emMW5lOL1oix9olmkgtm11qNc1FXUZ/KLDFCnTCy/dPHlJ+kpCZRNR6NYoZS5qyegkj/+s3hzdvfv+fv/yb//zl39y8+f1//eZQ6ieIDl6SOJN56WS0CKkfNR8T/exc//TaJhKRH5+z6SBqq5Cl6QjpREyCkdCXa6Qs9qmlW9mY90OygqR00zP6SSlDLu/Xsia5qQdbgcTlkFtZ02zuikTBaSZSywkueYJMM4zzUAAKRAUW5+X5PiWFJmQaXp7v74+OwyDSII6YCt/+/Be/+4u/unnz+6qqbt78PhYk3EztaqUd4mVt7qliMi+lXZGtKYBNckwGXgaDRcs0jC1pfihbx2C2mBx8UwW2mTRYCcx5ZXPOwhP9zdg5/BT/Rpcm15JUFZl+7TymlV0OuZXTLLU/nyg4rU9qOcElR5BpdnEeCkCBpMDivBRbBS/p8KPj93Tu1ejOwxffpRFTSeJICSulVgLN9Y4vTYJJSywqh7+UFdNUxp1T6j+MjWN1kiWW4m+uZ42MTU1/GXvUCgUF6fCsH1Ikzs4htlZEn5z3MWZmJpu9oyvi5dF4QIkwrwaPQ7ZCt7KZlwv4WZOBPpBpykDNERj2Oa8Pwy9ZZzu3hJ9Qr9u2zCHNejixkvMgnkQLuqFqbMax4ugXNhQ2Lack/nVaun56iqAOCkCBGRVYEi/Ji+OnnET66XmTS9vES0PROF1bNxr0AkaJgkpU2yJ2ywuWySFXdcBncSbvFo4cXo5HTM3hu5l5yVGjxKZpME3VKzUcgD5+PSJeXo2Ozoan4/7p9ehIN35rlYGXKe0wo5c8nN/P5Fyt1BBf0k3NyLCqchP/crKIwxGZTPnrTSWhq//his4TBcskwDbs8+I86i5kNbumqbI2E6pwW/ouuf1RCQWgwEwKLImXfEeTSUnUbI4vN3A/1jDOECtEfTYSDFUadSokTf82K2XGEFwqa6fcvxTbLi85r33/9LXcvwxOFC091zxeBkDqZ6JwODzSKPPgZPBNRUwlUjqVzfElx6Z0h3VmPz3fQ11LXoZgVOgYuhrgJYyZyipB9/owoy8ZoC4xJVPvQsnK6I31zEt7hzUN5M3Jb+m75PVHHRSAArMpsBxe/vjio+z+pb21mfyT+HLTnvcxvMtZRhOTLVShZgop05SliaVqds45yMewNvMzTtcqPGITnsoJhxTAMflOevy8T+jYgpfywE6yxj3d/VhBY0W3Nmk4y8uiciIv5/XT14JqW/IyGJDd10BNw6GEMVM5mZeWbck9E2hGm7ZlrExdTMlv6btkuqEIBaDAnAosj5dfPvmRfSJ2ajl3cjO/TxKRRbxy7iAmjBE862g0vM3l8I+SOTpPRxJgNoxeGCkoSIdyr5FvNM7KSw5M1YKOZIegMm3YBl5qk4yXeeVkXlZhRNrODf3scGqq/etsvAxxYdwmtXcia5Vpk7ZxO9du+ZLPhEOzhSv7salSvvqig9Yn6bc0vDQu1XujBgpAgVkVWJyX5/v7fJ9S/ytPyX53/GX8Pol5brZ0LyJTYk357+QvX1ZVtdrnY4VUPboLORwEIMY62n1NjLTVuo/ampe2czIbawejiZYav08ivGSkzczL8O0O+dpJj/daaUWZYVLJ0SftyibCSXypT/3EdwBB1Dwrqzb5/igZXNDPOE5WqPEyfR1TngNipGWVCjnDoRT28c3CsNEayNdw+zPfkjV3N2XctyfDS/2qZdgNpieAzKDZPMKB19J3yeuNOigABWZTYHFezjZeJ61XyMuv//TP4hTWrRwdQwEKQAEoAAU6VwC8nFlSweT6/HfmCaADFIACUAAKzK4AeDm7ZlXVaWQZv2YZn6Tt9Xr/z1AfOW0z1jxzQJ+NUcBuscaHadP278bMA45CgQ1XALzc8AWE+1AACkABKHArCoCXtyIzBoECUAAKQIENVwC83PAFhPtQAApAAShwKwqAl7ciMwaBAlAACkCBDVcAvNzwBYT7UAAKQAEocCsKgJe3IjMGgQJQAApAgQ1XALzc8AWE+1AACkABKHArCoCXtyIzBoECUAAKQIENVwC83PAFhPtQAApAAShwKwqAl7ciM/1KevoZ9m6GXIbNbjzbXiv0S+u13JabMt2Ndn5TRIafW61AJ7zk7ND7eZLLVyPNTzI67lrBFf7e+pxTWQbbptuc3qJpOjFBJqcN4Zwh2pTyihxIahGqylvGnJqcOPqAW9J/MwtqKb5mjUN+TZPzJKQ64Ropy6DU0q2sMoNhdDFIGVFClpX+6XWD89GxeoF+mk4zlvBZhhDnGIk/UJelN7nIkk7XDDrdSdQPj+h377KBal25oqGlZO6837vQRCjcuOa8bxO1UAAK+AoszsvzfUpvSchMebtsvuhXozsPX3znjz5nLXhJwk2n4fQWTQvAIAmQY0BG4F0NDs6GpyHPZerONDKppJlYAU6plVcStoXsXaEBJyOzmBx8o2A2KcAS8PLK5pyakdyU/jNlHCud99wMdSbDM9Wcf3gU8lNSaq0AJ2JYC9RR7vBEXwJnzKnZ/3DVxog4U7Y0nhQTKZwvzuIQCkCBKQoszksZIOflq9Gdp/p74ZUAdYofM51eMS8JQ+Ev7rFSLsphrNdq0zKlxTSV2q7yu7uimO7Rpv3JdrGZtSJnNf2mORFHr49jeVmV9BqPOI2zoWOI80xNa16aADG6wYSOBOXU1kdX5NLReEB5Ma8Gmk3TrWzm5Vn/8Unv6ErSUM/Fy+hjrZCSM5cAqzXVivFAEVtJJktD2dZGOBg1HQFFlRevUKBrBZbGy/2wDcuJo7988mOXjq+Sl8Qby55QJmJpteZxprrAJOolRT1JeowG2sfr7irm2jQt00BuBOqPbvqHYsZLpiNjhrNME28Yh1TQvzJEk6gx7sdG+Gl7fc0HCrWaSloOA3pHxMur0RFFt/3T69ERBYjMy7IyuJd2g3l08nA8ov+eDd/NHV+q37VXAl7YeiXUSRboi/txk7bWoWJGcpfrQ9o4/XDYe3uSPmW2DlJzsl4N3z4aXp/0NQ11NOg4gCooAAVmUmA5vKwqxuTwzv7wo+MXvGE7k1dTGq+QlxmPmHh1DAbvEw3N3in1t38JtxOivSSHa1PIm6xGS4Wz4kZqlwifBgilHGMhwrNhGTcwFHR52WI/Nh9IRi9i03A4PKLQkNufDL4J5Cay1iqb48sQGfdPX8+7H1tTSipScJk14KgxbNhmJ/hAEEuwVGp2w8v7kbuINeuqowYKzK/AsniZPLL3MlPtQqUN5qUFntHAxn2mula03RMNTW2q9OJL07BmOqvIMBb3YxmK/ARQCBzTBuy8vJQHdpId9sLdjxU08uYwcVoO3cqJvNT7oHPev8xUkoNJUKS7ks0hJj+Vo4zMw8Ryl9UZV6vyjhxf3ui568OWd1K1A16hABRoVmDZvKT7mh8dv292YJ4zK+QlP2WjG68Ep+YAMZ2lkm7Nmg1VM/W2vHRtpkra4dWByHqNj/7oxpFQtLyM9KLKFDLGoJO7zM1L2eylu5Lmz1qjMj1tFNCorTJe5pWTeSlRcq8jXk6CZVXJRmukV8WA9O81lhFqTkGZYNldaouW5nAyrVU0vEIBKNBSgcV5eb6/T/uu8R8/JRu+YXKn+JJJS6emNVslL7PNTwWn2Zi1vgsnmWAGiLHWPIVjTlsDTjn2HoxSJ8YkbbT2h8OB3jOlzrG1ct3UTNiOTUEYR5MCM94XTfcs+TByzhKOBpaz8f5lfLzWmVEEmESuIdZkg6aGDKYndCS+1Kd+olGCqHlWVkNhHp0MBirzJwBjrXQ+2ptWSN8GCTcsmYVErHD/Mvs6R/2hnqpKFmIYSg/N6u1PKkS+MpvToTxe67RMNm3jaXPBeSgABaYpsDgvp42whPMr5uUSZgSTUAAKQAEosOYKgJdrvkBwDwpAASgABdZCAfByLZah5kTcYW31OGutOyqgABSAAlCgYwXAy44FhTkoAAWgABTYSgXAy61cVkwKCkABKAAFOlYAvOxYUJiDAlAACkCBrVQAvNzKZcWkoAAUgAJQoGMFwMuOBYU5KAAFoAAU2EoFwMutXFZMCgpAASgABTpWALzsWFCYgwJQAApAga1UALzcymXFpKAAFIACUKBjBcDLjgWFOSgABaAAFNhKBcDLrVzWNZrUswd7Hx++uW2Hnj+4e+/w+9sedcnj8Q+px59fX/Jg7cyvoUvtHEcrKDCHAl3wkjJcSn6SL5/8qD64lXpywded+b11Si8Ssz83iSYplLNcHNS0KUNIVk/JQDi9pXY/keRZkpZS8oGI/ZiiUpJ7mMRebDDl+crcfPZg7+7eg2ep7vyHz3ovP+ldfJ2qqsvh+BOqfPlJ/4dLU9+y6Hd//uneXjtk1gSpKpm+aBKSonAOk1IQt9JVnluqaJQKrX96nS8c5XKxCVi82VPqkpyXIRdKVpnyk8ScJ56xys2OMkslWa271DAWqqHA5iuwOC/fP3k4OmYhvjv+8s7DF99RmZJ8cWKvqtqufNG3u+LteRkSZjHMpOxiTNiQJ5uUKeU5rcKl3OTG0kv51eDgbHgaclJyV3cgPvP8wd29vU+fR81GF0REQqbh5egi4pPIN/gQm7cqnP/wWejyh9/2X342/EPs9ebw472poa0nSMyPreAcfKMJznJBGlTyBBFeciJPyV+megY2x48j0X2vMLrMsk/LoUl4SX0MwAicg2vPENe5LdtXit3CpcbBcAIKbIECi/PSiPBqdGef2flqpOCsCKKRnabtIsXVxpf2p9Al+Dsf9jnxZMg/mVI2p/STMUxMSSs5FaUYoMohJ5WOOTFNV/nJ9ZRrs5COr9qaYDJd6xuv2ulKbQ3VeXk0HlDCyKuBTTNJzbjy4EQv8d5AZPnN5/f27j5ItNTRcl5+PYiQI+BFdmrrGV6/HrzMcUvR7eRdWZ51IQh/5ogfKUJabBK5Johb2Zyt+qz/+KRHCURDfBmmlis/w3xD05yX48GFJt2s5cvMbbst21fmxnAEBXZBgS55SWh8el5VzEguHD8d3nn44snT4UfH7ztUc7W8TBPR8I/ZNhhVRNL+8Jzxec44VMhRCyk38bIXiEo24hasDpCGdEoZL/lazBdliZxixmYCQN4yN5VftZkEV6MjCiX7p9ejo7BVSCyhKz4bD7mjG3jJ4Z0JLuNwGS+JkV+Mqqr68EXv5WfDH77ojX9Lb6E5/qKp1JcC3HufN988dQWhOabt5TC7EfGyFKRBJUd53uAdj0jks+G7JfKSGHlIel4f9i4eDT8c9t6e+Hq6LdtXJpFRggI7o0B3vIzBpfKSYKnU3Cpe2gCT2aZYGw0YisJLrQxvJeWkvtKmdbw76VZmLSa8IfOLfoiH3Cgnb5mbzHkpXOT2FEcqJtOFnk9JENbAy0ZWObwkWCo15+RlLbik6TUyO8zdE6SYTjgc8geFQpAGlQoLPBbJG+Ly/ulruX8ZnMiVD5UzvGTxpQCPYKnUnMzLoqXb3a2cwUE0hQLbokA3vORN13AXk5QhdsaY8v2Th3ovsyPVVhpfBijSVBR4+roGvGyxH6v7qPli5FftAEiyRlAMh9zGPBkkW7IeHqqqasfLijgXY8oMpd8f3rs7/QYkzYI3cr0bn9N4Kc/1FILQZHnWLFD4/OEK4la6n1RCfBlC/PzRnlz5fFXaHGW8rMaDi/sxpsxPFcbclu0rC2vmsP3CmU4oQoENUKADXpawpFmf7+/rs7Im7uxKj1XyktgYdlk5zqS9U5eXzfux0p066dZrU3xJO7y6pdsong2SzLXexRhf/RMMjM38qh1IoOflkAZKG5WTAlnq18iqDIpVJQ8B8Uh5jMjP1k67ATkBlpOYrROT7etCECsFlenesCuIWzmZl3LzMnsU1g4X/ZqhUEDRPIBD8DPP+zALzZO0bsv2lY0utly4xv44AQXWVYGFeZm+NyJfKdFQMtUrOLuTYJW8rPguJT+Cw8/4NPOSnlUcyLM6fFszzF84yc/1DAfppqXes1T2lq2buSmbhBr2xQdVmJcH8f6lPhAUCBHqKbTikFS7y/dJqK99CobAwE/98M1LcU3sj0fl1yfic0D1533oUVj+3kj4b3hK1v9CCOFu+ndCUt/cJvs4/XkfaiafIYwg+lisaMLRZ6MgNZVen5eCsPIExbA0JKb96sj8vKRnWS/Mv8DChu+T0LZq8XUUt2X7yvAerb+0WLh6J9RAgbVXYGFermKGq+XlKma8mWOW3yeZcRYcoc7/WweNAe6MbqD5rAosuHCznm92WAAAIABJREFUDof2UOC2FAAvb0vpnRyHt+YmPaHapIrs6XmP1zb1KOo5xHG+zVI0w2HHCiy8cB37A3NQoEMFwMsOxYSpugK0Kzt/jFi317JmK38Pr+Xc0QwKQIHlKABeLkdXWIUCUAAKQIHtUgC83K71xGygABSAAlBgOQqAl8vRFVahABSAAlBguxQAL7drPTEbKAAFoAAUWI4C4OVydIVVKAAFoAAU2C4FwMvtWk/MBgpAASgABZajAHi5HF1hFQpAASgABbZLAfByu9YTs4ECUAAKQIHlKABeLkdXWIUCUAAKQIHtUgC83K71vK3ZPHuwil/tCTnUUkLtbLr2p+rx+z6ZNCs4wDtkBaJjyCUr0AUv/VQklPbyzr6mK+l0Giv9vfUi74fmA+EsE5LRIuSsyPN+aJLFojsnr8hbSgIpFsw0lkRaMkpIqkWJNWx+jExjtimDSgITbmkMUuqSs+E7qdFZSG6NlLQrMxkP+DdCHzyLx7dZ4PQumswlH9jysk1uk6rMzTJpjcqsI6JYXc9ZbDauZmY2JkjJc8jw3M27zqRay2VZxdH2vENWoR7GXFsFFufl+ycPQ6ZoSoT58MV3NFfJf9l9pmjRcfW8LIjCcAro4ksYXeMMsTiFk7nCFt1lVrFjeLNwnqnY8t3rwem15DdWoLbkJds5umKrfCGONmWg0vmY+Sv4Ub4smHWkNNfdccbLkIBzyk/XzrBGnnTux4v2NgPtRPC4mgLL+AlG9PFGtwvXnYodWNqmd0gHcsDE9iiwOC+NFmVq6F3hpcGh5lM8urK8NCmdvQufSJjz0nQxClObs/7jE85DGa+wpkEs6lU7980fXdtYskZDRcHJaqlZPFPibOrDgaCk/0wpr01ljBEpWfaQk2dT61hdjEuHMZ1o1sjYLLpTlHPv8HvHklapSuTv6Zl+EHFVal3Z3qa7mvw2qG0beKP7LXVq2WtDQnIj3Txr5HavtusdksmIg11XoEteUnz59Nwouku8TEGbXtrSdZNrQrpgKcc0ziaM4MufbglWyjAjZ8hjPB7xdXb4rgUvT1/3D2IC56ryNxVDKNx/HIGRD2qPnKSS/rXY1Mb+tm400AzYREG9WtsWsVteoIu04SX1DofFGUo4/eDu3sRsYjOskS5r5o23mu1t0jqWq2mwbUfyBrKrGfYPbBdbNroalUxtbGzrpqyRbRr7V1v2DkkTQwkKVN3xsgwuq6raXl7SzT/+R5gsrqR6yNfN0CxdzvRs/b3XwEu+gNJYFHPIFbYSUr6eev9SRo8MDrxMaE9OMJ4lbE2VTskhkLlsmmsxFYtwMVRJzNmLkDT9nQFrVWYMCTmVtRzRGpJWYUt2UhLNGdYoJ1bQ0FvN9ja91ZzES2/hZBuDF3rCRrrR2Oi34Bo53f3PKEsZvfbGiBVmhou/Q6JVFKBA1REvKbLcD3cxjarby8v8ypXHgrqrGeOMDITeFVYky5rZ7cGwx2t4KWcVokbxVNTRc9/ajp7sFKXWvAz9ZAtVKJbClcyouZpm9Q0HnV4NVSW5MawfLFyVWle2txl4ma9m/jZQEdzR9WTYeLAbCeYUFY3GuX7hZPxkM8ca2SWehZfBRdt9jtGLidJhPkNrMz9DbZ1o2LGIKiggCnQQXzbAcqvjy5yX2dWWrnfpqVe+BPPFzu7HFt1lKYoLJV92+T6lw8uKQ8wQdLrv5XjVFjthxObLbjG6a9O/vsQLEl2N4uZoMpAuUmbvNJ2213JT21hM5qgJHUmA6Y3u0D23G1UKe5sTnslypfMq29skzWVE/owVnnaWstmoJ5e9gcxU+FPR5PiyWaUMMXOtkV0Th0Cb/A4xIqMIBRbmZfoyCX17RL9Acr7PZanRys7UXrvnY/UDfrb/ma6blQCVH+LgC1/czjVkDTu34WseolW4jMopG19SyHDUKr7UJ1lkr9UbXYZqyUvnaY70ZE9/ONRnf4ReYes1bZLaat1HNbHP5HeI7Zz2emPtYFRamul5nylr5BPL07P9uideFquZrbv5yMW3AOI7hJcsvm00OPY1jCp1t0bRZFoLHrv+vM8mv0N8OVG7owoszMtV6LZSXq5iwms1JgVte5NuCq6Jt06gsyaebbsbeIds+wrv7PzAy51d+vknzt9Gn/jc6fy2u+r5/NO9vbsPnndlDnZmUgDvkJnkQuNNUQC83JSVWis/ac9tyk8BzO+vPAESH6OVgu7etjSL38NrKdSymuEdsixlYXeFCoCXKxQfQ0MBKAAFoMDGKABebsxSwVEoAAWgABRYoQLg5QrFx9BQAApAASiwMQqAlxuzVHAUCkABKAAFVqgAeLlC8TE0FIACUAAKbIwC4OXGLBUchQJQAApAgRUqAF6uUHwMDQWgABSAAhujAHi5MUsFR6EAFIACUGCFCoCXKxQfQ0MBKAAFoMDGKLDtvMTvvGzMWxGOQgEoAAXWWoEueJlSlHz55EedrVupJxd8neX31vl3RO8dfr/gkOgOBaAAFIACu63A4rx8/+RhyBRNiTAfvviOBHUru1R6BmRynoql/dhpl5OCLSgABaAAFFhbBRbnpZnaq9Gd/cDOVOtWptPzl9ojs54H8fvDe3f3lveL4fNPCj2hABSAAlBgPRXokpcUXz49L+bpVhZt5j786qsv5N8UC5SQL8s/BV5OUQynoQAUgAJQIFegO166caRbmXtwG0dIHXwbKmMMKAAFoMA2K9ANLymIrO3EupWr0bLOS04Bj5uaq1kOjAoFoAAU2EAFOuCly0W3cmX6NOzH3sVzsytbEgwMBaAAFNgwBRbmZfreyPDOPv3bf1VVbuXqlKk/71NV+J7J6tYDI0MBKAAFNlCBhXm5/nOub8aSz8RL7Meu/+rBQygABaDAmiiw9bzkOPLBcys3hZuApVUEZSgABaAAFJimwLbzEr+HN+0dgPNQAApAASjQRoFt52UbDdAGCkABKAAFoMA0BcDLaQrhPBSAAlAACkCBqgIv8S6AAlAACkABKDBdAfByukZoAQWgABSAAlAAvMR7AApAASgABaDAdAXAy+kaoQUUgAJQAApAAfAS7wEoAAWgABSAAtMVAC+na4QWUAAKQAEoAAU2j5dtc15ibaEAFIACUAAKdKfAJvGySA1dHHanybZbOh/2e73BaNum+ewBfhB429YU84ECa6VAF7xM2Ui+fPJjmN3x05Cu5M5+qmya+Se/efkn//LsT/7l2Se/ednU5quvvnBPNdVr4+vh45PeQfg3+Kaq3r3u62Hv4IRq6C9r1js4G74LBkZH3Pfx63OuOD89i9ak0D+9ntA9WNGXhu50uhio8LN3dMU22E91Rq02Oq8N8tdb4iUNc2tU5t8EfvAsnyiOoAAUgAIdKrA4L98/eTg6Zo8o5+XDF9/l3rmVtsk//NvL3q++7f36pvfo//Z+9e0//JuPzCYuNtXzEAKScRZKMS8Fk4woOetyqKqqq8HB2fB0bAlKlr8ZG9YqbkuM2Vnm5bK7N5DxkykrCHf9dCvzEVdwdIu85Ozfn2Y/qr+CCWNIKAAFtluBxXlp9Hk1urMf2BlriZdPJTaLdVnhj/7pmGD5vyr69+ubP/ongW/WZiIUq8azjCWO/4y1GTgkXByPiJoxEmVTJfBmJFbZ3Ruo9HMC12cYfTToyZ+J/EaD3mBIe7T01x/SYhHrpMTTHQ30iGPT3EJDd2kU/qu2nO5V1p8j0nz0/MispBbffH5v726egkZP4RUKQAEo0JkCXfIyR+P5PqePrkeche/teRmf9LGFqmrkpQnLzJiJQ4yZA8OhtE8bQlIKQGkjlFuGHVE2VQJPTMWN39DdjJoXy+68GVsMxH7GvV+lvovGGUdnGua81PuZhFM5kxBZMdE4Rie0abAeGzCCY6fUgDgXW9P8LfhMmforT3WAaFx6ZWZyKavKz29atsIxFIACUGBBBbrjpRdcknNN9ep42o/99U3vV9/+/b/+u55Jr40RJDdpOjuBl4FDCYEuhyisFFCxKUPBEnhu9+R/WSq7ewMlrtvtX3cgt7Ic0xwXJFNIBaQFOEVkpdZUsn9COb97HXTJDrsSu8WC8ZAQLdbPh32FqT1vyrQZe+/zN6YGRSgABaDAEhTohpcUWdZ2YtXb8/1pj/z8/b/++x//87M//udnLizFThMUm+qpV4klthQ5lJ31kMMNYoSX3bDM+i58/9IdKPpZhWeU0oNF5Y1Sz3lV33ttIlfOuEAqA6wIscyo4V1mODvIWUz9Y7dYyKyGYf2TWUvwMpMDB1AACixLgQ54ORGWHF/WHgKaYzZNXGyq5yEobuuFHVcdM3GIMWP3Y3MOUUyZathUjEc75aU/UPKz4uhWbqC6aHQrdb7Oa0Eyw6TsDCNrZOO7tF1rrDZ1TzFiaEzGNVY0ZdPfWCWg9odDswGcnTQH2I81YqAIBaDA8hRYmJfpyyThCyT7ryiWCDcv94dT71+2n1vxhcvisMGOILP8Pkn4GgljL8Vt6f7l2fAdQygCMnzhRLdkXV5m3Rvckeqse8NAzMsY3Wb3L9NABqKpMn0ZpuYEYcr+8d6rAVbGS44B9X5mMGUNBPY1d0+NFZN8r5Md0BoTaJbemhuj5ansGM/7ZHLgAApAgSUpsDAvl+RXs9n4sE9zE5zZCgX87V9vavg+iacK6qAAFOhWgc3j5YQHYruVBtZWqoC799voEf9eAZ76adQHJ6AAFFhcAfBycQ1hoWMFZNc27di2Mk+7sh8f4jHZVmKhERSAAnMoAF7OIRq6QAEoAAWgwM4pAF7u3JJjwlAACkABKDCHAuDlHKKhCxSAAlAACuycAuDlzi05JgwFoAAUgAJzKABeziEaukABKAAFoMDOKQBe7tySY8JQAApAASgwhwLg5RyioQsUgAJQAArsnALg5c4tOSYMBaAAFIACcygAXs4hGrpAASgABaDAzikAXs615PxL4hOzGM9ltt5pwkB06jZcqDuFGiiwtQpcDd/e712O8/m5lXmTLo9ouME1WRxdhkLN/C27VBt/Nyu64GVKUfLlkx8zGTnV15AzlmT1Cx5MzOG1oO123R2MLQdfzkDq4eQB8/QmvQNOWsJ5UTRJWUhSLcnCYiKUnqbI1mHMa24zpEzJK0Pil7zSji69TIYysj864gQyMXta3p1tchaXlJptYgoz7i6eyECTUtC0tMkyFH6y8ZgNZpqeIj6nkdFsM0bbWMznbqUrFo57iCxl+p24mmE5Qnad0MzarC1HZtC2LEaf4W1DjmZmg1d1QbimdMmtzA1256cgqg0vzz88qjWLi7hgoQ0vCaVLc2BB/7e3++K8fP/k4eiYBSI62lSXr0Z3Ho72H24jL503xGR8OR0WrWozIF9r9KIZEmiHi0sVru/BjaKl6xxfysO1PrY3cGKcaMqzWr7ucIUlKIarp2LjanBwNjwdq2MhP7a4nWyWo0dQ1XxNLnE2t5CUjQeNSJZO7W1S+9JPl5fBm6iPP5AkYgttnZeiOx+qPnHhREYjuKYWL6UTwfO5NyyHp5I/Ontd+OnMJMLS8bN4L7kuuZUBwPmMJD98TaX2for3o8v7/Q9X/kxM7Trwso2fxmUUF1ZgcV4aF16N7uwHdnIKzC+f/Pj+ydbxMuZwjJuhHATatJL6U+HmhDTmFMzDQa/X41zIvSK7pNGSPuhSO/qLA9F5Y7M4k/fmo+JyRodn/ccnPUJIvOx6LR1bAWPhGhdJk+Akea0NxvLR6cJ3NB5QPHc1eDwePD4xl0uuPFCKNNhUdloKeo5qd20vbTwShNA2jM6yeAaljqaT+cmX8jjfSXrmnkzzv/ZRg0lQWziWVz9zqNs6d3qnnJ4pPJy5NyyH09IfPWmiq6YulK+en64grktuZTMvayq197P0OxxfH/Yu7tO/uEl7c9KXGv2vcov3SG3jm5P+25Ph5f3exaPhB7YTjTijme4Xdj92PBCbb0/OnV6oukUFuuQlxZdPw4oePx1+dPy+qraQl7w69eCuXmMSKRP7CKIMu8GIUdgfnjM+J/8/UJg1Wa6KM+6bJicWX/jGI6o8G76bdH13jVV8LZYLNF+L+UKZLtB8qU3bmyGcjdEtX/iuRkcUSvZPr0dHgZd06SR+c3eJBZtsigOPIwZ8N8XPwenrfgQwNRT34p6khjstbQpZcz9ZhNa8TMGQx6RiKi0WLh9d+/vSOXNvWA6n5YJvG9dPWvSaICP6RFW+Q27NT1XQfa1Hk/Uae68xBKlM1sE1752+PTlnfDb9/272V7P92N7F4Yh8okoFs+sjKpevQHe8tMHlq5GCc4d5yWwMESK9KC8pWkz41FC0aalzKtoUyvkZv7972Q2R5euBvVVZtHTN8bW4vDdmK4V2sW9uU7jIV08CrWIyYZtPMcaabVKvA+FrHKZWMN0jrf2IhLu2smnC8egnF9rwsgBkcVjz348vQ2jbPw0Ll4+uRszcTbjsjNiwHE7LwMt53zaen8Uo4XDIn5y4fXqH3JqfqqD7WqdjrSaLDnsXzDbiJdEu4bMxRhwPLh4Nb2TwjJfy4A/tFyzxjqk7aVTWFOiGl/xcT9yJJUbe2c//2fuaNSdmrVj98z4cKGbbpPUayzadoTJutbyUnToCT9rNy9mm/uavfC1OXeQkVxKW6hbyGrnwcfBHUAyH3CYyuCcRYWubuX96pN1piBTvFtdobVyHkzmTip6fOQkS+KlXfe7Jk/n2Y0k0YUlYuHyI4KrOPXfAmbu/HN6dTuVlPrqM5/qQVOOS1yZfmiCI65Jb6X/6oYFqKrX3s3A7O6yzqlZjgad9b5mX3x/eu7uHLLCq/hJeO+BlDsvCx92JLzVmTAKYvVOtXJSX1F8iUirNdf+SAziOFTrmZdjwFPs84fxCGS58KoUcEgDSvpyCJF70p9lUY/lr7M4Fte8wI3TL/cxthSPfT+4YPkAURiYc0qkYlbqjlbiNxJK7zrpwLFfCMJuKc8+kc+buLsdkDuWj83DFNP3ZeH7ajiqI65JbuRw/fe+5tkbHqro+7OXBotlQVUsz8DJtt9JY2f1LsUZ3MWOsqQPkr88e7N3d27t77/D7vB5HXSmwMC/Tl0lCQJl/e2T7eCmgSvusKcpMZ3STNdXIdmwMQtvEl7Zzeuon1g5G9v5o7f0gqOBvL3D0xhdoujAFntFlqNv4UoMq4oczOl2ybWxKDvBTP+W24cF4lC76gRypo73O1iYdKkz3EJDF+46FINJhuk3mTdpt5sM8lMnEVCnMbnCYiETSWX0xC0c66esunKAo3JQls2buEmKydOJwaMa0dpcjPbqsEX8XbxuaYM1PlcgI4rpkngtjofhtszw/i8UIu6D6XE/21A/fUJRHgfS2ot2S5c3VGXhZVdQ4PFgUb4USg3V0HaXuY6p5/il4mdTovrQwL7t3abrFNdiPne4kWkABKAAFblWBN4cfYz92mYqDl8tUF7ahABSAAreigGzGfvr8Vgbb1UHAy5WvfPyaZdrjDbu3K3cNDixRgWyLMtv/XOKgML1yBewW60x7rSv3HA5U4CXeBFAACkABKAAFpisAXk7XCC2gABSAAlAACoCXeA9AASgABaAAFJiuAHg5XSO0gAJQAApAASgAXuI9AAWgABSAAlBgugLg5XSN0AIKQAEoAAWgAHiJ9wAUgAJQAApAgekKgJfTNUILKAAFoAAUgALgJd4DUAAKQAEoAAWmKwBeTtfIacG/ep5+ad1pgapuFHj2oLv8RM8fIHVDN6vSlRX+gfLLcVfmptm55eGmuYPzG6dAF7xMKUq+fPKjKJCnwHzalFJ8TrlW/3vrDi+pagMJyr/KljJqcSILPZQcJpoPK+S+0F9uo4y++pelv6B6zdBEDThjRkww0tomdeWfxHzwTIepLofjT3ov6V//h0upPf/hM6nh/37Bmegrt7KqqnbZGzhdic6a9AnOSz1nOJGamI0yahKnGV0OBc8md4+JveJA2RKoHbdST5avteXIk4HY6diJ6MKF+crseJUzgyEZWeOMYhaUPAFO6aQcOzmw/Ibd1N7ycN04DSvro8DivHz/5GHIFE2JMENe6KWk8YqqrZ6X0ZVU2FBect7mlI4xXrUlB9PZ8NQkazS5ohh7kmFKLqYm7WW4OisJMl5eDQ7a2GRZnz+4u7dnfj/6/IfPBh/4zB9+23/52fAPVCY0XnydloFLbiWfaZPAIXBR/FdB7Cy4Qfq4UBwWvsihZ3M5vPSWw3M+wJ4+GwUc9k+v3crmZJMnmshTVTKTTfq4goTK0eX9Nmmqmk2MBxqeji4PR9XV8PJk9OFweEOF85uTwYcr23fh4awxlHdPgcV5aTR7NbqzL+zcZl7G30eP0SRHm96vpZsT0vh82O8Ph4Me/aA6v0wISSm95ZCzQnPzEKPH0WO26EabtdHNUpmivdxTWTlH5fGIMxeGa5/hZbrWc/cyrrJ2yot1C5vk3ZvP7+3dfdCQbeHrwctPhJ0uGt3KMGWKWScn1GXn+49PODFnIIH5fKDZHGM6TFZgCh48m0lDci0ih+mlIb6uk1upJ+0rO1Msh+s8jX40HsgScyLSwMtaZTMvzwqVgiNtBLE+Z+Vzol2qqR1SLuXeBWeXpFaz8TLZRQkKzKFAl7yk+DJsvdr92LhJO4d7fpc1iC/r0WS9xuZzTgmie4RIol5/eM6oa9qsZjIKZqkY6aya6ICMxbpNZ3TtWbzSlVqSNtsLK5VjmmVhQ+JlCmLyi75a5itm3KWMuZRb2iQrHAia4FIt8yvFl87Wq7tJGyvVAoWt9z5/o4f1V3J+PKL/ng3fGV4mhuX0aoMHz2YuXTe8zG2GuZHsNedHxMur0RGF+/3T69ERbcMyRMvKwMuUapv3ErwZhfHaCFKXPdScfxAixjzJEY2cUfntCf3/cnMykELGS+7y9mQkFt468WXjqDgBBdoo0B0vU3CZjUsQDUFnVr/IwWbwkjlmos7+8LxSxiV8Uq3/Z4Cn3aihDTAZonoyt+mN7o9TyZZsCPsEnCbcqfgSzJdI5mWgoEZX7gW64f5lRMIUm+TnBKql4DKbEEE0BJ2p3qmcSGLqKSQIAd9rvn95NXzsICesXBs8ODZl81Oj+Y7iS285crrL7uvj10P+PMTt6Va0fJSR/xaVzfFleM/0T0Wl66B7G0HSEhWlWkCZws3zD48GOsboUjg6Jb7sX9zvBbIW4+AQCsyuQDe8nARFehqo4xBzM3gZ+JWtic+2rEk8cHlpjKotfc15aRpGi40FucCdvu4f6FM8XGMDRNpvjPGlvSDachyAKpUEcT+2vc1mXjr8i4PS00C1aLJe2ZaXAvXw0AqBhLYu5S9F5HTsKhC9kgK1oe6CIgm4c7bFDxMF3qS/W1mMwYeeM67zgkZeU3JMDt3KibzMZhQc8nzwfHXrJsSXFqWp2Sz3L50Rvz+8d3evu2ewnRFQtT0KdMDLSbCsquOnQ30IqDPV1pKXFPjlwaKzi+qzzRfG4yX1D4PE7doGm87o/jhUywCgDbeABLqUpx08xUPkZXhCRBpL39AxDEFXzJKXs9j092MnwbKqPnzR04eA0kSdygmRq/RTtkVZ6HagZYCd3Yy8rNsM9xqTfReNbmWapik1LYf9JERLE9CoPTNe5pWTeZnNSDqmuaihlq/jAd2b9P4xFKfFl3Ptx/Iz2NNuabf0H822XYGFeZm+TDK8s0//9l9VVWXuX4YnZrsUcqW8JDzZv3RfMZ1RbqYavl1ZdbAfG7dj+YEhGryBl3JCPVWPmpaBLpd6FzNcH3XHNRwejEeJlyGo0udKIm7JCEWilighvuQtzRls1p73SV8mCV8g4cdi6dEe/oaJhaVbGabe7nmfgH+RxSJNYu7s6Z42eKA2js0YbsZbvKo2LwffMuSxmJfpDqLCz1/O2nIo1I3zZFCXj6zQTPWpn2iVK9MDtLrfwJ+EGmZEfdsIEsdoKqSN1tTi5qSv9y9Dwdy/5GZXw8t0+7N/OW662ZFstv2Wke2B8q4qsDAvVyHcSnm5ignv5pjl90m6UGHqZmwXg8DGIgrcjAdvU4hZMO/8wyHdkvSejyXoXz4aXKcvkFDj/Psknl/8lvj4cMIDYF4v1O2kAuDlTi77hkya98omPss620T49wqavqMymym0XpICOfOu+HDCUFkYmvetzj88msJL2Yxtegx7wrA4tZsKgJcrX/e4w6p7p/Q6bf905V7fkgO0K9vZZ3/8Ht4trdpCw0yML2uWM15W9HsFM+/H1myiAgo0KABeNgiDaigABaAAFIACRgHw0oiBIhSAAlAACkCBBgXAywZhUA0FoAAUgAJQwCgAXhoxUIQCUAAKQAEo0KAAeNkgDKqhABSAAlAAChgFwEsjBopQAApAASgABRoUAC8bhEE1FIACUAAKQAGjAHhpxEARCkABKAAFoECDAuBlgzCohgJQAApAAShgFAAvjRhrWORfbE8/6b6GHsKlW1Pgavj2fk/TV93aqJ0OtAVT6FQPGNssBbrgZUpRkue5pAzSnLSk6xQl2/h765plpHj7OLxsaFl0dA85VYhmmTgJKbc4m4Rm76LUFv1TSWWcUmSY7Bk1u153aiT1nFJD8mDYXBzig82Pkdn1bHJ3zRHWUXZlHjRL/RESj9Scl+nYiWgalpDlQ2bn5RKJ2TxixunZRQ7qjC6XzsuQVzKjMkOO02yZn2N1K7NVdA9uYQruuKiEAh0osDgv3z95ODpmTygRpqLRljtws2Zi65DZnoLtW9ZUkwqGQQBDApugKFzKQ8+ipWsvoCXvHnJ4XVOPwkhx2NrmcngpsMyTd3rOB9hTTtDA1/SpIq9szhapH1AS7HnybQQJKo0u7xtildJJOuXR5aGmtS4bTD0W+4RMw0tDOGLkgBfVrUw5nDl/CHtyNXyb+TN5ClM9RAMosEoFFuel8Z4CSmHn+f5+HmuaVl0VV4ZMjvn0x9Flr9TL7VxRBun4p3uq1HKoKTTlV9Uze+bH1mN37cupLqNFbUkxDDqUAAAHF0lEQVTd08+z50eu1sUFmg7P+o9PepSccj5elt05bWSEENlk4+xNMXqjh6XNpfCSnSnCXNd5Gv1oPKAcllcDzRPpVjbzspxRmHobQVyVKP9Gyq58Oa7xMoWAsZnQzjentTkvx4OYPOvmhHJpEUrdSu1PebWIkS4vUyOUoMDGKdAlLymmfMoJWn988dHDF8fHX8p+7EfH75eky1dffSH/lmTfM0sUCwAjNk3iZeqetdT+xlLK+pz6SCn11DP1mtEgArN+Urul1+ICTYfjEf33bPhuPl6W3TXPsIzJARkFYfxXjJ7cMiXPpWXwMrcZHHCdHxEvr0ZHZ8PTcf/0enSku9a1ylrCZ/7c4M0ojNdGEKNNWbwaXp6ItDVelk3PPzyamZfESA4Qrw8p6+SHw97bk3O3Mo0WXAIvkyQobYcC3fEyBZdVxXc0FZO3EWve3mIYNnG4N5GXMUKkWHBiS2Mrn0sdgPUaCmRjqJpCzdxQOiou0HIpD5Hla7l/GRoXLZMJU3K6Xw0fx3t1VRlvzWlTbql2fP/S42VOd9l9ffx6eEQhMrc/GXxTEVOJlE5lOV+RylGJ9zXr+9VG2lbFW+ElwVKpGXlZVEZvrw91z/ZwVJX7sbEVClBg8xTohpcUWYadWJaA48vvVI3jp8P9V3qw6a8RTZWNCd39WNM0Mc5tmdnKFUo9tb5ew54QJ41xbe28FsQKl/JKYJA92lO0dGzJ7UkKoWx3AgltXcrffPuxpc2cbTEOLvAmI7qVnvfeBF3nBY0V3dokx+TQrZzIy0yl4JDng+drQ914ICSrqqb4UurpPTZHfElbr/cppuThdavWrRQHxwNtTPc46Smh7P5lwyxQDQU2QYEOeFnCkqb9/slDZSTFmku/l3l7UhOtYixno8ZaZWopNzInx5cpRszn4tDRcDi1HQ36w+FAd4pTvVMqLtB0KGxjsPHzsaFX0dKxlXgp9z4Dbm1HKse4sPb4z4w2w73GZN9Fo1vpjiRTjmjnNsm4eEvOBzSqjYyXeeVkXmYqSUc7nJpq/3p9OHgbdln1dmbJJ8PLw+HNdNMKxdDSPKFDmNTYMT55lCopXfPbR3EI7MdO1xotNkuBhXmZvkzCXx3Zt5jMazZLmGZviWD8NxileC5WWmrF7VhTmbqUW7DRRMZjGSrt55JfZUv2lQcTJjf63vh9kgAMwsD8vGSoxO6MAfneSHoWt+X2I/V1XIohrHGS0cjfWjFjuZVNqoRPCaZ7gLqpIYP2sSASSp/6iXa5Mj1AK93Nl3acGVHfRXg5HtDTp2HPc2p8GT1tKmhEKHFh/O5Kem7IPJ1br7waXiZYVnjep0ll1G+uAgvzcnOnvrjnxK0phFp8kLYW3KizbWe020QFRpFPNyf98vlY3jLlL03Gh2NDwXxXZKmzRny5VHlhfAUKgJcLiL5GvMyetV1gSui6uQo0xZermhF4uSrlMe6yFAAvF1B2PXgpu77TH4tdYKLougkKgJebsErwcZMVAC83efXgOxSAAlAACtyWAuDlbSmNcaAAFIACUGCTFQAvN3n14DsUgAJQAArclgLbzMuf8AcFoAAUgAJQoAsFqqoCL7sQEjagABSAAlBgqxUAL7d6eTE5KAAFoAAU6EgB8LIjIWEGCkABKAAFtloB8HKrlxeTgwJQAApAgY4UAC87EhJmoAAUgAJQYKsV2AFe/vbgz//28/+91auIyUEBKAAFoMCyFeiIlylFiebtotzRITmJFFaS/5Ll++3/+NnPgMxlv5NgHwpAASiw3Qp0wsv3Tx6OjvnropQI8+GLmCZav0J6vr+i/Jdh8f7P5x/97Gcfff5/tnstMTsoAAWgABRYngKd8FKxWFUVhZWBnbGWIPpUkrPHulsqROH+34MyxPzfn//tnwOiUSAUoAAUgAJQYKICHfPSQ+PKgkuem87+twd//rO//Z8mwgQvVRq8QgEoAAWgwHQFOuXlmgWXGS95S/Z//Ha6ImgBBaAAFIACUKCuQGe8pMiythNb0XNA+gTQLW3BZsOkCdd5SREnbmomhVCCAlAACkCBCQp0w0sfllV1/HS4qjuXgs0084b9WDw3myRCCQpAASgABZoV6IKX6csk4Qsk4asjqw4u7X5s/Xmfn37C90ya3xc4AwWgABSAArkCXfAy2wFdr4Mw2fpmLJ0gXuJLJvn7AUdQAApAASjgK7ALvOQ48iB71IfCTcDSf0ugFgpAASgABRwFdoCX+D08Z91RBQWgABSAArMpsAO8nE0QtIYCUAAKQAEo4CgAXjqioAoKQAEoAAWgQKEAeFkIgkMoAAWgABSAAo4CW87L9XpaF95AASgABaDAJivw00//3fvpp//+6af/3uRZwHcoAAWgABSAAstVALxcrr6wDgWgABSAAtuhAHi5HeuIWUABKAAFoMByFfj/92L/P3e+oPimDVpsAAAAAElFTkSuQmCC)"
      ],
      "metadata": {
        "id": "8EMnai6f5DsF"
      }
    },
    {
      "cell_type": "markdown",
      "metadata": {
        "id": "OSrjBMIsJjq6"
      },
      "source": [
        "#### 과제 1: MySQL 사용자 생성 및 권한 부여\n",
        "\n",
        "목표: MySQL에서 새로운 사용자를 생성하고, 권한을 부여합니다.\n",
        "\n",
        "##### 개념 설명:\n",
        "\n",
        "- MySQL 사용자: 데이터베이스에 접근하고 작업을 수행할 수 있는 계정을 의미합니다.\n",
        "- 권한 부여: 특정 사용자에게 데이터베이스와 테이블에 대해 작업할 수 있는 권한을 부여합니다.\n",
        "\n",
        "##### 세부 내용:\n",
        "1. MySQL에 root 사용자로 로그인:\n",
        "\n",
        "- mysql -u root -p 명령어를 사용하여 MySQL에 로그인합니다.\n",
        "- 이 명령어는 MySQL의 관리자 계정인 root로 로그인하며, 비밀번호를 입력해야 합니다.\n",
        "\n",
        "2. 새로운 MySQL 사용자 생성:\n",
        "\n",
        "- CREATE USER 'username'@'localhost' IDENTIFIED BY 'password'; 명령어를 사용하여 새로운 사용자를 생성합니다.\n",
        "- 예시: 붕어빵 가게의 데이터베이스 관리를 위해 fishbread_user라는 사용자를 생성합니다.\n",
        "- username에는 새 사용자의 이름, password에는 사용자의 비밀번호를 입력합니다.\n",
        "\n",
        "3. 사용자에게 권한 부여:\n",
        "\n",
        "- GRANT ALL PRIVILEGES ON *.* TO 'username'@'localhost'; 명령어를 사용하여 새 사용자에게 모든 데이터베이스와 테이블에 대한 모든 권한을 부여합니다.\n",
        "- 권한을 부여한 후, FLUSH PRIVILEGES; 명령어를 사용하여 변경된 권한을 적용합니다.\n",
        "\n",
        "4. 부여된 권한 확인:\n",
        "\n",
        "- SHOW GRANTS FOR 'username'@'localhost'; 명령어를 사용하여 새 사용자에게 부여된 권한을 확인합니다.\n",
        "- SHOW GRANTS; 명령어를 사용하여 현재 로그인한 사용자의 권한을 확인할 수도 있습니다."
      ]
    },
    {
      "cell_type": "markdown",
      "metadata": {
        "id": "Ov-OLI_IJjq6"
      },
      "source": [
        "#### 과제 2: 데이터베이스와 테이블 생성\n",
        "목표: 사용자와 주문 정보를 저장할 데이터베이스와 테이블을 생성합니다.\n",
        "\n",
        "개념 설명:\n",
        "\n",
        "- 데이터베이스: 데이터를 체계적으로 관리하는 공간입니다.\n",
        "- 테이블: 데이터베이스 내에서 데이터를 저장하는 구조입니다.\n",
        "\n",
        "데이터베이스 및 테이블 설계\n",
        "1. 데이터베이스 생성:\n",
        "\n",
        "- CREATE DATABASE fishbread_db; 명령어를 사용하여 붕어빵 가게의 데이터를 저장할 데이터베이스를 생성합니다.\n",
        "- USE fishbread_db; 명령어를 사용하여 생성한 데이터베이스를 사용합니다.\n",
        "\n",
        "2. users 테이블 생성:\n",
        "\n",
        "- 사용자 정보를 저장하는 테이블을 생성합니다.\n",
        "- user_id(INT, PRIMARY KEY, AUTO_INCREMENT): 사용자의 고유 ID\n",
        "- name(VARCHAR(255), NOT NULL): 사용자 이름\n",
        "- age(INT, NOT NULL): 사용자 나이\n",
        "- email(VARCHAR(100), UNIQUE): 사용자 이메일\n",
        "- is_business\n",
        "\n",
        "3. orders 테이블 생성:\n",
        "\n",
        "- 주문 정보를 저장하는 테이블을 생성합니다.\n",
        "- order_id(INT, PRIMARY KEY, AUTO_INCREMENT): 주문의 고유 ID\n",
        "- user_id(INT, FOREIGN KEY): 주문한 사용자의 ID (users 테이블의 user_id와 참조 관계)\n",
        "- order_date(DATE): 주문 날짜\n",
        "- amount(DECIMAL(10, 2)): 주문 금액\n",
        "\n",
        "4. inventory 테이블 생성:\n",
        "\n",
        "- 재고 정보를 저장하는 테이블을 생성합니다.\n",
        "- item_id(INT, PRIMARY KEY, AUTO_INCREMENT): 재고 항목의 고유 ID\n",
        "- item_name(VARCHAR(255), NOT NULL): 재고 항목 이름\n",
        "- quantity(INT, NOT NULL): 재고 수량\n",
        "\n",
        "5. sales 테이블 생성:\n",
        "\n",
        "- 판매 정보를 저장하는 테이블을 생성합니다.\n",
        "- sale_id(INT, PRIMARY KEY, AUTO_INCREMENT): 판매의 고유 ID\n",
        "- order_id(INT, FOREIGN KEY): 주문 ID (orders 테이블의 order_id와 참조 관계)\n",
        "- item_id(INT, FOREIGN KEY): 재고 항목의 ID (inventory 테이블의 item_id와 참조 관계)\n",
        "- quantity_sold(INT, NOT NULL): 판매된 수량\n",
        "\n",
        "6. daily_sales 테이블 생성:\n",
        "\n",
        "- 일 매출 정보를 저장하는 테이블을 생성합니다.\n",
        "- date(DATE, PRIMARY KEY): 날짜\n",
        "- total_sales(DECIMAL(10, 2), NOT NULL): 총 매출"
      ]
    },
    {
      "cell_type": "markdown",
      "metadata": {
        "id": "bvCpcPwYJjq6"
      },
      "source": []
    }
  ],
  "metadata": {
    "language_info": {
      "name": "python"
    },
    "colab": {
      "provenance": [],
      "include_colab_link": true
    }
  },
  "nbformat": 4,
  "nbformat_minor": 0
}