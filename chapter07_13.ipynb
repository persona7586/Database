{
  "cells": [
    {
      "cell_type": "markdown",
      "metadata": {
        "id": "view-in-github",
        "colab_type": "text"
      },
      "source": [
        "<a href=\"https://colab.research.google.com/github/persona7586/Database/blob/main/chapter07_13.ipynb\" target=\"_parent\"><img src=\"https://colab.research.google.com/assets/colab-badge.svg\" alt=\"Open In Colab\"/></a>"
      ]
    },
    {
      "cell_type": "markdown",
      "metadata": {
        "id": "9Nmax6BLJjq3"
      },
      "source": [
        "[문제10]\n",
        "\n",
        "데이터 제어 언어(DCL)인 GRANT에 대한 설명으로 옳은 것을 골라주세요\n",
        "\n",
        "- 사용자에게 특정 작업을 수행할 권한을 부여한다.\n",
        "- 사용자로부터 특정 작업 수행 권항을 제거한다.\n",
        "- 다른 사용자에게 동일한 권한을 전달할때 사용한다.\n",
        "- 부여된 권한 중 일부를 제한할때 사용한다."
      ]
    },
    {
      "cell_type": "markdown",
      "metadata": {
        "id": "Sy8b_3jsJjq4"
      },
      "source": [
        "정답 :사용자에게 특정 작업을 수행할 권한을 부여한다."
      ]
    },
    {
      "cell_type": "markdown",
      "source": [
        "SQL의 주요 언어 유형  \n",
        "**DCL (Data Control Language)**: 데이터베이스 사용자의 권한을 관리하고 데이터 접근을 제어하는데 사용되는 언어입니다.  \n",
        "    - **`GRANT`**: 사용자에게 특정 데이터에 대한 접근 권한 부여  \n",
        "    - **`REVOKE`**: 사용자의 특정 데이터 접근 권한 제거"
      ],
      "metadata": {
        "id": "F0LNCT6hJ_by"
      }
    },
    {
      "cell_type": "markdown",
      "metadata": {
        "id": "VpF4JyyGJjq4"
      },
      "source": [
        "[문제11]\n",
        "\n",
        "테이블을 생성하기 위해서 사용되는 sql문을 선택해주세요\n",
        "\n",
        "- CREATE TABLE\n",
        "- CREATE NEW TABLE\n",
        "- ADD TABLE\n",
        "- UPDATE TABLE"
      ]
    },
    {
      "cell_type": "markdown",
      "metadata": {
        "id": "0tQ0Kj4ZJjq4"
      },
      "source": [
        "정답 :CREATE TABLE"
      ]
    },
    {
      "cell_type": "markdown",
      "metadata": {
        "id": "DI6Xv4BMJjq5"
      },
      "source": [
        "[문제12]\n",
        "\n",
        "테이블 생성 시 컬럼(속성)에 값이 항상 존재하도록 설정하는 명령어를 선택해주세요\n",
        "\n",
        "- IS NULL\n",
        "- NOT NULL\n",
        "- IN NULL\n",
        "- NULL"
      ]
    },
    {
      "cell_type": "markdown",
      "metadata": {
        "id": "Cesg2m_fJjq5"
      },
      "source": [
        "정답 : NOT NULL"
      ]
    },
    {
      "cell_type": "markdown",
      "source": [
        "NOT NULL 제약 : 해당 칼럼에 NULL 값을 허용하지 않도록 합니다. 즉, 해당 칼럼에는 항상 값이 존재해야 합니다.  \n"
      ],
      "metadata": {
        "id": "R53HRPAxSl3l"
      }
    },
    {
      "cell_type": "markdown",
      "metadata": {
        "id": "dEvuXEPTJjq5"
      },
      "source": [
        "[문제13]\n",
        "\n",
        "테이블 생성 시 컬럼(속성)에 중복된 값을 허용하지 않도록 설정하는 명령어를 모두 선택해주세요\n",
        "\n",
        "- UNIQUE\n",
        "- DEFAULT False\n",
        "- PRIMARY KEY\n",
        "- AUTO_INCREMENT"
      ]
    },
    {
      "cell_type": "markdown",
      "metadata": {
        "id": "T4wUGfPsJjq5"
      },
      "source": [
        "정답 :UNIQUE, PRIMARY KEY"
      ]
    },
    {
      "cell_type": "markdown",
      "source": [
        "UNIQUE 제약 : 해당 칼럼에 중복된 값을 허용하지 않습니다.  \n",
        "DEFAULT 옵션 : 새로운 레코드가 삽입될 때 해당 칼럼에 지정된 기본값을 사용합니다.  \n",
        "PRIMARY KEY : 테이블의 주요 식별자(primary key)를 정의합니다. 주로 유일성을 보장하고 검색 속도를 향상시키기 위해 사용됩니다.  \n",
        "AUTO_INCREMENT : 숫자 자동 증가 속성을 가진 칼럼에 사용됩니다. 이 옵션을 사용하면 해당 칼럼의 값이 자동으로 1씩 증가합니다."
      ],
      "metadata": {
        "id": "YM4AYc-IOpUy"
      }
    },
    {
      "cell_type": "markdown",
      "metadata": {
        "id": "h0kEutZ3Jjq5"
      },
      "source": [
        "[문제14]\n",
        "\n",
        "데이터베이스의 숫자형 데이터 타입이 아닌것을 선택해주세요\n",
        "\n",
        "- BIT\n",
        "- INT\n",
        "- CHAR\n",
        "- BIGINT"
      ]
    },
    {
      "cell_type": "markdown",
      "metadata": {
        "id": "S5Q6_yRmJjq6"
      },
      "source": [
        "정답 :CHAR"
      ]
    },
    {
      "cell_type": "markdown",
      "source": [
        "BIT(M) : 0과 1로 구성된 이진값, M은 1~64 사이의 값.  \n",
        "INT(M) 또는 INTEGER(M) : 4바이트 정수, 부호 있는 수는 -2147483648 ~ 2147483647, 부호 없는 수는 0 ~ 4294967295.  \n",
        "CHAR(M) : 고정 길이 문자열 저장 (M: 0 ~ 255).  \n",
        "BIGINT(M) : 8바이트 정수, 부호 있는 수는 -92233720036854775808 ~ 92233720036854775807, 부호 없는 수는 0 ~ 18446744073709551615."
      ],
      "metadata": {
        "id": "6gck77sBOLgJ"
      }
    },
    {
      "cell_type": "markdown",
      "metadata": {
        "id": "6v93nptJJjq6"
      },
      "source": [
        "[문제15]\n",
        "\n",
        "날짜와 시간을 같이 나타내는 데이터 타입을 선택해주세요\n",
        "\n",
        "- DATE\n",
        "- TIME\n",
        "- DATETIME"
      ]
    },
    {
      "cell_type": "markdown",
      "metadata": {
        "id": "FLpcUi66Jjq6"
      },
      "source": [
        "정답 : DATETIME"
      ]
    },
    {
      "cell_type": "markdown",
      "metadata": {
        "id": "M5lKhNEoJjq6"
      },
      "source": [
        "[문제16]\n",
        "\n",
        "CHAR과 VARCHAR의 차이로 옳은 것을 선택해 주세요\n",
        "\n",
        "- 저장할 수 있는 데이터 종류(문자, 숫자)가 다름\n",
        "- 데이터를 담을 수 있는 공간이 고정인지 가변인지의 차이\n",
        "- 문자열 값을 정수로 표현할 수 있는지의 차이\n",
        "- 한번 입력된 데이터의 수정 여부의 차이"
      ]
    },
    {
      "cell_type": "markdown",
      "metadata": {
        "id": "C4gY5tOjJjq6"
      },
      "source": [
        "정답 :데이터를 담을 수 있는 공간이 고정인지 가변인지의 차이"
      ]
    },
    {
      "cell_type": "markdown",
      "metadata": {
        "id": "JUpHoMi5Jjq6"
      },
      "source": [
        "[문제17]\n",
        "\n",
        "데이터베이스 내의 트랜잭션을 관리하는데 사용되는 언어를 선택해주세요\n",
        "\n",
        "- DCL\n",
        "- DML\n",
        "- TCL\n",
        "- DDL"
      ]
    },
    {
      "cell_type": "markdown",
      "metadata": {
        "id": "nui3LRfVJjq6"
      },
      "source": [
        "정답 :TCL"
      ]
    },
    {
      "cell_type": "markdown",
      "source": [
        "SQL의 주요 언어 유형  \n",
        "1. **DDL (Data Definition Language)**: 데이터베이스의 구조를 정의하는데 사용되는 언어입니다.\n",
        "    - **`CREATE`**: 새로운 테이블이나 데이터베이스 생성\n",
        "    - **`ALTER`**: 기존 테이블이나 데이터베이스 구조 수정\n",
        "    - **`DROP`**: 테이블이나 데이터베이스 삭제\n",
        "2. **DML (Data Manipulation Language)**: 데이터베이스 내의 데이터를 처리하는 데 사용되는 언어입니다.\n",
        "    - **`SELECT`**: 데이터베이스에서 데이터 조회\n",
        "    - **`INSERT`**: 테이블에 새로운 데이터 추가\n",
        "    - **`UPDATE`**: 테이블의 기존 데이터 수정\n",
        "    - **`DELETE`**: 테이블에서 데이터 삭제\n",
        "3. **DCL (Data Control Language)**: 데이터베이스 사용자의 권한을 관리하고 데이터 접근을 제어하는데 사용되는 언어입니다.\n",
        "    - **`GRANT`**: 사용자에게 특정 데이터에 대한 접근 권한 부여\n",
        "    - **`REVOKE`**: 사용자의 특정 데이터 접근 권한 제거\n",
        "4. **TCL (Transaction Control Language)**: 데이터베이스 내의 트랜잭션을 관리하는데 사용되는 언어입니다.\n",
        "    - **`COMMIT`**: 트랜잭션을 완료하고, 데이터베이스 변경사항을 영구적으로 저장\n",
        "    - **`ROLLBACK`**: 트랜잭션을 취소하고, 마지막 **`COMMIT`** 이후의 모든 변경사항을 되돌림\n",
        "    - **`SAVEPOINT`**: 트랜잭션 내 특정 지점을 마킹하여 필요시 그 지점으로 되돌릴 수 있음"
      ],
      "metadata": {
        "id": "nFfjd5RxQTuD"
      }
    },
    {
      "cell_type": "markdown",
      "metadata": {
        "id": "gFOe0Xo1Jjq6"
      },
      "source": [
        "[문제18]\n",
        "\n",
        "칼럼에 저장될 수 있는 값의 범위나 조건을 지정하는 명령어를 선택해주세요\n",
        "\n",
        "- IN\n",
        "- WHERE\n",
        "- CHECK\n",
        "- ON"
      ]
    },
    {
      "cell_type": "markdown",
      "metadata": {
        "id": "k8vN1cGOJjq6"
      },
      "source": [
        "정답 :CHECK"
      ]
    },
    {
      "cell_type": "markdown",
      "source": [
        "WHERE 조건: 어떤 레코드를 업데이트할지 결정하는 조건  \n",
        "CHECK : 제약은 해당 칼럼에 저장될 수 있는 값의 범위나 조건을 지정합니다.\n"
      ],
      "metadata": {
        "id": "aTdND2UdR075"
      }
    },
    {
      "cell_type": "markdown",
      "metadata": {
        "id": "v4WmpIioJjq6"
      },
      "source": [
        "#### 프로젝트 개요\n",
        "\n",
        "이 프로젝트는 사용자 정보와 주문 정보를 관리하는 간단한 데이터베이스 시스템을 구축하는 것입니다.\n",
        "\n",
        "이를 통해 MySQL의 사용자 관리, 테이블 생성, 데이터 타입, 제약 조건 등을 실습할 수 있습니다.\n",
        "\n",
        "##### 프로젝트 구성\n",
        "1. MySQL 사용자 생성 및 권한 부여\n",
        "2. 데이터베이스와 테이블 생성"
      ]
    },
    {
      "cell_type": "markdown",
      "metadata": {
        "id": "OSrjBMIsJjq6"
      },
      "source": [
        "#### 과제 1: MySQL 사용자 생성 및 권한 부여\n",
        "\n",
        "목표: MySQL에서 새로운 사용자를 생성하고, 권한을 부여합니다.\n",
        "\n",
        "##### 개념 설명:\n",
        "\n",
        "- MySQL 사용자: 데이터베이스에 접근하고 작업을 수행할 수 있는 계정을 의미합니다.\n",
        "- 권한 부여: 특정 사용자에게 데이터베이스와 테이블에 대해 작업할 수 있는 권한을 부여합니다.\n",
        "\n",
        "##### 세부 내용:\n",
        "1. MySQL에 root 사용자로 로그인:\n",
        "\n",
        "- mysql -u root -p 명령어를 사용하여 MySQL에 로그인합니다.\n",
        "- 이 명령어는 MySQL의 관리자 계정인 root로 로그인하며, 비밀번호를 입력해야 합니다.\n",
        "\n",
        "2. 새로운 MySQL 사용자 생성:\n",
        "\n",
        "- CREATE USER 'username'@'localhost' IDENTIFIED BY 'password'; 명령어를 사용하여 새로운 사용자를 생성합니다.\n",
        "- 예시: 붕어빵 가게의 데이터베이스 관리를 위해 fishbread_user라는 사용자를 생성합니다.\n",
        "- username에는 새 사용자의 이름, password에는 사용자의 비밀번호를 입력합니다.\n",
        "\n",
        "3. 사용자에게 권한 부여:\n",
        "\n",
        "- GRANT ALL PRIVILEGES ON *.* TO 'username'@'localhost'; 명령어를 사용하여 새 사용자에게 모든 데이터베이스와 테이블에 대한 모든 권한을 부여합니다.\n",
        "- 권한을 부여한 후, FLUSH PRIVILEGES; 명령어를 사용하여 변경된 권한을 적용합니다.\n",
        "\n",
        "4. 부여된 권한 확인:\n",
        "\n",
        "- SHOW GRANTS FOR 'username'@'localhost'; 명령어를 사용하여 새 사용자에게 부여된 권한을 확인합니다.\n",
        "- SHOW GRANTS; 명령어를 사용하여 현재 로그인한 사용자의 권한을 확인할 수도 있습니다."
      ]
    },
    {
      "cell_type": "markdown",
      "metadata": {
        "id": "Ov-OLI_IJjq6"
      },
      "source": [
        "#### 과제 2: 데이터베이스와 테이블 생성\n",
        "목표: 사용자와 주문 정보를 저장할 데이터베이스와 테이블을 생성합니다.\n",
        "\n",
        "개념 설명:\n",
        "\n",
        "- 데이터베이스: 데이터를 체계적으로 관리하는 공간입니다.\n",
        "- 테이블: 데이터베이스 내에서 데이터를 저장하는 구조입니다.\n",
        "\n",
        "데이터베이스 및 테이블 설계\n",
        "1. 데이터베이스 생성:\n",
        "\n",
        "- CREATE DATABASE fishbread_db; 명령어를 사용하여 붕어빵 가게의 데이터를 저장할 데이터베이스를 생성합니다.\n",
        "- USE fishbread_db; 명령어를 사용하여 생성한 데이터베이스를 사용합니다.\n",
        "\n",
        "2. users 테이블 생성:\n",
        "\n",
        "- 사용자 정보를 저장하는 테이블을 생성합니다.\n",
        "- user_id(INT, PRIMARY KEY, AUTO_INCREMENT): 사용자의 고유 ID\n",
        "- name(VARCHAR(255), NOT NULL): 사용자 이름\n",
        "- age(INT, NOT NULL): 사용자 나이\n",
        "- email(VARCHAR(100), UNIQUE): 사용자 이메일\n",
        "- is_business\n",
        "\n",
        "3. orders 테이블 생성:\n",
        "\n",
        "- 주문 정보를 저장하는 테이블을 생성합니다.\n",
        "- order_id(INT, PRIMARY KEY, AUTO_INCREMENT): 주문의 고유 ID\n",
        "- user_id(INT, FOREIGN KEY): 주문한 사용자의 ID (users 테이블의 user_id와 참조 관계)\n",
        "- order_date(DATE): 주문 날짜\n",
        "- amount(DECIMAL(10, 2)): 주문 금액\n",
        "\n",
        "4. inventory 테이블 생성:\n",
        "\n",
        "- 재고 정보를 저장하는 테이블을 생성합니다.\n",
        "- item_id(INT, PRIMARY KEY, AUTO_INCREMENT): 재고 항목의 고유 ID\n",
        "- item_name(VARCHAR(255), NOT NULL): 재고 항목 이름\n",
        "- quantity(INT, NOT NULL): 재고 수량\n",
        "\n",
        "5. sales 테이블 생성:\n",
        "\n",
        "- 판매 정보를 저장하는 테이블을 생성합니다.\n",
        "- sale_id(INT, PRIMARY KEY, AUTO_INCREMENT): 판매의 고유 ID\n",
        "- order_id(INT, FOREIGN KEY): 주문 ID (orders 테이블의 order_id와 참조 관계)\n",
        "- item_id(INT, FOREIGN KEY): 재고 항목의 ID (inventory 테이블의 item_id와 참조 관계)\n",
        "- quantity_sold(INT, NOT NULL): 판매된 수량\n",
        "\n",
        "6. daily_sales 테이블 생성:\n",
        "\n",
        "- 일 매출 정보를 저장하는 테이블을 생성합니다.\n",
        "- date(DATE, PRIMARY KEY): 날짜\n",
        "- total_sales(DECIMAL(10, 2), NOT NULL): 총 매출"
      ]
    },
    {
      "cell_type": "markdown",
      "metadata": {
        "id": "bvCpcPwYJjq6"
      },
      "source": []
    }
  ],
  "metadata": {
    "language_info": {
      "name": "python"
    },
    "colab": {
      "provenance": [],
      "include_colab_link": true
    }
  },
  "nbformat": 4,
  "nbformat_minor": 0
}