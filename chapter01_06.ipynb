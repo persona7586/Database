{
  "cells": [
    {
      "cell_type": "markdown",
      "metadata": {
        "id": "view-in-github",
        "colab_type": "text"
      },
      "source": [
        "<a href=\"https://colab.research.google.com/github/persona7586/Database/blob/main/chapter01_06.ipynb\" target=\"_parent\"><img src=\"https://colab.research.google.com/assets/colab-badge.svg\" alt=\"Open In Colab\"/></a>"
      ]
    },
    {
      "cell_type": "markdown",
      "metadata": {
        "id": "GmbjDvpOIlMU"
      },
      "source": [
        "[문제1]\n",
        "\n",
        "DBMS 특징이 아닌것을 골라주세요\n",
        "\n",
        "- 데이터 무결성\n",
        "- 데이터 보안성\n",
        "- 데이터 일관성\n",
        "- 데이터 의존성"
      ]
    },
    {
      "cell_type": "markdown",
      "metadata": {
        "id": "MiL7UKVaIlMW"
      },
      "source": [
        "정답 :데이터 의존성"
      ]
    },
    {
      "cell_type": "markdown",
      "source": [
        "DBMS(Database Management System)\n",
        "- 데이터 베이스 관리 시스템\n",
        "- 데이터의 저장, 검색, 업데이트, 관리를 위한 소프트웨어\n",
        "- 대용량 데이터의 효율적인 처리와 접근 가능\n",
        "- 데이터의 무결성, 보안, 백업 및 복구 기능 제공\n",
        "- 데이터 독립성 : 물리적, 논리적 독립성\n",
        "- 데이터 무결성 : 데이터의 유효성 검사를 통해 데이터 무결성을 구현\n",
        "- 데이터 보안성 : 계정관리, 권한 설정\n",
        "- 데이터 일관성 : 데이터의 불일치성을 배체"
      ],
      "metadata": {
        "id": "NGOpVoxRKjIU"
      }
    },
    {
      "cell_type": "markdown",
      "metadata": {
        "id": "SHuIb8OEIlMX"
      },
      "source": [
        "[문제2]\n",
        "\n",
        "아래 설명에 해당하는 데이터 모델을 골라주세요\n",
        "\n",
        "```\n",
        "표 형태로 데이터를 저장하고 SQL을 사용하여 데이터를 조작합니다.\n",
        "가장 널리 사용되는 데이터 모델 중 하나이며 RDBMS에서 지원합니다.\n",
        "```\n",
        "\n",
        "- 관계형 데이터 모델\n",
        "- 객체 지향형 데이터 모델\n",
        "- 계층형 데이터 모델\n",
        "- 네트워크형 데이터 모델"
      ]
    },
    {
      "cell_type": "markdown",
      "metadata": {
        "id": "SlWVW_eSIlMY"
      },
      "source": [
        "정답 : 관계형 데이터 모델"
      ]
    },
    {
      "cell_type": "markdown",
      "source": [
        "1. 관계형 데이터 모델\n",
        "- 표 형태로 데이터를 저장하고 SQL(Structured Query Language)을 사용하여 데이터를 조작\n",
        "- 가장 널리 사용되는 데이터 모델 중 하나\n",
        "- 관계형 데이터 베이스 시스템(RDBMS)에서 지원\n",
        "2. 객체 지향형 데이터 모델\n",
        "- 데이터와 해당 동작을 함께 캡슐화\n",
        "- 객체 간의 관계를 강조\n",
        "- 소프트웨어 개발에서 객체 지향 프로그래밍 언어에서 주로 사용\n",
        "3. 계층형 데이터 모델\n",
        "- 정보를 디렉터리 형태로 분류\n",
        "- 상위 레코드와 하위 레코드 간의 부모-자식 관계가 정의 되어 있음\n",
        "- 트리 구조로 표현되는 조직도나 파일 시스템과 같은 계층적인 데이터에 유용\n",
        "- 복잡한 구조를 묘사할 수 없다는 단점이 있음\n",
        "4. 네트워크형 데이터 모델\n",
        "- 계층형 데이터 베이스의 단점을 보완하기 위해 자료간 연결(link)을 망(network)형태로 자유롭게 연결할 수 있도록 개선\n",
        "- 각 레코드 간의 관계를 명시적으로 정의\n",
        "- 주로 복잡한 데이터 관계를 다루는 데 사용\n",
        "- 자료구조 변경시 디스크에 저장된 데이터의 물리적 구조를 재구성해야 하는 번거로움이 존재\n"
      ],
      "metadata": {
        "id": "CV5kytXsYdjE"
      }
    },
    {
      "cell_type": "markdown",
      "metadata": {
        "id": "6r1YrQyDIlMY"
      },
      "source": [
        "[문제3]\n",
        "\n",
        "데이터베이스의 구조를 정의하는 것을 골라주세요\n",
        "\n",
        "- 인덱스\n",
        "- 트랜잭션\n",
        "- 스키마\n",
        "- SQL"
      ]
    },
    {
      "cell_type": "markdown",
      "metadata": {
        "id": "HgRsaC5lIlMZ"
      },
      "source": [
        "정답 :스키마"
      ]
    },
    {
      "cell_type": "markdown",
      "source": [
        "1. **스키마(Schema)**: 데이터베이스의 구조를 정의하는 것입니다. 스키마는 테이블, 행, 열, 인덱스, 관계 등의 데이터베이스 구조를 명시합니다.\n",
        "2. **SQL(Structured Query Language)**: 데이터베이스에서 데이터를 관리하기 위해 사용되는 표준 프로그래밍 언어입니다. SQL을 사용하여 데이터베이스에 질의, 업데이트, 삭제 등의 작업을 수행할 수 있습니다.\n",
        "3. **인덱스(Index)**: 데이터베이스에서 데이터 검색 속도를 빠르게 하기 위해 사용되는 객체입니다. 인덱스는 특정 열에 대한 포인터를 포함하여 데이터 검색 시간을 단축시킵니다.\n",
        "4. **데이터베이스 관리 시스템(DBMS)**: 데이터베이스를 생성하고 관리하는 소프트웨어입니다. 예를 들어, MySQL, PostgreSQL, Oracle, Microsoft SQL Server 등이 있습니다.\n",
        "5. **트랜잭션(Transaction)**: 데이터베이스의 상태를 변화시키는 하나의 작업 단위입니다. 트랜잭션은 데이터 무결성을 유지하는 데 중요한 역할을 합니다."
      ],
      "metadata": {
        "id": "-Dt4foVZYrsZ"
      }
    },
    {
      "cell_type": "markdown",
      "metadata": {
        "id": "yKNeYP4tIlMZ"
      },
      "source": [
        "[문제4]\n",
        "\n",
        "RDBMS의 대표적인 단점이 아닌것을 골라주세요\n",
        "\n",
        "- 실시간 데이터 처리의 어려움\n",
        "- 운영 비용이 비쌈\n",
        "- 테이블 join의 복잡성\n",
        "- 미리 만들어진 스키마 구조를 변경 또는 확장하는데 어려움\n",
        "- 대량의 데이터를 저장하는게 어려움"
      ]
    },
    {
      "cell_type": "markdown",
      "metadata": {
        "id": "8JYRLkETIlMa"
      },
      "source": [
        "정답 :대량의 데이터를 저장하는게 어려움"
      ]
    },
    {
      "cell_type": "markdown",
      "source": [
        "**단점:**\n",
        "\n",
        "1. **성능:** 대용량 데이터 처리나 복잡한 쿼리에 대한 성능이 다른 모델에 비해 낮을 수 있습니다.\n",
        "2. **확장 어려움:** 수직적 확장이 한계가 있고, 수평적 확장은 복잡하고 비용이 많이 들 수 있습니다.\n",
        "3. **유연성 부족:** 스키마 변경이 어려워서 요구사항 변경에 대응하기 어려울 수 있습니다.\n",
        "4. **복잡한 조인:** 많은 테이블 간의 조인은 성능에 부정적인 영향을 미칠 수 있습니다.\n",
        "5. **고비용:** 서버 하드웨어 및 라이선스 비용이 상대적으로 높을 수 있습니다.\n",
        "\n",
        "RDBMS는 데이터의 구조화와 안정성 측면에서 강력하며, 일반적인 업무 응용에 적합합니다. 그러나 성능이나 유연성 등의 측면에서 고려해야 할 부분도 있습니다."
      ],
      "metadata": {
        "id": "Izo1zW-xjJhz"
      }
    },
    {
      "cell_type": "markdown",
      "metadata": {
        "id": "dCCDvv3GIlMa"
      },
      "source": [
        "[문제5]\n",
        "\n",
        "RDBMS의 구성 요소 중 고유한 값을 나타내는 것을 골라주세요\n",
        "\n",
        "- column\n",
        "- row\n",
        "- FK\n",
        "- PK"
      ]
    },
    {
      "cell_type": "markdown",
      "metadata": {
        "id": "cTk5JiABIlMb"
      },
      "source": [
        "정답 : PK"
      ]
    },
    {
      "cell_type": "markdown",
      "source": [
        "1. **데이터베이스(Database)**: 구조화된 데이터의 집합입니다. 데이터베이스는 데이터를 저장, 검색, 수정, 삭제할 수 있게 해주는 시스템입니다.\n",
        "2. **테이블(Table)**: 데이터베이스 내에서 데이터가 저장되는 장소입니다. 테이블은 행(Row)과 열(Column)의 격자 형태로 구성됩니다.\n",
        "3. **행(Row)/레코드(Record)**: 테이블 내의 개별 데이터 항목을 나타냅니다. 각 행은 하나의 데이터 항목 또는 개체를 나타냅니다.\n",
        "4. **열(Column)/필드(Field)**: 테이블 내의 특정 카테고리 또는 데이터 유형을 나타냅니다.\n",
        "\n",
        "1. **기본 키(Primary Key)**: 테이블 내의 각 행을 고유하게 식별하는 열입니다. 기본 키 값은 유일해야 하며, 각 행마다 다른 값을 가져야 합니다.\n",
        "2. **외래 키(Foreign Key)**: 다른 테이블의 기본 키를 참조하는 열입니다. 외래 키는 두 테이블 간의 관계를 설정하는 데 사용됩니다."
      ],
      "metadata": {
        "id": "wYfEFNg1kJM4"
      }
    },
    {
      "cell_type": "markdown",
      "metadata": {
        "id": "CVNJLJc0IlMb"
      },
      "source": [
        "[문제6]\n",
        "\n",
        "대표적인 RDBMS가 아닌것을 골라주세요\n",
        "\n",
        "- SQLite\n",
        "- Oracle Database\n",
        "- PostgreSQL\n",
        "- Firebase"
      ]
    },
    {
      "cell_type": "markdown",
      "metadata": {
        "id": "eeaytJ-wIlMb"
      },
      "source": [
        "정답 : Firebase"
      ]
    },
    {
      "cell_type": "markdown",
      "source": [
        "1. **MySQL:**\n",
        "    - 개방 소스 RDBMS로서 가장 인기 있는 데이터베이스 중 하나입니다. 다양한 환경에서 사용되며, 웹 애플리케이션부터 대규모 엔터프라이즈 시스템에 이르기까지 다양한 용도로 활용됩니다.\n",
        "2. **PostgreSQL:**\n",
        "    - 객체 관계형 데이터베이스 시스템으로, 확장 가능하고 풍부한 기능을 제공합니다. ACID 호환성 및 다양한 데이터 유형을 지원하여 고급 데이터베이스 요구에 적합합니다.\n",
        "3. **Microsoft SQL Server:**\n",
        "    - Microsoft에서 제공하는 RDBMS로, Windows 기반 환경에서 주로 사용됩니다. 엔터프라이즈 급 데이터베이스 솔루션으로 개발 및 관리에 용이합니다.\n",
        "4. **Oracle Database:**\n",
        "    - 오라클이 개발한 대규모 엔터프라이즈용 RDBMS입니다. 뛰어난 성능과 안정성, 확장성을 제공하여 대부분의 산업 분야에서 사용됩니다.\n",
        "5. **SQLite:**\n",
        "    - 경량이면서도 서버 없이 로컬에서 사용할 수 있는 RDBMS입니다. 임베디드 시스템이나 모바일 애플리케이션에서 많이 활용됩니다.\n",
        "\n",
        "이 중 MySQL과 PostgreSQL는 오픈 소스로 무료로 사용할 수 있어 커뮤니티에서도 널리 사용되고 있습니다. Microsoft SQL Server와 Oracle Database는 주로 기업 환경에서 사용되며, 각각의 특정 용도나 환경에 따라 선택될 수 있습니다. SQLite는 경량 환경이나 모바일 애플리케이션에서 간단한 데이터베이스 요구에 활용됩니다."
      ],
      "metadata": {
        "id": "HS-YSH6-la-T"
      }
    },
    {
      "cell_type": "markdown",
      "metadata": {
        "id": "ANoK8eZkIlMb"
      },
      "source": [
        "[문제7]\n",
        "\n",
        "물리적 스키마란 무엇을 의마하는지 골라주세요\n",
        "\n",
        "- 데이터베이스 논리적 구조\n",
        "- 데이터베이스 물리적 저장 방식\n",
        "- 데이터베이스 사용자 뷰\n",
        "- 데이터베이스의 엑세스 권한"
      ]
    },
    {
      "cell_type": "markdown",
      "metadata": {
        "id": "gMeDCatiIlMb"
      },
      "source": [
        "정답 : 데이터베이스 물리적 저장 방식"
      ]
    },
    {
      "cell_type": "markdown",
      "source": [
        "논리적 스키마:\n",
        "\n",
        "테이블 간의 관계, 각 테이블의 속성과 데이터 타입, 제약 조건 등\n",
        "\n",
        "물리적 스키마:\n",
        "\n",
        "데이터의 실제 저장과 관련이 있는 부분으로, 디스크에 저장하는 방식 등\n",
        "\n",
        "스키마가 있다면 동일한 구조의 데이터베이스를 쉽게 만들 수 있습니다. 데이터베이스의 백업과는 달리 스키마는 데이터의 구조만을 정의하므로, 데이터 구조를 동일하게 만드는 데 사용됩니다."
      ],
      "metadata": {
        "id": "4u8ATTmLl-pW"
      }
    },
    {
      "cell_type": "markdown",
      "metadata": {
        "id": "sCb-WMpRIlMc"
      },
      "source": [
        "[문제8]\n",
        "\n",
        "SQL 언어에 해당하지 않는 것을 골라주세요\n",
        "\n",
        "- 데이터 처리 언어(DML)\n",
        "- 데이터 제어 언어(DCL)\n",
        "- 데이터 연결 언어(DCL)\n",
        "- 데이터 정의 언어(DDL)"
      ]
    },
    {
      "cell_type": "markdown",
      "metadata": {
        "id": "Jza_bXILIlMc"
      },
      "source": [
        "정답 : 데이터 연결 언어(DCL)"
      ]
    },
    {
      "cell_type": "markdown",
      "source": [
        "SQL(Structured Query Language)\n",
        "- 관계형 데이터베이스에서 데이터를 정의, 처리, 제어하는데 사용되는 표준화된 언어\n",
        "- 주로 데이터베이스 관리 시스템(DBMS)과의 상호 작용을 위해 설계\n",
        "\n",
        "1. 데이터 정의 언어 (DDL - Data Definition Language)\n",
        "- 데이터베이스의 구조를 정의하고 관리하는 데 사용\n",
        "2. 데이터 처리 언어 (DML - Data Manipulation Language)\n",
        "- 데이터를 검색, 삽입, 수정, 삭제하는 데 사용\n",
        "3. 데이터 제어 언어 (DCL - Data Control Language)\n",
        "- 데이터베이스에 대한 액세스를 제어하는 데 사용\n"
      ],
      "metadata": {
        "id": "JYn5-jRNl_aj"
      }
    },
    {
      "cell_type": "markdown",
      "metadata": {
        "id": "BMtQX16zIlMc"
      },
      "source": [
        "[문제9]\n",
        "\n",
        "데이터 처리 언어(DML)의 설명으로 틀린것을 골라주세요\n",
        "\n",
        "- select : 데이터베이스에서 정보를 검색\n",
        "- insert : 새로운 데이터를 테이블에 삽입\n",
        "- count : 테이블의 데이터 개수 확인\n",
        "- delete : 테이블에서 데이터를 삭제"
      ]
    },
    {
      "cell_type": "markdown",
      "metadata": {
        "id": "aY6MI-GvIlMc"
      },
      "source": [
        "정답 :count : 테이블의 데이터 개수 확인"
      ]
    },
    {
      "cell_type": "markdown",
      "source": [
        "데이터 처리 언어 (DML - Data Manipulation Language)\n",
        "DML은 데이터를 검색, 삽입, 수정, 삭제하는 데 사용됩니다.  \n",
        "SELECT: 데이터베이스에서 정보를 검색합니다.  \n",
        "INSERT: 새로운 데이터를 테이블에 삽입합니다.  \n",
        "UPDATE: 테이블의 기존 데이터를 수정합니다.  \n",
        "DELETE: 테이블에서 데이터를 삭제합니다.  "
      ],
      "metadata": {
        "id": "cgILeBJVmAPA"
      }
    }
  ],
  "metadata": {
    "language_info": {
      "name": "python"
    },
    "colab": {
      "provenance": [],
      "include_colab_link": true
    }
  },
  "nbformat": 4,
  "nbformat_minor": 0
}